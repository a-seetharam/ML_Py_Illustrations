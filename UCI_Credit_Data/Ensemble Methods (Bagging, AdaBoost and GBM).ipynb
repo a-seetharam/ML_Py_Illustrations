{
 "cells": [
  {
   "cell_type": "markdown",
   "metadata": {
    "collapsed": true
   },
   "source": [
    "### Building Ensemble Models using Adaptive Boosting and Gradient Boosting Machines"
   ]
  },
  {
   "cell_type": "code",
   "execution_count": null,
   "metadata": {},
   "outputs": [],
   "source": []
  },
  {
   "cell_type": "code",
   "execution_count": 1,
   "metadata": {
    "collapsed": true
   },
   "outputs": [],
   "source": [
    "#load the most commonly used libraries\n",
    "import numpy as np\n",
    "import pandas as pd\n",
    "import matplotlib.pyplot as plt\n",
    "import seaborn as sns\n",
    "%matplotlib inline"
   ]
  },
  {
   "cell_type": "code",
   "execution_count": 2,
   "metadata": {},
   "outputs": [
    {
     "data": {
      "text/html": [
       "<div>\n",
       "<style scoped>\n",
       "    .dataframe tbody tr th:only-of-type {\n",
       "        vertical-align: middle;\n",
       "    }\n",
       "\n",
       "    .dataframe tbody tr th {\n",
       "        vertical-align: top;\n",
       "    }\n",
       "\n",
       "    .dataframe thead th {\n",
       "        text-align: right;\n",
       "    }\n",
       "</style>\n",
       "<table border=\"1\" class=\"dataframe\">\n",
       "  <thead>\n",
       "    <tr style=\"text-align: right;\">\n",
       "      <th></th>\n",
       "      <th>LIMIT_BAL</th>\n",
       "      <th>SEX</th>\n",
       "      <th>EDUCATION</th>\n",
       "      <th>MARRIAGE</th>\n",
       "      <th>AGE</th>\n",
       "      <th>PAY_0</th>\n",
       "      <th>PAY_2</th>\n",
       "      <th>PAY_3</th>\n",
       "      <th>PAY_4</th>\n",
       "      <th>PAY_5</th>\n",
       "      <th>...</th>\n",
       "      <th>BILL_AMT4</th>\n",
       "      <th>BILL_AMT5</th>\n",
       "      <th>BILL_AMT6</th>\n",
       "      <th>PAY_AMT1</th>\n",
       "      <th>PAY_AMT2</th>\n",
       "      <th>PAY_AMT3</th>\n",
       "      <th>PAY_AMT4</th>\n",
       "      <th>PAY_AMT5</th>\n",
       "      <th>PAY_AMT6</th>\n",
       "      <th>default payment next month</th>\n",
       "    </tr>\n",
       "    <tr>\n",
       "      <th>ID</th>\n",
       "      <th></th>\n",
       "      <th></th>\n",
       "      <th></th>\n",
       "      <th></th>\n",
       "      <th></th>\n",
       "      <th></th>\n",
       "      <th></th>\n",
       "      <th></th>\n",
       "      <th></th>\n",
       "      <th></th>\n",
       "      <th></th>\n",
       "      <th></th>\n",
       "      <th></th>\n",
       "      <th></th>\n",
       "      <th></th>\n",
       "      <th></th>\n",
       "      <th></th>\n",
       "      <th></th>\n",
       "      <th></th>\n",
       "      <th></th>\n",
       "      <th></th>\n",
       "    </tr>\n",
       "  </thead>\n",
       "  <tbody>\n",
       "    <tr>\n",
       "      <th>1</th>\n",
       "      <td>20000</td>\n",
       "      <td>2</td>\n",
       "      <td>2</td>\n",
       "      <td>1</td>\n",
       "      <td>24</td>\n",
       "      <td>2</td>\n",
       "      <td>2</td>\n",
       "      <td>-1</td>\n",
       "      <td>-1</td>\n",
       "      <td>-2</td>\n",
       "      <td>...</td>\n",
       "      <td>0</td>\n",
       "      <td>0</td>\n",
       "      <td>0</td>\n",
       "      <td>0</td>\n",
       "      <td>689</td>\n",
       "      <td>0</td>\n",
       "      <td>0</td>\n",
       "      <td>0</td>\n",
       "      <td>0</td>\n",
       "      <td>1</td>\n",
       "    </tr>\n",
       "    <tr>\n",
       "      <th>2</th>\n",
       "      <td>120000</td>\n",
       "      <td>2</td>\n",
       "      <td>2</td>\n",
       "      <td>2</td>\n",
       "      <td>26</td>\n",
       "      <td>-1</td>\n",
       "      <td>2</td>\n",
       "      <td>0</td>\n",
       "      <td>0</td>\n",
       "      <td>0</td>\n",
       "      <td>...</td>\n",
       "      <td>3272</td>\n",
       "      <td>3455</td>\n",
       "      <td>3261</td>\n",
       "      <td>0</td>\n",
       "      <td>1000</td>\n",
       "      <td>1000</td>\n",
       "      <td>1000</td>\n",
       "      <td>0</td>\n",
       "      <td>2000</td>\n",
       "      <td>1</td>\n",
       "    </tr>\n",
       "    <tr>\n",
       "      <th>3</th>\n",
       "      <td>90000</td>\n",
       "      <td>2</td>\n",
       "      <td>2</td>\n",
       "      <td>2</td>\n",
       "      <td>34</td>\n",
       "      <td>0</td>\n",
       "      <td>0</td>\n",
       "      <td>0</td>\n",
       "      <td>0</td>\n",
       "      <td>0</td>\n",
       "      <td>...</td>\n",
       "      <td>14331</td>\n",
       "      <td>14948</td>\n",
       "      <td>15549</td>\n",
       "      <td>1518</td>\n",
       "      <td>1500</td>\n",
       "      <td>1000</td>\n",
       "      <td>1000</td>\n",
       "      <td>1000</td>\n",
       "      <td>5000</td>\n",
       "      <td>0</td>\n",
       "    </tr>\n",
       "    <tr>\n",
       "      <th>4</th>\n",
       "      <td>50000</td>\n",
       "      <td>2</td>\n",
       "      <td>2</td>\n",
       "      <td>1</td>\n",
       "      <td>37</td>\n",
       "      <td>0</td>\n",
       "      <td>0</td>\n",
       "      <td>0</td>\n",
       "      <td>0</td>\n",
       "      <td>0</td>\n",
       "      <td>...</td>\n",
       "      <td>28314</td>\n",
       "      <td>28959</td>\n",
       "      <td>29547</td>\n",
       "      <td>2000</td>\n",
       "      <td>2019</td>\n",
       "      <td>1200</td>\n",
       "      <td>1100</td>\n",
       "      <td>1069</td>\n",
       "      <td>1000</td>\n",
       "      <td>0</td>\n",
       "    </tr>\n",
       "    <tr>\n",
       "      <th>5</th>\n",
       "      <td>50000</td>\n",
       "      <td>1</td>\n",
       "      <td>2</td>\n",
       "      <td>1</td>\n",
       "      <td>57</td>\n",
       "      <td>-1</td>\n",
       "      <td>0</td>\n",
       "      <td>-1</td>\n",
       "      <td>0</td>\n",
       "      <td>0</td>\n",
       "      <td>...</td>\n",
       "      <td>20940</td>\n",
       "      <td>19146</td>\n",
       "      <td>19131</td>\n",
       "      <td>2000</td>\n",
       "      <td>36681</td>\n",
       "      <td>10000</td>\n",
       "      <td>9000</td>\n",
       "      <td>689</td>\n",
       "      <td>679</td>\n",
       "      <td>0</td>\n",
       "    </tr>\n",
       "  </tbody>\n",
       "</table>\n",
       "<p>5 rows × 24 columns</p>\n",
       "</div>"
      ],
      "text/plain": [
       "    LIMIT_BAL  SEX  EDUCATION  MARRIAGE  AGE  PAY_0  PAY_2  PAY_3  PAY_4  \\\n",
       "ID                                                                         \n",
       "1       20000    2          2         1   24      2      2     -1     -1   \n",
       "2      120000    2          2         2   26     -1      2      0      0   \n",
       "3       90000    2          2         2   34      0      0      0      0   \n",
       "4       50000    2          2         1   37      0      0      0      0   \n",
       "5       50000    1          2         1   57     -1      0     -1      0   \n",
       "\n",
       "    PAY_5             ...              BILL_AMT4  BILL_AMT5  BILL_AMT6  \\\n",
       "ID                    ...                                                \n",
       "1      -2             ...                      0          0          0   \n",
       "2       0             ...                   3272       3455       3261   \n",
       "3       0             ...                  14331      14948      15549   \n",
       "4       0             ...                  28314      28959      29547   \n",
       "5       0             ...                  20940      19146      19131   \n",
       "\n",
       "    PAY_AMT1  PAY_AMT2  PAY_AMT3  PAY_AMT4  PAY_AMT5  PAY_AMT6  \\\n",
       "ID                                                               \n",
       "1          0       689         0         0         0         0   \n",
       "2          0      1000      1000      1000         0      2000   \n",
       "3       1518      1500      1000      1000      1000      5000   \n",
       "4       2000      2019      1200      1100      1069      1000   \n",
       "5       2000     36681     10000      9000       689       679   \n",
       "\n",
       "    default payment next month  \n",
       "ID                              \n",
       "1                            1  \n",
       "2                            1  \n",
       "3                            0  \n",
       "4                            0  \n",
       "5                            0  \n",
       "\n",
       "[5 rows x 24 columns]"
      ]
     },
     "execution_count": 2,
     "metadata": {},
     "output_type": "execute_result"
    }
   ],
   "source": [
    "rdf = pd.read_excel('Default of CC clients.xls', header=1, index_col=\"ID\")\n",
    "rdf.head()"
   ]
  },
  {
   "cell_type": "code",
   "execution_count": 3,
   "metadata": {
    "collapsed": true
   },
   "outputs": [],
   "source": [
    "#Some times reading from excel can be finicky. \n",
    "#for files for which the header is not read-in properly, modify as required and run:\n",
    "#columns = rdf.iloc[0, :]\n",
    "#col_names = []\n",
    "\n",
    " #for j in range (1,24):\n",
    "  #      col_names.append((columns.iloc[j]))\n",
    "        \n",
    "#col_names.insert(0, 'ID')\n",
    "#col_names\n",
    "#rdf.columns = [col_names]"
   ]
  },
  {
   "cell_type": "code",
   "execution_count": 4,
   "metadata": {},
   "outputs": [
    {
     "data": {
      "text/plain": [
       "False"
      ]
     },
     "execution_count": 4,
     "metadata": {},
     "output_type": "execute_result"
    }
   ],
   "source": [
    "#Let's check for missing values\n",
    "rdf.isnull().values.any()"
   ]
  },
  {
   "cell_type": "code",
   "execution_count": 5,
   "metadata": {},
   "outputs": [
    {
     "data": {
      "text/plain": [
       "LIMIT_BAL                     0\n",
       "SEX                           0\n",
       "EDUCATION                     0\n",
       "MARRIAGE                      0\n",
       "AGE                           0\n",
       "PAY_0                         0\n",
       "PAY_2                         0\n",
       "PAY_3                         0\n",
       "PAY_4                         0\n",
       "PAY_5                         0\n",
       "PAY_6                         0\n",
       "BILL_AMT1                     0\n",
       "BILL_AMT2                     0\n",
       "BILL_AMT3                     0\n",
       "BILL_AMT4                     0\n",
       "BILL_AMT5                     0\n",
       "BILL_AMT6                     0\n",
       "PAY_AMT1                      0\n",
       "PAY_AMT2                      0\n",
       "PAY_AMT3                      0\n",
       "PAY_AMT4                      0\n",
       "PAY_AMT5                      0\n",
       "PAY_AMT6                      0\n",
       "default payment next month    0\n",
       "dtype: int64"
      ]
     },
     "execution_count": 5,
     "metadata": {},
     "output_type": "execute_result"
    }
   ],
   "source": [
    "rdf.isnull().sum()"
   ]
  },
  {
   "cell_type": "code",
   "execution_count": 6,
   "metadata": {},
   "outputs": [
    {
     "name": "stdout",
     "output_type": "stream",
     "text": [
      "<class 'pandas.core.frame.DataFrame'>\n",
      "Int64Index: 30000 entries, 1 to 30000\n",
      "Data columns (total 24 columns):\n",
      "LIMIT_BAL                     30000 non-null int64\n",
      "SEX                           30000 non-null int64\n",
      "EDUCATION                     30000 non-null int64\n",
      "MARRIAGE                      30000 non-null int64\n",
      "AGE                           30000 non-null int64\n",
      "PAY_0                         30000 non-null int64\n",
      "PAY_2                         30000 non-null int64\n",
      "PAY_3                         30000 non-null int64\n",
      "PAY_4                         30000 non-null int64\n",
      "PAY_5                         30000 non-null int64\n",
      "PAY_6                         30000 non-null int64\n",
      "BILL_AMT1                     30000 non-null int64\n",
      "BILL_AMT2                     30000 non-null int64\n",
      "BILL_AMT3                     30000 non-null int64\n",
      "BILL_AMT4                     30000 non-null int64\n",
      "BILL_AMT5                     30000 non-null int64\n",
      "BILL_AMT6                     30000 non-null int64\n",
      "PAY_AMT1                      30000 non-null int64\n",
      "PAY_AMT2                      30000 non-null int64\n",
      "PAY_AMT3                      30000 non-null int64\n",
      "PAY_AMT4                      30000 non-null int64\n",
      "PAY_AMT5                      30000 non-null int64\n",
      "PAY_AMT6                      30000 non-null int64\n",
      "default payment next month    30000 non-null int64\n",
      "dtypes: int64(24)\n",
      "memory usage: 5.7 MB\n"
     ]
    }
   ],
   "source": [
    "#Let's check if the datatypes are being recognized as expected\n",
    "rdf.info()"
   ]
  },
  {
   "cell_type": "code",
   "execution_count": 7,
   "metadata": {
    "collapsed": true
   },
   "outputs": [],
   "source": [
    "#The name of the last column looks to be long and cumbersome to type. Let's rename it to be more efficient\n",
    "\n",
    "rdf.rename(columns={'default payment next month': 'default'}, inplace=True)"
   ]
  },
  {
   "cell_type": "code",
   "execution_count": 8,
   "metadata": {},
   "outputs": [
    {
     "data": {
      "text/html": [
       "<div>\n",
       "<style scoped>\n",
       "    .dataframe tbody tr th:only-of-type {\n",
       "        vertical-align: middle;\n",
       "    }\n",
       "\n",
       "    .dataframe tbody tr th {\n",
       "        vertical-align: top;\n",
       "    }\n",
       "\n",
       "    .dataframe thead th {\n",
       "        text-align: right;\n",
       "    }\n",
       "</style>\n",
       "<table border=\"1\" class=\"dataframe\">\n",
       "  <thead>\n",
       "    <tr style=\"text-align: right;\">\n",
       "      <th></th>\n",
       "      <th>count</th>\n",
       "      <th>mean</th>\n",
       "      <th>std</th>\n",
       "      <th>min</th>\n",
       "      <th>25%</th>\n",
       "      <th>50%</th>\n",
       "      <th>75%</th>\n",
       "      <th>max</th>\n",
       "    </tr>\n",
       "  </thead>\n",
       "  <tbody>\n",
       "    <tr>\n",
       "      <th>LIMIT_BAL</th>\n",
       "      <td>30000.0</td>\n",
       "      <td>167484.322667</td>\n",
       "      <td>129747.661567</td>\n",
       "      <td>10000.0</td>\n",
       "      <td>50000.00</td>\n",
       "      <td>140000.0</td>\n",
       "      <td>240000.00</td>\n",
       "      <td>1000000.0</td>\n",
       "    </tr>\n",
       "    <tr>\n",
       "      <th>SEX</th>\n",
       "      <td>30000.0</td>\n",
       "      <td>1.603733</td>\n",
       "      <td>0.489129</td>\n",
       "      <td>1.0</td>\n",
       "      <td>1.00</td>\n",
       "      <td>2.0</td>\n",
       "      <td>2.00</td>\n",
       "      <td>2.0</td>\n",
       "    </tr>\n",
       "    <tr>\n",
       "      <th>EDUCATION</th>\n",
       "      <td>30000.0</td>\n",
       "      <td>1.853133</td>\n",
       "      <td>0.790349</td>\n",
       "      <td>0.0</td>\n",
       "      <td>1.00</td>\n",
       "      <td>2.0</td>\n",
       "      <td>2.00</td>\n",
       "      <td>6.0</td>\n",
       "    </tr>\n",
       "    <tr>\n",
       "      <th>MARRIAGE</th>\n",
       "      <td>30000.0</td>\n",
       "      <td>1.551867</td>\n",
       "      <td>0.521970</td>\n",
       "      <td>0.0</td>\n",
       "      <td>1.00</td>\n",
       "      <td>2.0</td>\n",
       "      <td>2.00</td>\n",
       "      <td>3.0</td>\n",
       "    </tr>\n",
       "    <tr>\n",
       "      <th>AGE</th>\n",
       "      <td>30000.0</td>\n",
       "      <td>35.485500</td>\n",
       "      <td>9.217904</td>\n",
       "      <td>21.0</td>\n",
       "      <td>28.00</td>\n",
       "      <td>34.0</td>\n",
       "      <td>41.00</td>\n",
       "      <td>79.0</td>\n",
       "    </tr>\n",
       "    <tr>\n",
       "      <th>PAY_0</th>\n",
       "      <td>30000.0</td>\n",
       "      <td>-0.016700</td>\n",
       "      <td>1.123802</td>\n",
       "      <td>-2.0</td>\n",
       "      <td>-1.00</td>\n",
       "      <td>0.0</td>\n",
       "      <td>0.00</td>\n",
       "      <td>8.0</td>\n",
       "    </tr>\n",
       "    <tr>\n",
       "      <th>PAY_2</th>\n",
       "      <td>30000.0</td>\n",
       "      <td>-0.133767</td>\n",
       "      <td>1.197186</td>\n",
       "      <td>-2.0</td>\n",
       "      <td>-1.00</td>\n",
       "      <td>0.0</td>\n",
       "      <td>0.00</td>\n",
       "      <td>8.0</td>\n",
       "    </tr>\n",
       "    <tr>\n",
       "      <th>PAY_3</th>\n",
       "      <td>30000.0</td>\n",
       "      <td>-0.166200</td>\n",
       "      <td>1.196868</td>\n",
       "      <td>-2.0</td>\n",
       "      <td>-1.00</td>\n",
       "      <td>0.0</td>\n",
       "      <td>0.00</td>\n",
       "      <td>8.0</td>\n",
       "    </tr>\n",
       "    <tr>\n",
       "      <th>PAY_4</th>\n",
       "      <td>30000.0</td>\n",
       "      <td>-0.220667</td>\n",
       "      <td>1.169139</td>\n",
       "      <td>-2.0</td>\n",
       "      <td>-1.00</td>\n",
       "      <td>0.0</td>\n",
       "      <td>0.00</td>\n",
       "      <td>8.0</td>\n",
       "    </tr>\n",
       "    <tr>\n",
       "      <th>PAY_5</th>\n",
       "      <td>30000.0</td>\n",
       "      <td>-0.266200</td>\n",
       "      <td>1.133187</td>\n",
       "      <td>-2.0</td>\n",
       "      <td>-1.00</td>\n",
       "      <td>0.0</td>\n",
       "      <td>0.00</td>\n",
       "      <td>8.0</td>\n",
       "    </tr>\n",
       "    <tr>\n",
       "      <th>PAY_6</th>\n",
       "      <td>30000.0</td>\n",
       "      <td>-0.291100</td>\n",
       "      <td>1.149988</td>\n",
       "      <td>-2.0</td>\n",
       "      <td>-1.00</td>\n",
       "      <td>0.0</td>\n",
       "      <td>0.00</td>\n",
       "      <td>8.0</td>\n",
       "    </tr>\n",
       "    <tr>\n",
       "      <th>BILL_AMT1</th>\n",
       "      <td>30000.0</td>\n",
       "      <td>51223.330900</td>\n",
       "      <td>73635.860576</td>\n",
       "      <td>-165580.0</td>\n",
       "      <td>3558.75</td>\n",
       "      <td>22381.5</td>\n",
       "      <td>67091.00</td>\n",
       "      <td>964511.0</td>\n",
       "    </tr>\n",
       "    <tr>\n",
       "      <th>BILL_AMT2</th>\n",
       "      <td>30000.0</td>\n",
       "      <td>49179.075167</td>\n",
       "      <td>71173.768783</td>\n",
       "      <td>-69777.0</td>\n",
       "      <td>2984.75</td>\n",
       "      <td>21200.0</td>\n",
       "      <td>64006.25</td>\n",
       "      <td>983931.0</td>\n",
       "    </tr>\n",
       "    <tr>\n",
       "      <th>BILL_AMT3</th>\n",
       "      <td>30000.0</td>\n",
       "      <td>47013.154800</td>\n",
       "      <td>69349.387427</td>\n",
       "      <td>-157264.0</td>\n",
       "      <td>2666.25</td>\n",
       "      <td>20088.5</td>\n",
       "      <td>60164.75</td>\n",
       "      <td>1664089.0</td>\n",
       "    </tr>\n",
       "    <tr>\n",
       "      <th>BILL_AMT4</th>\n",
       "      <td>30000.0</td>\n",
       "      <td>43262.948967</td>\n",
       "      <td>64332.856134</td>\n",
       "      <td>-170000.0</td>\n",
       "      <td>2326.75</td>\n",
       "      <td>19052.0</td>\n",
       "      <td>54506.00</td>\n",
       "      <td>891586.0</td>\n",
       "    </tr>\n",
       "    <tr>\n",
       "      <th>BILL_AMT5</th>\n",
       "      <td>30000.0</td>\n",
       "      <td>40311.400967</td>\n",
       "      <td>60797.155770</td>\n",
       "      <td>-81334.0</td>\n",
       "      <td>1763.00</td>\n",
       "      <td>18104.5</td>\n",
       "      <td>50190.50</td>\n",
       "      <td>927171.0</td>\n",
       "    </tr>\n",
       "    <tr>\n",
       "      <th>BILL_AMT6</th>\n",
       "      <td>30000.0</td>\n",
       "      <td>38871.760400</td>\n",
       "      <td>59554.107537</td>\n",
       "      <td>-339603.0</td>\n",
       "      <td>1256.00</td>\n",
       "      <td>17071.0</td>\n",
       "      <td>49198.25</td>\n",
       "      <td>961664.0</td>\n",
       "    </tr>\n",
       "    <tr>\n",
       "      <th>PAY_AMT1</th>\n",
       "      <td>30000.0</td>\n",
       "      <td>5663.580500</td>\n",
       "      <td>16563.280354</td>\n",
       "      <td>0.0</td>\n",
       "      <td>1000.00</td>\n",
       "      <td>2100.0</td>\n",
       "      <td>5006.00</td>\n",
       "      <td>873552.0</td>\n",
       "    </tr>\n",
       "    <tr>\n",
       "      <th>PAY_AMT2</th>\n",
       "      <td>30000.0</td>\n",
       "      <td>5921.163500</td>\n",
       "      <td>23040.870402</td>\n",
       "      <td>0.0</td>\n",
       "      <td>833.00</td>\n",
       "      <td>2009.0</td>\n",
       "      <td>5000.00</td>\n",
       "      <td>1684259.0</td>\n",
       "    </tr>\n",
       "    <tr>\n",
       "      <th>PAY_AMT3</th>\n",
       "      <td>30000.0</td>\n",
       "      <td>5225.681500</td>\n",
       "      <td>17606.961470</td>\n",
       "      <td>0.0</td>\n",
       "      <td>390.00</td>\n",
       "      <td>1800.0</td>\n",
       "      <td>4505.00</td>\n",
       "      <td>896040.0</td>\n",
       "    </tr>\n",
       "    <tr>\n",
       "      <th>PAY_AMT4</th>\n",
       "      <td>30000.0</td>\n",
       "      <td>4826.076867</td>\n",
       "      <td>15666.159744</td>\n",
       "      <td>0.0</td>\n",
       "      <td>296.00</td>\n",
       "      <td>1500.0</td>\n",
       "      <td>4013.25</td>\n",
       "      <td>621000.0</td>\n",
       "    </tr>\n",
       "    <tr>\n",
       "      <th>PAY_AMT5</th>\n",
       "      <td>30000.0</td>\n",
       "      <td>4799.387633</td>\n",
       "      <td>15278.305679</td>\n",
       "      <td>0.0</td>\n",
       "      <td>252.50</td>\n",
       "      <td>1500.0</td>\n",
       "      <td>4031.50</td>\n",
       "      <td>426529.0</td>\n",
       "    </tr>\n",
       "    <tr>\n",
       "      <th>PAY_AMT6</th>\n",
       "      <td>30000.0</td>\n",
       "      <td>5215.502567</td>\n",
       "      <td>17777.465775</td>\n",
       "      <td>0.0</td>\n",
       "      <td>117.75</td>\n",
       "      <td>1500.0</td>\n",
       "      <td>4000.00</td>\n",
       "      <td>528666.0</td>\n",
       "    </tr>\n",
       "    <tr>\n",
       "      <th>default</th>\n",
       "      <td>30000.0</td>\n",
       "      <td>0.221200</td>\n",
       "      <td>0.415062</td>\n",
       "      <td>0.0</td>\n",
       "      <td>0.00</td>\n",
       "      <td>0.0</td>\n",
       "      <td>0.00</td>\n",
       "      <td>1.0</td>\n",
       "    </tr>\n",
       "  </tbody>\n",
       "</table>\n",
       "</div>"
      ],
      "text/plain": [
       "             count           mean            std       min       25%  \\\n",
       "LIMIT_BAL  30000.0  167484.322667  129747.661567   10000.0  50000.00   \n",
       "SEX        30000.0       1.603733       0.489129       1.0      1.00   \n",
       "EDUCATION  30000.0       1.853133       0.790349       0.0      1.00   \n",
       "MARRIAGE   30000.0       1.551867       0.521970       0.0      1.00   \n",
       "AGE        30000.0      35.485500       9.217904      21.0     28.00   \n",
       "PAY_0      30000.0      -0.016700       1.123802      -2.0     -1.00   \n",
       "PAY_2      30000.0      -0.133767       1.197186      -2.0     -1.00   \n",
       "PAY_3      30000.0      -0.166200       1.196868      -2.0     -1.00   \n",
       "PAY_4      30000.0      -0.220667       1.169139      -2.0     -1.00   \n",
       "PAY_5      30000.0      -0.266200       1.133187      -2.0     -1.00   \n",
       "PAY_6      30000.0      -0.291100       1.149988      -2.0     -1.00   \n",
       "BILL_AMT1  30000.0   51223.330900   73635.860576 -165580.0   3558.75   \n",
       "BILL_AMT2  30000.0   49179.075167   71173.768783  -69777.0   2984.75   \n",
       "BILL_AMT3  30000.0   47013.154800   69349.387427 -157264.0   2666.25   \n",
       "BILL_AMT4  30000.0   43262.948967   64332.856134 -170000.0   2326.75   \n",
       "BILL_AMT5  30000.0   40311.400967   60797.155770  -81334.0   1763.00   \n",
       "BILL_AMT6  30000.0   38871.760400   59554.107537 -339603.0   1256.00   \n",
       "PAY_AMT1   30000.0    5663.580500   16563.280354       0.0   1000.00   \n",
       "PAY_AMT2   30000.0    5921.163500   23040.870402       0.0    833.00   \n",
       "PAY_AMT3   30000.0    5225.681500   17606.961470       0.0    390.00   \n",
       "PAY_AMT4   30000.0    4826.076867   15666.159744       0.0    296.00   \n",
       "PAY_AMT5   30000.0    4799.387633   15278.305679       0.0    252.50   \n",
       "PAY_AMT6   30000.0    5215.502567   17777.465775       0.0    117.75   \n",
       "default    30000.0       0.221200       0.415062       0.0      0.00   \n",
       "\n",
       "                50%        75%        max  \n",
       "LIMIT_BAL  140000.0  240000.00  1000000.0  \n",
       "SEX             2.0       2.00        2.0  \n",
       "EDUCATION       2.0       2.00        6.0  \n",
       "MARRIAGE        2.0       2.00        3.0  \n",
       "AGE            34.0      41.00       79.0  \n",
       "PAY_0           0.0       0.00        8.0  \n",
       "PAY_2           0.0       0.00        8.0  \n",
       "PAY_3           0.0       0.00        8.0  \n",
       "PAY_4           0.0       0.00        8.0  \n",
       "PAY_5           0.0       0.00        8.0  \n",
       "PAY_6           0.0       0.00        8.0  \n",
       "BILL_AMT1   22381.5   67091.00   964511.0  \n",
       "BILL_AMT2   21200.0   64006.25   983931.0  \n",
       "BILL_AMT3   20088.5   60164.75  1664089.0  \n",
       "BILL_AMT4   19052.0   54506.00   891586.0  \n",
       "BILL_AMT5   18104.5   50190.50   927171.0  \n",
       "BILL_AMT6   17071.0   49198.25   961664.0  \n",
       "PAY_AMT1     2100.0    5006.00   873552.0  \n",
       "PAY_AMT2     2009.0    5000.00  1684259.0  \n",
       "PAY_AMT3     1800.0    4505.00   896040.0  \n",
       "PAY_AMT4     1500.0    4013.25   621000.0  \n",
       "PAY_AMT5     1500.0    4031.50   426529.0  \n",
       "PAY_AMT6     1500.0    4000.00   528666.0  \n",
       "default         0.0       0.00        1.0  "
      ]
     },
     "execution_count": 8,
     "metadata": {},
     "output_type": "execute_result"
    }
   ],
   "source": [
    "rdf.describe().T"
   ]
  },
  {
   "cell_type": "code",
   "execution_count": 9,
   "metadata": {},
   "outputs": [
    {
     "data": {
      "text/plain": [
       "(30000, 24)"
      ]
     },
     "execution_count": 9,
     "metadata": {},
     "output_type": "execute_result"
    }
   ],
   "source": [
    "rdf.shape"
   ]
  },
  {
   "cell_type": "code",
   "execution_count": 10,
   "metadata": {
    "collapsed": true
   },
   "outputs": [],
   "source": [
    "#All features are provided in the numberical form, includin categorical features.\n",
    "#It still needs to be recoded using OHE for eliminating eucleadean distances between them.\n",
    "#The three cat features are SEX, EDUCATION, and MARRIAGE\n",
    "\n",
    "feats_list = rdf.columns.values.tolist()"
   ]
  },
  {
   "cell_type": "code",
   "execution_count": 11,
   "metadata": {},
   "outputs": [
    {
     "data": {
      "text/plain": [
       "array([2, 1, 3, 5, 4, 6, 0], dtype=int64)"
      ]
     },
     "execution_count": 11,
     "metadata": {},
     "output_type": "execute_result"
    }
   ],
   "source": [
    "rdf['EDUCATION'].unique()"
   ]
  },
  {
   "cell_type": "code",
   "execution_count": 12,
   "metadata": {
    "collapsed": true
   },
   "outputs": [],
   "source": [
    "#Separating the dependent and independent variables \n",
    "\n",
    "X = rdf.iloc[:, :-1]\n",
    "y = rdf.iloc[:, -1:]"
   ]
  },
  {
   "cell_type": "code",
   "execution_count": 13,
   "metadata": {},
   "outputs": [
    {
     "data": {
      "text/plain": [
       "(30000, 23)"
      ]
     },
     "execution_count": 13,
     "metadata": {},
     "output_type": "execute_result"
    }
   ],
   "source": [
    "X.shape"
   ]
  },
  {
   "cell_type": "code",
   "execution_count": 14,
   "metadata": {
    "collapsed": true
   },
   "outputs": [],
   "source": [
    "mar_labels = np.unique(X[\"MARRIAGE\"])\n",
    "sex_labels = np.unique(X[\"SEX\"])\n",
    "edu_labels = np.unique(X[\"EDUCATION\"])"
   ]
  },
  {
   "cell_type": "code",
   "execution_count": 15,
   "metadata": {
    "collapsed": true
   },
   "outputs": [],
   "source": [
    "#initiate functions from the label encoding libraries\n",
    "from sklearn.preprocessing import OneHotEncoder, LabelEncoder\n",
    "labelencoder_X = LabelEncoder()\n",
    "onehotencoder = OneHotEncoder(categorical_features=[0])"
   ]
  },
  {
   "cell_type": "code",
   "execution_count": 16,
   "metadata": {
    "collapsed": true
   },
   "outputs": [],
   "source": [
    "mar = pd.DataFrame(labelencoder_X.fit_transform(X[\"MARRIAGE\"]))\n",
    "sex = pd.DataFrame(labelencoder_X.fit_transform(X[\"SEX\"]))\n",
    "edu = pd.DataFrame(labelencoder_X.fit_transform(X[\"EDUCATION\"]))"
   ]
  },
  {
   "cell_type": "code",
   "execution_count": null,
   "metadata": {
    "collapsed": true
   },
   "outputs": [],
   "source": [
    "#Create new temporary dfs for onehotencoding categorical features\n",
    "\n",
    "mar = pd.DataFrame(onehotencoder.fit_transform(mar).toarray())\n",
    "mar.columns = mar_labels\n",
    "\n",
    "sex = pd.DataFrame(onehotencoder.fit_transform(sex).toarray())\n",
    "sex.columns = sex_labels\n",
    "\n",
    "edu = pd.DataFrame(onehotencoder.fit_transform(edu).toarray())\n",
    "edu.columns = edu_labels"
   ]
  },
  {
   "cell_type": "code",
   "execution_count": 17,
   "metadata": {},
   "outputs": [
    {
     "name": "stderr",
     "output_type": "stream",
     "text": [
      "D:\\Analytics\\Anaconda3\\envs\\tensorflow\\lib\\site-packages\\ipykernel_launcher.py:1: SettingWithCopyWarning: \n",
      "A value is trying to be set on a copy of a slice from a DataFrame\n",
      "\n",
      "See the caveats in the documentation: http://pandas.pydata.org/pandas-docs/stable/indexing.html#indexing-view-versus-copy\n",
      "  \"\"\"Entry point for launching an IPython kernel.\n"
     ]
    }
   ],
   "source": [
    "X.drop([\"SEX\", \"MARRIAGE\", \"EDUCATION\"], axis=1, inplace=True)"
   ]
  },
  {
   "cell_type": "code",
   "execution_count": null,
   "metadata": {
    "collapsed": true
   },
   "outputs": [],
   "source": [
    "#cat_table1 = pd.DataFrame(pd.concat((mar, sex, edu), axis=1))"
   ]
  },
  {
   "cell_type": "code",
   "execution_count": 18,
   "metadata": {
    "collapsed": true
   },
   "outputs": [],
   "source": [
    "#cat_table1.to_csv('cat_table1.csv')\n",
    "cat_table1 = pd.read_csv('cat_table1.csv')"
   ]
  },
  {
   "cell_type": "code",
   "execution_count": 19,
   "metadata": {
    "collapsed": true
   },
   "outputs": [],
   "source": [
    "X = pd.DataFrame(pd.concat((X, cat_table1), axis=1))"
   ]
  },
  {
   "cell_type": "code",
   "execution_count": 20,
   "metadata": {},
   "outputs": [
    {
     "data": {
      "text/plain": [
       "(30000, 33)"
      ]
     },
     "execution_count": 20,
     "metadata": {},
     "output_type": "execute_result"
    }
   ],
   "source": [
    "X = X.iloc[1: , :]\n",
    "X.shape"
   ]
  },
  {
   "cell_type": "code",
   "execution_count": 21,
   "metadata": {},
   "outputs": [
    {
     "data": {
      "text/html": [
       "<div>\n",
       "<style scoped>\n",
       "    .dataframe tbody tr th:only-of-type {\n",
       "        vertical-align: middle;\n",
       "    }\n",
       "\n",
       "    .dataframe tbody tr th {\n",
       "        vertical-align: top;\n",
       "    }\n",
       "\n",
       "    .dataframe thead th {\n",
       "        text-align: right;\n",
       "    }\n",
       "</style>\n",
       "<table border=\"1\" class=\"dataframe\">\n",
       "  <thead>\n",
       "    <tr style=\"text-align: right;\">\n",
       "      <th></th>\n",
       "      <th>1</th>\n",
       "      <th>2</th>\n",
       "      <th>3</th>\n",
       "      <th>4</th>\n",
       "      <th>5</th>\n",
       "    </tr>\n",
       "  </thead>\n",
       "  <tbody>\n",
       "    <tr>\n",
       "      <th>LIMIT_BAL</th>\n",
       "      <td>20000.0</td>\n",
       "      <td>120000.0</td>\n",
       "      <td>90000.0</td>\n",
       "      <td>50000.0</td>\n",
       "      <td>50000.0</td>\n",
       "    </tr>\n",
       "    <tr>\n",
       "      <th>AGE</th>\n",
       "      <td>24.0</td>\n",
       "      <td>26.0</td>\n",
       "      <td>34.0</td>\n",
       "      <td>37.0</td>\n",
       "      <td>57.0</td>\n",
       "    </tr>\n",
       "    <tr>\n",
       "      <th>PAY_0</th>\n",
       "      <td>2.0</td>\n",
       "      <td>-1.0</td>\n",
       "      <td>0.0</td>\n",
       "      <td>0.0</td>\n",
       "      <td>-1.0</td>\n",
       "    </tr>\n",
       "    <tr>\n",
       "      <th>PAY_2</th>\n",
       "      <td>2.0</td>\n",
       "      <td>2.0</td>\n",
       "      <td>0.0</td>\n",
       "      <td>0.0</td>\n",
       "      <td>0.0</td>\n",
       "    </tr>\n",
       "    <tr>\n",
       "      <th>PAY_3</th>\n",
       "      <td>-1.0</td>\n",
       "      <td>0.0</td>\n",
       "      <td>0.0</td>\n",
       "      <td>0.0</td>\n",
       "      <td>-1.0</td>\n",
       "    </tr>\n",
       "    <tr>\n",
       "      <th>PAY_4</th>\n",
       "      <td>-1.0</td>\n",
       "      <td>0.0</td>\n",
       "      <td>0.0</td>\n",
       "      <td>0.0</td>\n",
       "      <td>0.0</td>\n",
       "    </tr>\n",
       "    <tr>\n",
       "      <th>PAY_5</th>\n",
       "      <td>-2.0</td>\n",
       "      <td>0.0</td>\n",
       "      <td>0.0</td>\n",
       "      <td>0.0</td>\n",
       "      <td>0.0</td>\n",
       "    </tr>\n",
       "    <tr>\n",
       "      <th>PAY_6</th>\n",
       "      <td>-2.0</td>\n",
       "      <td>2.0</td>\n",
       "      <td>0.0</td>\n",
       "      <td>0.0</td>\n",
       "      <td>0.0</td>\n",
       "    </tr>\n",
       "    <tr>\n",
       "      <th>BILL_AMT1</th>\n",
       "      <td>3913.0</td>\n",
       "      <td>2682.0</td>\n",
       "      <td>29239.0</td>\n",
       "      <td>46990.0</td>\n",
       "      <td>8617.0</td>\n",
       "    </tr>\n",
       "    <tr>\n",
       "      <th>BILL_AMT2</th>\n",
       "      <td>3102.0</td>\n",
       "      <td>1725.0</td>\n",
       "      <td>14027.0</td>\n",
       "      <td>48233.0</td>\n",
       "      <td>5670.0</td>\n",
       "    </tr>\n",
       "    <tr>\n",
       "      <th>BILL_AMT3</th>\n",
       "      <td>689.0</td>\n",
       "      <td>2682.0</td>\n",
       "      <td>13559.0</td>\n",
       "      <td>49291.0</td>\n",
       "      <td>35835.0</td>\n",
       "    </tr>\n",
       "    <tr>\n",
       "      <th>BILL_AMT4</th>\n",
       "      <td>0.0</td>\n",
       "      <td>3272.0</td>\n",
       "      <td>14331.0</td>\n",
       "      <td>28314.0</td>\n",
       "      <td>20940.0</td>\n",
       "    </tr>\n",
       "    <tr>\n",
       "      <th>BILL_AMT5</th>\n",
       "      <td>0.0</td>\n",
       "      <td>3455.0</td>\n",
       "      <td>14948.0</td>\n",
       "      <td>28959.0</td>\n",
       "      <td>19146.0</td>\n",
       "    </tr>\n",
       "    <tr>\n",
       "      <th>BILL_AMT6</th>\n",
       "      <td>0.0</td>\n",
       "      <td>3261.0</td>\n",
       "      <td>15549.0</td>\n",
       "      <td>29547.0</td>\n",
       "      <td>19131.0</td>\n",
       "    </tr>\n",
       "    <tr>\n",
       "      <th>PAY_AMT1</th>\n",
       "      <td>0.0</td>\n",
       "      <td>0.0</td>\n",
       "      <td>1518.0</td>\n",
       "      <td>2000.0</td>\n",
       "      <td>2000.0</td>\n",
       "    </tr>\n",
       "    <tr>\n",
       "      <th>PAY_AMT2</th>\n",
       "      <td>689.0</td>\n",
       "      <td>1000.0</td>\n",
       "      <td>1500.0</td>\n",
       "      <td>2019.0</td>\n",
       "      <td>36681.0</td>\n",
       "    </tr>\n",
       "    <tr>\n",
       "      <th>PAY_AMT3</th>\n",
       "      <td>0.0</td>\n",
       "      <td>1000.0</td>\n",
       "      <td>1000.0</td>\n",
       "      <td>1200.0</td>\n",
       "      <td>10000.0</td>\n",
       "    </tr>\n",
       "    <tr>\n",
       "      <th>PAY_AMT4</th>\n",
       "      <td>0.0</td>\n",
       "      <td>1000.0</td>\n",
       "      <td>1000.0</td>\n",
       "      <td>1100.0</td>\n",
       "      <td>9000.0</td>\n",
       "    </tr>\n",
       "    <tr>\n",
       "      <th>PAY_AMT5</th>\n",
       "      <td>0.0</td>\n",
       "      <td>0.0</td>\n",
       "      <td>1000.0</td>\n",
       "      <td>1069.0</td>\n",
       "      <td>689.0</td>\n",
       "    </tr>\n",
       "    <tr>\n",
       "      <th>PAY_AMT6</th>\n",
       "      <td>0.0</td>\n",
       "      <td>2000.0</td>\n",
       "      <td>5000.0</td>\n",
       "      <td>1000.0</td>\n",
       "      <td>679.0</td>\n",
       "    </tr>\n",
       "    <tr>\n",
       "      <th>F1</th>\n",
       "      <td>0.0</td>\n",
       "      <td>0.0</td>\n",
       "      <td>0.0</td>\n",
       "      <td>0.0</td>\n",
       "      <td>0.0</td>\n",
       "    </tr>\n",
       "    <tr>\n",
       "      <th>F2</th>\n",
       "      <td>1.0</td>\n",
       "      <td>0.0</td>\n",
       "      <td>0.0</td>\n",
       "      <td>1.0</td>\n",
       "      <td>1.0</td>\n",
       "    </tr>\n",
       "    <tr>\n",
       "      <th>F3</th>\n",
       "      <td>0.0</td>\n",
       "      <td>1.0</td>\n",
       "      <td>1.0</td>\n",
       "      <td>0.0</td>\n",
       "      <td>0.0</td>\n",
       "    </tr>\n",
       "    <tr>\n",
       "      <th>F4</th>\n",
       "      <td>0.0</td>\n",
       "      <td>0.0</td>\n",
       "      <td>0.0</td>\n",
       "      <td>0.0</td>\n",
       "      <td>0.0</td>\n",
       "    </tr>\n",
       "    <tr>\n",
       "      <th>F5</th>\n",
       "      <td>0.0</td>\n",
       "      <td>0.0</td>\n",
       "      <td>0.0</td>\n",
       "      <td>0.0</td>\n",
       "      <td>1.0</td>\n",
       "    </tr>\n",
       "    <tr>\n",
       "      <th>F6</th>\n",
       "      <td>1.0</td>\n",
       "      <td>1.0</td>\n",
       "      <td>1.0</td>\n",
       "      <td>1.0</td>\n",
       "      <td>0.0</td>\n",
       "    </tr>\n",
       "    <tr>\n",
       "      <th>F7</th>\n",
       "      <td>0.0</td>\n",
       "      <td>0.0</td>\n",
       "      <td>0.0</td>\n",
       "      <td>0.0</td>\n",
       "      <td>0.0</td>\n",
       "    </tr>\n",
       "    <tr>\n",
       "      <th>F8</th>\n",
       "      <td>0.0</td>\n",
       "      <td>0.0</td>\n",
       "      <td>0.0</td>\n",
       "      <td>0.0</td>\n",
       "      <td>0.0</td>\n",
       "    </tr>\n",
       "    <tr>\n",
       "      <th>F9</th>\n",
       "      <td>1.0</td>\n",
       "      <td>1.0</td>\n",
       "      <td>1.0</td>\n",
       "      <td>1.0</td>\n",
       "      <td>1.0</td>\n",
       "    </tr>\n",
       "    <tr>\n",
       "      <th>F10</th>\n",
       "      <td>0.0</td>\n",
       "      <td>0.0</td>\n",
       "      <td>0.0</td>\n",
       "      <td>0.0</td>\n",
       "      <td>0.0</td>\n",
       "    </tr>\n",
       "    <tr>\n",
       "      <th>F11</th>\n",
       "      <td>0.0</td>\n",
       "      <td>0.0</td>\n",
       "      <td>0.0</td>\n",
       "      <td>0.0</td>\n",
       "      <td>0.0</td>\n",
       "    </tr>\n",
       "    <tr>\n",
       "      <th>F12</th>\n",
       "      <td>0.0</td>\n",
       "      <td>0.0</td>\n",
       "      <td>0.0</td>\n",
       "      <td>0.0</td>\n",
       "      <td>0.0</td>\n",
       "    </tr>\n",
       "    <tr>\n",
       "      <th>F13</th>\n",
       "      <td>0.0</td>\n",
       "      <td>0.0</td>\n",
       "      <td>0.0</td>\n",
       "      <td>0.0</td>\n",
       "      <td>0.0</td>\n",
       "    </tr>\n",
       "  </tbody>\n",
       "</table>\n",
       "</div>"
      ],
      "text/plain": [
       "                 1         2        3        4        5\n",
       "LIMIT_BAL  20000.0  120000.0  90000.0  50000.0  50000.0\n",
       "AGE           24.0      26.0     34.0     37.0     57.0\n",
       "PAY_0          2.0      -1.0      0.0      0.0     -1.0\n",
       "PAY_2          2.0       2.0      0.0      0.0      0.0\n",
       "PAY_3         -1.0       0.0      0.0      0.0     -1.0\n",
       "PAY_4         -1.0       0.0      0.0      0.0      0.0\n",
       "PAY_5         -2.0       0.0      0.0      0.0      0.0\n",
       "PAY_6         -2.0       2.0      0.0      0.0      0.0\n",
       "BILL_AMT1   3913.0    2682.0  29239.0  46990.0   8617.0\n",
       "BILL_AMT2   3102.0    1725.0  14027.0  48233.0   5670.0\n",
       "BILL_AMT3    689.0    2682.0  13559.0  49291.0  35835.0\n",
       "BILL_AMT4      0.0    3272.0  14331.0  28314.0  20940.0\n",
       "BILL_AMT5      0.0    3455.0  14948.0  28959.0  19146.0\n",
       "BILL_AMT6      0.0    3261.0  15549.0  29547.0  19131.0\n",
       "PAY_AMT1       0.0       0.0   1518.0   2000.0   2000.0\n",
       "PAY_AMT2     689.0    1000.0   1500.0   2019.0  36681.0\n",
       "PAY_AMT3       0.0    1000.0   1000.0   1200.0  10000.0\n",
       "PAY_AMT4       0.0    1000.0   1000.0   1100.0   9000.0\n",
       "PAY_AMT5       0.0       0.0   1000.0   1069.0    689.0\n",
       "PAY_AMT6       0.0    2000.0   5000.0   1000.0    679.0\n",
       "F1             0.0       0.0      0.0      0.0      0.0\n",
       "F2             1.0       0.0      0.0      1.0      1.0\n",
       "F3             0.0       1.0      1.0      0.0      0.0\n",
       "F4             0.0       0.0      0.0      0.0      0.0\n",
       "F5             0.0       0.0      0.0      0.0      1.0\n",
       "F6             1.0       1.0      1.0      1.0      0.0\n",
       "F7             0.0       0.0      0.0      0.0      0.0\n",
       "F8             0.0       0.0      0.0      0.0      0.0\n",
       "F9             1.0       1.0      1.0      1.0      1.0\n",
       "F10            0.0       0.0      0.0      0.0      0.0\n",
       "F11            0.0       0.0      0.0      0.0      0.0\n",
       "F12            0.0       0.0      0.0      0.0      0.0\n",
       "F13            0.0       0.0      0.0      0.0      0.0"
      ]
     },
     "execution_count": 21,
     "metadata": {},
     "output_type": "execute_result"
    }
   ],
   "source": [
    "X.head().T"
   ]
  },
  {
   "cell_type": "code",
   "execution_count": 22,
   "metadata": {
    "collapsed": true
   },
   "outputs": [],
   "source": [
    "#split the dataset for training and test subsets\n",
    "from sklearn.model_selection import train_test_split\n",
    "X_train, X_test, y_train, y_test = train_test_split(X, y, test_size = 0.25)"
   ]
  },
  {
   "cell_type": "code",
   "execution_count": 23,
   "metadata": {
    "collapsed": true
   },
   "outputs": [],
   "source": [
    "#Scale the features for more accurate models and to conserve computational resources \n",
    "\n",
    "from sklearn.preprocessing import StandardScaler\n",
    "sc = StandardScaler()"
   ]
  },
  {
   "cell_type": "code",
   "execution_count": 24,
   "metadata": {
    "collapsed": true
   },
   "outputs": [],
   "source": [
    "X_train = sc.fit_transform(X_train)\n",
    "X_test = sc.transform(X_test)"
   ]
  },
  {
   "cell_type": "code",
   "execution_count": null,
   "metadata": {
    "collapsed": true
   },
   "outputs": [],
   "source": [
    "#X_train.to_csv('X_train.csv')"
   ]
  },
  {
   "cell_type": "code",
   "execution_count": null,
   "metadata": {
    "collapsed": true
   },
   "outputs": [],
   "source": [
    "#X_train.iloc[8851:8852, :]"
   ]
  },
  {
   "cell_type": "code",
   "execution_count": null,
   "metadata": {
    "collapsed": true
   },
   "outputs": [],
   "source": [
    "#X_train = pd.read_csv('X_train.csv', index_col=\"ID\")\n",
    "#X_train.head()"
   ]
  },
  {
   "cell_type": "code",
   "execution_count": 25,
   "metadata": {
    "collapsed": true
   },
   "outputs": [],
   "source": [
    "from sklearn.linear_model import LogisticRegression\n",
    "logitmodel = LogisticRegression(C=0.5)"
   ]
  },
  {
   "cell_type": "code",
   "execution_count": 26,
   "metadata": {},
   "outputs": [
    {
     "name": "stderr",
     "output_type": "stream",
     "text": [
      "D:\\Analytics\\Anaconda3\\envs\\tensorflow\\lib\\site-packages\\sklearn\\utils\\validation.py:578: DataConversionWarning: A column-vector y was passed when a 1d array was expected. Please change the shape of y to (n_samples, ), for example using ravel().\n",
      "  y = column_or_1d(y, warn=True)\n"
     ]
    },
    {
     "data": {
      "text/plain": [
       "LogisticRegression(C=0.5, class_weight=None, dual=False, fit_intercept=True,\n",
       "          intercept_scaling=1, max_iter=100, multi_class='ovr', n_jobs=1,\n",
       "          penalty='l2', random_state=None, solver='liblinear', tol=0.0001,\n",
       "          verbose=0, warm_start=False)"
      ]
     },
     "execution_count": 26,
     "metadata": {},
     "output_type": "execute_result"
    }
   ],
   "source": [
    "logitmodel.fit(X_train, y_train)"
   ]
  },
  {
   "cell_type": "code",
   "execution_count": 27,
   "metadata": {
    "collapsed": true
   },
   "outputs": [],
   "source": [
    "y_preds_logit = logitmodel.predict(X_test)"
   ]
  },
  {
   "cell_type": "code",
   "execution_count": 28,
   "metadata": {},
   "outputs": [
    {
     "name": "stderr",
     "output_type": "stream",
     "text": [
      "D:\\Analytics\\Anaconda3\\envs\\tensorflow\\lib\\site-packages\\sklearn\\cross_validation.py:41: DeprecationWarning: This module was deprecated in version 0.18 in favor of the model_selection module into which all the refactored classes and functions are moved. Also note that the interface of the new CV iterators are different from that of this module. This module will be removed in 0.20.\n",
      "  \"This module will be removed in 0.20.\", DeprecationWarning)\n"
     ]
    }
   ],
   "source": [
    "from sklearn.cross_validation import cross_val_score\n",
    "from sklearn.metrics import classification_report, confusion_matrix, accuracy_score"
   ]
  },
  {
   "cell_type": "code",
   "execution_count": 29,
   "metadata": {},
   "outputs": [
    {
     "name": "stdout",
     "output_type": "stream",
     "text": [
      "             precision    recall  f1-score   support\n",
      "\n",
      "          0       0.81      0.97      0.89      5784\n",
      "          1       0.72      0.25      0.37      1716\n",
      "\n",
      "avg / total       0.79      0.81      0.77      7500\n",
      "\n",
      "The Confusion Matrix: \n",
      "\n",
      "[[5623  161]\n",
      " [1293  423]]\n",
      "\n",
      "The accuracy is: 80.61333333333334%\n",
      "\n",
      " Total correct classification 6046 out of 7500 values\n"
     ]
    }
   ],
   "source": [
    "print(classification_report(y_test, y_preds_logit))\n",
    "cm = confusion_matrix(y_test, y_preds_logit)\n",
    "print('The Confusion Matrix: \\n\\n{}'.format(confusion_matrix(y_test, y_preds_logit)))\n",
    "print('\\nThe accuracy is: {}%'. format(accuracy_score(y_test, y_preds_logit)*100))\n",
    "\n",
    "print('\\n Total correct classification {} out of {} values'.format((cm[0,0] + cm[1,1]), (cm.sum())))"
   ]
  },
  {
   "cell_type": "markdown",
   "metadata": {},
   "source": [
    "#### 1.1 Let's perform cross-validation on Logistic Regression"
   ]
  },
  {
   "cell_type": "code",
   "execution_count": 30,
   "metadata": {
    "collapsed": true
   },
   "outputs": [],
   "source": [
    "#Let's reshape the y_train dataset for performing cross-validation with sklearn\n",
    "y_train = y_train.values\n",
    "r, c = y_train.shape\n",
    "y_train = y_train.reshape(r, )"
   ]
  },
  {
   "cell_type": "code",
   "execution_count": 31,
   "metadata": {
    "collapsed": true
   },
   "outputs": [],
   "source": [
    "logit_perf = cross_val_score(logitmodel, X_train, y_train, cv=10, scoring='accuracy')"
   ]
  },
  {
   "cell_type": "code",
   "execution_count": 32,
   "metadata": {},
   "outputs": [
    {
     "name": "stdout",
     "output_type": "stream",
     "text": [
      "The avg accuracy of Logistic model is 81.18222222222222%\n",
      "The st dev of Logistic model is 0.5933624628721298%\n"
     ]
    }
   ],
   "source": [
    "print('The avg accuracy of Logistic model is {}%'.format(logit_perf.mean()*100))\n",
    "print('The st dev of Logistic model is {}%'.format(logit_perf.std()*100))"
   ]
  },
  {
   "cell_type": "markdown",
   "metadata": {},
   "source": [
    "### 2 Decision Tree Model"
   ]
  },
  {
   "cell_type": "code",
   "execution_count": 33,
   "metadata": {
    "collapsed": true
   },
   "outputs": [],
   "source": [
    "from sklearn.tree import DecisionTreeClassifier"
   ]
  },
  {
   "cell_type": "code",
   "execution_count": 34,
   "metadata": {
    "collapsed": true
   },
   "outputs": [],
   "source": [
    "dtree_model = DecisionTreeClassifier()"
   ]
  },
  {
   "cell_type": "code",
   "execution_count": 35,
   "metadata": {},
   "outputs": [
    {
     "data": {
      "text/plain": [
       "DecisionTreeClassifier(class_weight=None, criterion='gini', max_depth=None,\n",
       "            max_features=None, max_leaf_nodes=None,\n",
       "            min_impurity_decrease=0.0, min_impurity_split=None,\n",
       "            min_samples_leaf=1, min_samples_split=2,\n",
       "            min_weight_fraction_leaf=0.0, presort=False, random_state=None,\n",
       "            splitter='best')"
      ]
     },
     "execution_count": 35,
     "metadata": {},
     "output_type": "execute_result"
    }
   ],
   "source": [
    "dtree_model.fit(X_train, y_train)"
   ]
  },
  {
   "cell_type": "code",
   "execution_count": 36,
   "metadata": {
    "collapsed": true
   },
   "outputs": [],
   "source": [
    "y_preds_dtree = dtree_model.predict(X_test)"
   ]
  },
  {
   "cell_type": "code",
   "execution_count": 37,
   "metadata": {},
   "outputs": [
    {
     "name": "stdout",
     "output_type": "stream",
     "text": [
      "             precision    recall  f1-score   support\n",
      "\n",
      "          0       0.82      0.81      0.82      5784\n",
      "          1       0.39      0.40      0.40      1716\n",
      "\n",
      "avg / total       0.72      0.72      0.72      7500\n",
      "\n",
      "The Confusion Matrix: \n",
      "\n",
      "[[4705 1079]\n",
      " [1026  690]]\n",
      "\n",
      "The accuracy is: 71.93333333333334%\n",
      "\n",
      " Total correct classification 5395 out of 7500 values\n"
     ]
    }
   ],
   "source": [
    "print(classification_report(y_test, y_preds_dtree))\n",
    "cm = confusion_matrix(y_test, y_preds_dtree)\n",
    "print('The Confusion Matrix: \\n\\n{}'.format(confusion_matrix(y_test, y_preds_dtree)))\n",
    "print('\\nThe accuracy is: {}%'. format(accuracy_score(y_test, y_preds_dtree)*100))\n",
    "\n",
    "print('\\n Total correct classification {} out of {} values'.format((cm[0,0] + cm[1,1]), (cm.sum())))"
   ]
  },
  {
   "cell_type": "markdown",
   "metadata": {},
   "source": [
    "##### 2.1 Let's perform CV on Decision Tree"
   ]
  },
  {
   "cell_type": "code",
   "execution_count": 38,
   "metadata": {
    "collapsed": true
   },
   "outputs": [],
   "source": [
    "dt_perf = cross_val_score(dtree_model, X_train, y_train, cv=10, scoring='accuracy')"
   ]
  },
  {
   "cell_type": "code",
   "execution_count": 39,
   "metadata": {},
   "outputs": [
    {
     "name": "stdout",
     "output_type": "stream",
     "text": [
      "The avg accuracy of Decision Tree model is 72.54222222222222%\n",
      "The st dev of Decision Tree model is 0.8711111111111111%\n"
     ]
    }
   ],
   "source": [
    "print('The avg accuracy of Decision Tree model is {}%'.format(dt_perf.mean()*100))\n",
    "print('The st dev of Decision Tree model is {}%'.format(dt_perf.std()*100))"
   ]
  },
  {
   "cell_type": "markdown",
   "metadata": {},
   "source": [
    "### 3 Random Forest Model"
   ]
  },
  {
   "cell_type": "code",
   "execution_count": 40,
   "metadata": {
    "collapsed": true
   },
   "outputs": [],
   "source": [
    "from sklearn.ensemble import RandomForestClassifier"
   ]
  },
  {
   "cell_type": "code",
   "execution_count": 41,
   "metadata": {
    "collapsed": true
   },
   "outputs": [],
   "source": [
    "rforest_model = RandomForestClassifier()"
   ]
  },
  {
   "cell_type": "code",
   "execution_count": 42,
   "metadata": {},
   "outputs": [
    {
     "data": {
      "text/plain": [
       "RandomForestClassifier(bootstrap=True, class_weight=None, criterion='gini',\n",
       "            max_depth=None, max_features='auto', max_leaf_nodes=None,\n",
       "            min_impurity_decrease=0.0, min_impurity_split=None,\n",
       "            min_samples_leaf=1, min_samples_split=2,\n",
       "            min_weight_fraction_leaf=0.0, n_estimators=10, n_jobs=1,\n",
       "            oob_score=False, random_state=None, verbose=0,\n",
       "            warm_start=False)"
      ]
     },
     "execution_count": 42,
     "metadata": {},
     "output_type": "execute_result"
    }
   ],
   "source": [
    "rforest_model.fit(X_train, y_train)"
   ]
  },
  {
   "cell_type": "code",
   "execution_count": 43,
   "metadata": {
    "collapsed": true
   },
   "outputs": [],
   "source": [
    "y_preds_rforest = rforest_model.predict(X_test)"
   ]
  },
  {
   "cell_type": "code",
   "execution_count": 44,
   "metadata": {},
   "outputs": [
    {
     "name": "stdout",
     "output_type": "stream",
     "text": [
      "             precision    recall  f1-score   support\n",
      "\n",
      "          0       0.83      0.94      0.88      5784\n",
      "          1       0.62      0.33      0.43      1716\n",
      "\n",
      "avg / total       0.78      0.80      0.78      7500\n",
      "\n",
      "The Confusion Matrix: \n",
      "\n",
      "[[5441  343]\n",
      " [1152  564]]\n",
      "\n",
      "The accuracy is: 80.06666666666666%\n",
      "\n",
      " Total correct classification 6005 out of 7500 values\n"
     ]
    }
   ],
   "source": [
    "print(classification_report(y_test, y_preds_rforest))\n",
    "cm = confusion_matrix(y_test, y_preds_rforest)\n",
    "print('The Confusion Matrix: \\n\\n{}'.format(confusion_matrix(y_test, y_preds_rforest)))\n",
    "print('\\nThe accuracy is: {}%'. format(accuracy_score(y_test, y_preds_rforest)*100))\n",
    "\n",
    "print('\\n Total correct classification {} out of {} values'.format((cm[0,0] + cm[1,1]), (cm.sum())))"
   ]
  },
  {
   "cell_type": "code",
   "execution_count": 45,
   "metadata": {
    "collapsed": true
   },
   "outputs": [],
   "source": [
    "rforest_perf = cross_val_score(rforest_model, X_train, y_train, cv=10, scoring='accuracy')"
   ]
  },
  {
   "cell_type": "code",
   "execution_count": 46,
   "metadata": {},
   "outputs": [
    {
     "name": "stdout",
     "output_type": "stream",
     "text": [
      "The avg accuracy of Random Forest model is 80.49777777777777%\n",
      "The st dev of Random Forest model is 0.5915620669146596%\n"
     ]
    }
   ],
   "source": [
    "print('The avg accuracy of Random Forest model is {}%'.format(rforest_perf.mean()*100))\n",
    "print('The st dev of Random Forest model is {}%'.format(rforest_perf.std()*100))"
   ]
  },
  {
   "cell_type": "markdown",
   "metadata": {},
   "source": [
    "#### 3.1 Performing GridSearch CV on Random Forest"
   ]
  },
  {
   "cell_type": "code",
   "execution_count": 47,
   "metadata": {
    "collapsed": true
   },
   "outputs": [],
   "source": [
    "#For the random forest model, it is better to perform a GridSearch operation with Sklearn \n",
    "#to best estimate the hyperparameters "
   ]
  },
  {
   "cell_type": "code",
   "execution_count": 48,
   "metadata": {
    "collapsed": true
   },
   "outputs": [],
   "source": [
    "from sklearn.model_selection import GridSearchCV"
   ]
  },
  {
   "cell_type": "code",
   "execution_count": 49,
   "metadata": {
    "collapsed": true
   },
   "outputs": [],
   "source": [
    "#Let's create the parameter grid for the RForest model. it will be a data dictionary for diff hyper parameters.\n",
    "\n",
    "params_grid_rf = {\"bootstrap\": [True, False],\n",
    "               \"min_samples_split\": [2, 3, 10],\n",
    "               \"min_samples_leaf\": [1, 3, 10],\n",
    "               \"max_depth\": [3, None],\n",
    "               \"criterion\":['gini', 'entropy']}"
   ]
  },
  {
   "cell_type": "code",
   "execution_count": 50,
   "metadata": {
    "collapsed": true
   },
   "outputs": [],
   "source": [
    "grid_search_rf = GridSearchCV(rforest_model, param_grid=params_grid_rf, cv=5, verbose=3, scoring='accuracy')"
   ]
  },
  {
   "cell_type": "code",
   "execution_count": 51,
   "metadata": {},
   "outputs": [
    {
     "name": "stdout",
     "output_type": "stream",
     "text": [
      "Fitting 5 folds for each of 72 candidates, totalling 360 fits\n",
      "[CV] max_depth=3, min_samples_split=2, min_samples_leaf=1, criterion=gini, bootstrap=True \n",
      "[CV]  max_depth=3, min_samples_split=2, min_samples_leaf=1, criterion=gini, bootstrap=True, score=0.8077777777777778, total=   0.0s\n",
      "[CV] max_depth=3, min_samples_split=2, min_samples_leaf=1, criterion=gini, bootstrap=True \n"
     ]
    },
    {
     "name": "stderr",
     "output_type": "stream",
     "text": [
      "[Parallel(n_jobs=1)]: Done   1 out of   1 | elapsed:    0.1s remaining:    0.0s\n",
      "[Parallel(n_jobs=1)]: Done   2 out of   2 | elapsed:    0.3s remaining:    0.0s\n"
     ]
    },
    {
     "name": "stdout",
     "output_type": "stream",
     "text": [
      "[CV]  max_depth=3, min_samples_split=2, min_samples_leaf=1, criterion=gini, bootstrap=True, score=0.8077777777777778, total=   0.1s\n",
      "[CV] max_depth=3, min_samples_split=2, min_samples_leaf=1, criterion=gini, bootstrap=True \n",
      "[CV]  max_depth=3, min_samples_split=2, min_samples_leaf=1, criterion=gini, bootstrap=True, score=0.7993333333333333, total=   0.1s\n",
      "[CV] max_depth=3, min_samples_split=2, min_samples_leaf=1, criterion=gini, bootstrap=True \n",
      "[CV]  max_depth=3, min_samples_split=2, min_samples_leaf=1, criterion=gini, bootstrap=True, score=0.8046666666666666, total=   0.1s\n",
      "[CV] max_depth=3, min_samples_split=2, min_samples_leaf=1, criterion=gini, bootstrap=True \n",
      "[CV]  max_depth=3, min_samples_split=2, min_samples_leaf=1, criterion=gini, bootstrap=True, score=0.8031111111111111, total=   0.0s\n",
      "[CV] max_depth=3, min_samples_split=3, min_samples_leaf=1, criterion=gini, bootstrap=True \n",
      "[CV]  max_depth=3, min_samples_split=3, min_samples_leaf=1, criterion=gini, bootstrap=True, score=0.8102222222222222, total=   0.0s\n",
      "[CV] max_depth=3, min_samples_split=3, min_samples_leaf=1, criterion=gini, bootstrap=True \n",
      "[CV]  max_depth=3, min_samples_split=3, min_samples_leaf=1, criterion=gini, bootstrap=True, score=0.8091111111111111, total=   0.1s\n",
      "[CV] max_depth=3, min_samples_split=3, min_samples_leaf=1, criterion=gini, bootstrap=True \n",
      "[CV]  max_depth=3, min_samples_split=3, min_samples_leaf=1, criterion=gini, bootstrap=True, score=0.8035555555555556, total=   0.0s\n",
      "[CV] max_depth=3, min_samples_split=3, min_samples_leaf=1, criterion=gini, bootstrap=True \n",
      "[CV]  max_depth=3, min_samples_split=3, min_samples_leaf=1, criterion=gini, bootstrap=True, score=0.8077777777777778, total=   0.1s\n",
      "[CV] max_depth=3, min_samples_split=3, min_samples_leaf=1, criterion=gini, bootstrap=True \n",
      "[CV]  max_depth=3, min_samples_split=3, min_samples_leaf=1, criterion=gini, bootstrap=True, score=0.8084444444444444, total=   0.0s\n",
      "[CV] max_depth=3, min_samples_split=10, min_samples_leaf=1, criterion=gini, bootstrap=True \n",
      "[CV]  max_depth=3, min_samples_split=10, min_samples_leaf=1, criterion=gini, bootstrap=True, score=0.8086666666666666, total=   0.0s\n",
      "[CV] max_depth=3, min_samples_split=10, min_samples_leaf=1, criterion=gini, bootstrap=True \n",
      "[CV]  max_depth=3, min_samples_split=10, min_samples_leaf=1, criterion=gini, bootstrap=True, score=0.8111111111111111, total=   0.1s\n",
      "[CV] max_depth=3, min_samples_split=10, min_samples_leaf=1, criterion=gini, bootstrap=True \n",
      "[CV]  max_depth=3, min_samples_split=10, min_samples_leaf=1, criterion=gini, bootstrap=True, score=0.8015555555555556, total=   0.0s\n",
      "[CV] max_depth=3, min_samples_split=10, min_samples_leaf=1, criterion=gini, bootstrap=True \n",
      "[CV]  max_depth=3, min_samples_split=10, min_samples_leaf=1, criterion=gini, bootstrap=True, score=0.8055555555555556, total=   0.1s\n",
      "[CV] max_depth=3, min_samples_split=10, min_samples_leaf=1, criterion=gini, bootstrap=True \n",
      "[CV]  max_depth=3, min_samples_split=10, min_samples_leaf=1, criterion=gini, bootstrap=True, score=0.8155555555555556, total=   0.0s\n",
      "[CV] max_depth=3, min_samples_split=2, min_samples_leaf=3, criterion=gini, bootstrap=True \n",
      "[CV]  max_depth=3, min_samples_split=2, min_samples_leaf=3, criterion=gini, bootstrap=True, score=0.8111111111111111, total=   0.1s\n",
      "[CV] max_depth=3, min_samples_split=2, min_samples_leaf=3, criterion=gini, bootstrap=True \n",
      "[CV]  max_depth=3, min_samples_split=2, min_samples_leaf=3, criterion=gini, bootstrap=True, score=0.8113333333333334, total=   0.1s\n",
      "[CV] max_depth=3, min_samples_split=2, min_samples_leaf=3, criterion=gini, bootstrap=True \n",
      "[CV]  max_depth=3, min_samples_split=2, min_samples_leaf=3, criterion=gini, bootstrap=True, score=0.8017777777777778, total=   0.1s\n",
      "[CV] max_depth=3, min_samples_split=2, min_samples_leaf=3, criterion=gini, bootstrap=True \n",
      "[CV]  max_depth=3, min_samples_split=2, min_samples_leaf=3, criterion=gini, bootstrap=True, score=0.8095555555555556, total=   0.1s\n",
      "[CV] max_depth=3, min_samples_split=2, min_samples_leaf=3, criterion=gini, bootstrap=True \n",
      "[CV]  max_depth=3, min_samples_split=2, min_samples_leaf=3, criterion=gini, bootstrap=True, score=0.806, total=   0.0s\n",
      "[CV] max_depth=3, min_samples_split=3, min_samples_leaf=3, criterion=gini, bootstrap=True \n",
      "[CV]  max_depth=3, min_samples_split=3, min_samples_leaf=3, criterion=gini, bootstrap=True, score=0.8111111111111111, total=   0.1s\n",
      "[CV] max_depth=3, min_samples_split=3, min_samples_leaf=3, criterion=gini, bootstrap=True \n",
      "[CV]  max_depth=3, min_samples_split=3, min_samples_leaf=3, criterion=gini, bootstrap=True, score=0.8122222222222222, total=   0.1s\n",
      "[CV] max_depth=3, min_samples_split=3, min_samples_leaf=3, criterion=gini, bootstrap=True \n",
      "[CV]  max_depth=3, min_samples_split=3, min_samples_leaf=3, criterion=gini, bootstrap=True, score=0.804, total=   0.1s\n",
      "[CV] max_depth=3, min_samples_split=3, min_samples_leaf=3, criterion=gini, bootstrap=True \n",
      "[CV]  max_depth=3, min_samples_split=3, min_samples_leaf=3, criterion=gini, bootstrap=True, score=0.8146666666666667, total=   0.1s\n",
      "[CV] max_depth=3, min_samples_split=3, min_samples_leaf=3, criterion=gini, bootstrap=True \n",
      "[CV]  max_depth=3, min_samples_split=3, min_samples_leaf=3, criterion=gini, bootstrap=True, score=0.8124444444444444, total=   0.0s\n",
      "[CV] max_depth=3, min_samples_split=10, min_samples_leaf=3, criterion=gini, bootstrap=True \n",
      "[CV]  max_depth=3, min_samples_split=10, min_samples_leaf=3, criterion=gini, bootstrap=True, score=0.8044444444444444, total=   0.1s\n",
      "[CV] max_depth=3, min_samples_split=10, min_samples_leaf=3, criterion=gini, bootstrap=True \n",
      "[CV]  max_depth=3, min_samples_split=10, min_samples_leaf=3, criterion=gini, bootstrap=True, score=0.8111111111111111, total=   0.1s\n",
      "[CV] max_depth=3, min_samples_split=10, min_samples_leaf=3, criterion=gini, bootstrap=True \n",
      "[CV]  max_depth=3, min_samples_split=10, min_samples_leaf=3, criterion=gini, bootstrap=True, score=0.8022222222222222, total=   0.0s\n",
      "[CV] max_depth=3, min_samples_split=10, min_samples_leaf=3, criterion=gini, bootstrap=True \n",
      "[CV]  max_depth=3, min_samples_split=10, min_samples_leaf=3, criterion=gini, bootstrap=True, score=0.8077777777777778, total=   0.1s\n",
      "[CV] max_depth=3, min_samples_split=10, min_samples_leaf=3, criterion=gini, bootstrap=True \n",
      "[CV]  max_depth=3, min_samples_split=10, min_samples_leaf=3, criterion=gini, bootstrap=True, score=0.8104444444444444, total=   0.1s\n",
      "[CV] max_depth=3, min_samples_split=2, min_samples_leaf=10, criterion=gini, bootstrap=True \n",
      "[CV]  max_depth=3, min_samples_split=2, min_samples_leaf=10, criterion=gini, bootstrap=True, score=0.814, total=   0.0s\n",
      "[CV] max_depth=3, min_samples_split=2, min_samples_leaf=10, criterion=gini, bootstrap=True \n",
      "[CV]  max_depth=3, min_samples_split=2, min_samples_leaf=10, criterion=gini, bootstrap=True, score=0.8091111111111111, total=   0.1s\n",
      "[CV] max_depth=3, min_samples_split=2, min_samples_leaf=10, criterion=gini, bootstrap=True \n",
      "[CV]  max_depth=3, min_samples_split=2, min_samples_leaf=10, criterion=gini, bootstrap=True, score=0.8028888888888889, total=   0.1s\n",
      "[CV] max_depth=3, min_samples_split=2, min_samples_leaf=10, criterion=gini, bootstrap=True \n",
      "[CV]  max_depth=3, min_samples_split=2, min_samples_leaf=10, criterion=gini, bootstrap=True, score=0.8073333333333333, total=   0.1s\n",
      "[CV] max_depth=3, min_samples_split=2, min_samples_leaf=10, criterion=gini, bootstrap=True \n",
      "[CV]  max_depth=3, min_samples_split=2, min_samples_leaf=10, criterion=gini, bootstrap=True, score=0.8177777777777778, total=   0.0s\n",
      "[CV] max_depth=3, min_samples_split=3, min_samples_leaf=10, criterion=gini, bootstrap=True \n",
      "[CV]  max_depth=3, min_samples_split=3, min_samples_leaf=10, criterion=gini, bootstrap=True, score=0.8042222222222222, total=   0.1s\n",
      "[CV] max_depth=3, min_samples_split=3, min_samples_leaf=10, criterion=gini, bootstrap=True \n",
      "[CV]  max_depth=3, min_samples_split=3, min_samples_leaf=10, criterion=gini, bootstrap=True, score=0.8111111111111111, total=   0.0s\n",
      "[CV] max_depth=3, min_samples_split=3, min_samples_leaf=10, criterion=gini, bootstrap=True \n",
      "[CV]  max_depth=3, min_samples_split=3, min_samples_leaf=10, criterion=gini, bootstrap=True, score=0.7991111111111111, total=   0.0s\n",
      "[CV] max_depth=3, min_samples_split=3, min_samples_leaf=10, criterion=gini, bootstrap=True \n",
      "[CV]  max_depth=3, min_samples_split=3, min_samples_leaf=10, criterion=gini, bootstrap=True, score=0.8124444444444444, total=   0.0s\n",
      "[CV] max_depth=3, min_samples_split=3, min_samples_leaf=10, criterion=gini, bootstrap=True \n"
     ]
    },
    {
     "name": "stdout",
     "output_type": "stream",
     "text": [
      "[CV]  max_depth=3, min_samples_split=3, min_samples_leaf=10, criterion=gini, bootstrap=True, score=0.806, total=   0.0s\n",
      "[CV] max_depth=3, min_samples_split=10, min_samples_leaf=10, criterion=gini, bootstrap=True \n",
      "[CV]  max_depth=3, min_samples_split=10, min_samples_leaf=10, criterion=gini, bootstrap=True, score=0.8084444444444444, total=   0.0s\n",
      "[CV] max_depth=3, min_samples_split=10, min_samples_leaf=10, criterion=gini, bootstrap=True \n",
      "[CV]  max_depth=3, min_samples_split=10, min_samples_leaf=10, criterion=gini, bootstrap=True, score=0.8135555555555556, total=   0.1s\n",
      "[CV] max_depth=3, min_samples_split=10, min_samples_leaf=10, criterion=gini, bootstrap=True \n",
      "[CV]  max_depth=3, min_samples_split=10, min_samples_leaf=10, criterion=gini, bootstrap=True, score=0.7986666666666666, total=   0.1s\n",
      "[CV] max_depth=3, min_samples_split=10, min_samples_leaf=10, criterion=gini, bootstrap=True \n",
      "[CV]  max_depth=3, min_samples_split=10, min_samples_leaf=10, criterion=gini, bootstrap=True, score=0.8071111111111111, total=   0.1s\n",
      "[CV] max_depth=3, min_samples_split=10, min_samples_leaf=10, criterion=gini, bootstrap=True \n",
      "[CV]  max_depth=3, min_samples_split=10, min_samples_leaf=10, criterion=gini, bootstrap=True, score=0.8051111111111111, total=   0.0s\n",
      "[CV] max_depth=None, min_samples_split=2, min_samples_leaf=1, criterion=gini, bootstrap=True \n",
      "[CV]  max_depth=None, min_samples_split=2, min_samples_leaf=1, criterion=gini, bootstrap=True, score=0.7984444444444444, total=   0.5s\n",
      "[CV] max_depth=None, min_samples_split=2, min_samples_leaf=1, criterion=gini, bootstrap=True \n",
      "[CV]  max_depth=None, min_samples_split=2, min_samples_leaf=1, criterion=gini, bootstrap=True, score=0.808, total=   0.4s\n",
      "[CV] max_depth=None, min_samples_split=2, min_samples_leaf=1, criterion=gini, bootstrap=True \n",
      "[CV]  max_depth=None, min_samples_split=2, min_samples_leaf=1, criterion=gini, bootstrap=True, score=0.8026666666666666, total=   0.5s\n",
      "[CV] max_depth=None, min_samples_split=2, min_samples_leaf=1, criterion=gini, bootstrap=True \n",
      "[CV]  max_depth=None, min_samples_split=2, min_samples_leaf=1, criterion=gini, bootstrap=True, score=0.8024444444444444, total=   0.5s\n",
      "[CV] max_depth=None, min_samples_split=2, min_samples_leaf=1, criterion=gini, bootstrap=True \n",
      "[CV]  max_depth=None, min_samples_split=2, min_samples_leaf=1, criterion=gini, bootstrap=True, score=0.8064444444444444, total=   0.5s\n",
      "[CV] max_depth=None, min_samples_split=3, min_samples_leaf=1, criterion=gini, bootstrap=True \n",
      "[CV]  max_depth=None, min_samples_split=3, min_samples_leaf=1, criterion=gini, bootstrap=True, score=0.8071111111111111, total=   0.5s\n",
      "[CV] max_depth=None, min_samples_split=3, min_samples_leaf=1, criterion=gini, bootstrap=True \n",
      "[CV]  max_depth=None, min_samples_split=3, min_samples_leaf=1, criterion=gini, bootstrap=True, score=0.8106666666666666, total=   0.4s\n",
      "[CV] max_depth=None, min_samples_split=3, min_samples_leaf=1, criterion=gini, bootstrap=True \n",
      "[CV]  max_depth=None, min_samples_split=3, min_samples_leaf=1, criterion=gini, bootstrap=True, score=0.8004444444444444, total=   0.5s\n",
      "[CV] max_depth=None, min_samples_split=3, min_samples_leaf=1, criterion=gini, bootstrap=True \n",
      "[CV]  max_depth=None, min_samples_split=3, min_samples_leaf=1, criterion=gini, bootstrap=True, score=0.802, total=   0.5s\n",
      "[CV] max_depth=None, min_samples_split=3, min_samples_leaf=1, criterion=gini, bootstrap=True \n",
      "[CV]  max_depth=None, min_samples_split=3, min_samples_leaf=1, criterion=gini, bootstrap=True, score=0.808, total=   0.5s\n",
      "[CV] max_depth=None, min_samples_split=10, min_samples_leaf=1, criterion=gini, bootstrap=True \n",
      "[CV]  max_depth=None, min_samples_split=10, min_samples_leaf=1, criterion=gini, bootstrap=True, score=0.8088888888888889, total=   0.5s\n",
      "[CV] max_depth=None, min_samples_split=10, min_samples_leaf=1, criterion=gini, bootstrap=True \n",
      "[CV]  max_depth=None, min_samples_split=10, min_samples_leaf=1, criterion=gini, bootstrap=True, score=0.8126666666666666, total=   0.5s\n",
      "[CV] max_depth=None, min_samples_split=10, min_samples_leaf=1, criterion=gini, bootstrap=True \n",
      "[CV]  max_depth=None, min_samples_split=10, min_samples_leaf=1, criterion=gini, bootstrap=True, score=0.8066666666666666, total=   0.4s\n",
      "[CV] max_depth=None, min_samples_split=10, min_samples_leaf=1, criterion=gini, bootstrap=True \n",
      "[CV]  max_depth=None, min_samples_split=10, min_samples_leaf=1, criterion=gini, bootstrap=True, score=0.8055555555555556, total=   0.5s\n",
      "[CV] max_depth=None, min_samples_split=10, min_samples_leaf=1, criterion=gini, bootstrap=True \n",
      "[CV]  max_depth=None, min_samples_split=10, min_samples_leaf=1, criterion=gini, bootstrap=True, score=0.8135555555555556, total=   0.5s\n",
      "[CV] max_depth=None, min_samples_split=2, min_samples_leaf=3, criterion=gini, bootstrap=True \n",
      "[CV]  max_depth=None, min_samples_split=2, min_samples_leaf=3, criterion=gini, bootstrap=True, score=0.8113333333333334, total=   0.4s\n",
      "[CV] max_depth=None, min_samples_split=2, min_samples_leaf=3, criterion=gini, bootstrap=True \n",
      "[CV]  max_depth=None, min_samples_split=2, min_samples_leaf=3, criterion=gini, bootstrap=True, score=0.8171111111111111, total=   0.4s\n",
      "[CV] max_depth=None, min_samples_split=2, min_samples_leaf=3, criterion=gini, bootstrap=True \n",
      "[CV]  max_depth=None, min_samples_split=2, min_samples_leaf=3, criterion=gini, bootstrap=True, score=0.8057777777777778, total=   0.4s\n",
      "[CV] max_depth=None, min_samples_split=2, min_samples_leaf=3, criterion=gini, bootstrap=True \n",
      "[CV]  max_depth=None, min_samples_split=2, min_samples_leaf=3, criterion=gini, bootstrap=True, score=0.81, total=   0.4s\n",
      "[CV] max_depth=None, min_samples_split=2, min_samples_leaf=3, criterion=gini, bootstrap=True \n",
      "[CV]  max_depth=None, min_samples_split=2, min_samples_leaf=3, criterion=gini, bootstrap=True, score=0.808, total=   0.4s\n",
      "[CV] max_depth=None, min_samples_split=3, min_samples_leaf=3, criterion=gini, bootstrap=True \n",
      "[CV]  max_depth=None, min_samples_split=3, min_samples_leaf=3, criterion=gini, bootstrap=True, score=0.8157777777777778, total=   0.4s\n",
      "[CV] max_depth=None, min_samples_split=3, min_samples_leaf=3, criterion=gini, bootstrap=True \n",
      "[CV]  max_depth=None, min_samples_split=3, min_samples_leaf=3, criterion=gini, bootstrap=True, score=0.8173333333333334, total=   0.4s\n",
      "[CV] max_depth=None, min_samples_split=3, min_samples_leaf=3, criterion=gini, bootstrap=True \n",
      "[CV]  max_depth=None, min_samples_split=3, min_samples_leaf=3, criterion=gini, bootstrap=True, score=0.8073333333333333, total=   0.4s\n",
      "[CV] max_depth=None, min_samples_split=3, min_samples_leaf=3, criterion=gini, bootstrap=True \n",
      "[CV]  max_depth=None, min_samples_split=3, min_samples_leaf=3, criterion=gini, bootstrap=True, score=0.8066666666666666, total=   0.4s\n",
      "[CV] max_depth=None, min_samples_split=3, min_samples_leaf=3, criterion=gini, bootstrap=True \n",
      "[CV]  max_depth=None, min_samples_split=3, min_samples_leaf=3, criterion=gini, bootstrap=True, score=0.8115555555555556, total=   0.4s\n",
      "[CV] max_depth=None, min_samples_split=10, min_samples_leaf=3, criterion=gini, bootstrap=True \n",
      "[CV]  max_depth=None, min_samples_split=10, min_samples_leaf=3, criterion=gini, bootstrap=True, score=0.8177777777777778, total=   0.4s\n",
      "[CV] max_depth=None, min_samples_split=10, min_samples_leaf=3, criterion=gini, bootstrap=True \n",
      "[CV]  max_depth=None, min_samples_split=10, min_samples_leaf=3, criterion=gini, bootstrap=True, score=0.8248888888888889, total=   0.4s\n",
      "[CV] max_depth=None, min_samples_split=10, min_samples_leaf=3, criterion=gini, bootstrap=True \n",
      "[CV]  max_depth=None, min_samples_split=10, min_samples_leaf=3, criterion=gini, bootstrap=True, score=0.8097777777777778, total=   0.4s\n",
      "[CV] max_depth=None, min_samples_split=10, min_samples_leaf=3, criterion=gini, bootstrap=True \n",
      "[CV]  max_depth=None, min_samples_split=10, min_samples_leaf=3, criterion=gini, bootstrap=True, score=0.8091111111111111, total=   0.4s\n",
      "[CV] max_depth=None, min_samples_split=10, min_samples_leaf=3, criterion=gini, bootstrap=True \n",
      "[CV]  max_depth=None, min_samples_split=10, min_samples_leaf=3, criterion=gini, bootstrap=True, score=0.8173333333333334, total=   0.4s\n",
      "[CV] max_depth=None, min_samples_split=2, min_samples_leaf=10, criterion=gini, bootstrap=True \n",
      "[CV]  max_depth=None, min_samples_split=2, min_samples_leaf=10, criterion=gini, bootstrap=True, score=0.8182222222222222, total=   0.3s\n",
      "[CV] max_depth=None, min_samples_split=2, min_samples_leaf=10, criterion=gini, bootstrap=True \n"
     ]
    },
    {
     "name": "stdout",
     "output_type": "stream",
     "text": [
      "[CV]  max_depth=None, min_samples_split=2, min_samples_leaf=10, criterion=gini, bootstrap=True, score=0.8231111111111111, total=   0.3s\n",
      "[CV] max_depth=None, min_samples_split=2, min_samples_leaf=10, criterion=gini, bootstrap=True \n",
      "[CV]  max_depth=None, min_samples_split=2, min_samples_leaf=10, criterion=gini, bootstrap=True, score=0.8111111111111111, total=   0.3s\n",
      "[CV] max_depth=None, min_samples_split=2, min_samples_leaf=10, criterion=gini, bootstrap=True \n",
      "[CV]  max_depth=None, min_samples_split=2, min_samples_leaf=10, criterion=gini, bootstrap=True, score=0.8111111111111111, total=   0.3s\n",
      "[CV] max_depth=None, min_samples_split=2, min_samples_leaf=10, criterion=gini, bootstrap=True \n",
      "[CV]  max_depth=None, min_samples_split=2, min_samples_leaf=10, criterion=gini, bootstrap=True, score=0.826, total=   0.3s\n",
      "[CV] max_depth=None, min_samples_split=3, min_samples_leaf=10, criterion=gini, bootstrap=True \n",
      "[CV]  max_depth=None, min_samples_split=3, min_samples_leaf=10, criterion=gini, bootstrap=True, score=0.8175555555555556, total=   0.4s\n",
      "[CV] max_depth=None, min_samples_split=3, min_samples_leaf=10, criterion=gini, bootstrap=True \n",
      "[CV]  max_depth=None, min_samples_split=3, min_samples_leaf=10, criterion=gini, bootstrap=True, score=0.8251111111111111, total=   0.4s\n",
      "[CV] max_depth=None, min_samples_split=3, min_samples_leaf=10, criterion=gini, bootstrap=True \n",
      "[CV]  max_depth=None, min_samples_split=3, min_samples_leaf=10, criterion=gini, bootstrap=True, score=0.8144444444444444, total=   0.4s\n",
      "[CV] max_depth=None, min_samples_split=3, min_samples_leaf=10, criterion=gini, bootstrap=True \n",
      "[CV]  max_depth=None, min_samples_split=3, min_samples_leaf=10, criterion=gini, bootstrap=True, score=0.8117777777777778, total=   0.4s\n",
      "[CV] max_depth=None, min_samples_split=3, min_samples_leaf=10, criterion=gini, bootstrap=True \n",
      "[CV]  max_depth=None, min_samples_split=3, min_samples_leaf=10, criterion=gini, bootstrap=True, score=0.8164444444444444, total=   0.4s\n",
      "[CV] max_depth=None, min_samples_split=10, min_samples_leaf=10, criterion=gini, bootstrap=True \n",
      "[CV]  max_depth=None, min_samples_split=10, min_samples_leaf=10, criterion=gini, bootstrap=True, score=0.8177777777777778, total=   0.4s\n",
      "[CV] max_depth=None, min_samples_split=10, min_samples_leaf=10, criterion=gini, bootstrap=True \n",
      "[CV]  max_depth=None, min_samples_split=10, min_samples_leaf=10, criterion=gini, bootstrap=True, score=0.8197777777777778, total=   0.4s\n",
      "[CV] max_depth=None, min_samples_split=10, min_samples_leaf=10, criterion=gini, bootstrap=True \n",
      "[CV]  max_depth=None, min_samples_split=10, min_samples_leaf=10, criterion=gini, bootstrap=True, score=0.8124444444444444, total=   0.3s\n",
      "[CV] max_depth=None, min_samples_split=10, min_samples_leaf=10, criterion=gini, bootstrap=True \n",
      "[CV]  max_depth=None, min_samples_split=10, min_samples_leaf=10, criterion=gini, bootstrap=True, score=0.8151111111111111, total=   0.3s\n",
      "[CV] max_depth=None, min_samples_split=10, min_samples_leaf=10, criterion=gini, bootstrap=True \n",
      "[CV]  max_depth=None, min_samples_split=10, min_samples_leaf=10, criterion=gini, bootstrap=True, score=0.8204444444444444, total=   0.3s\n",
      "[CV] max_depth=3, min_samples_split=2, min_samples_leaf=1, criterion=entropy, bootstrap=True \n",
      "[CV]  max_depth=3, min_samples_split=2, min_samples_leaf=1, criterion=entropy, bootstrap=True, score=0.808, total=   0.1s\n",
      "[CV] max_depth=3, min_samples_split=2, min_samples_leaf=1, criterion=entropy, bootstrap=True \n",
      "[CV]  max_depth=3, min_samples_split=2, min_samples_leaf=1, criterion=entropy, bootstrap=True, score=0.8033333333333333, total=   0.1s\n",
      "[CV] max_depth=3, min_samples_split=2, min_samples_leaf=1, criterion=entropy, bootstrap=True \n",
      "[CV]  max_depth=3, min_samples_split=2, min_samples_leaf=1, criterion=entropy, bootstrap=True, score=0.7991111111111111, total=   0.1s\n",
      "[CV] max_depth=3, min_samples_split=2, min_samples_leaf=1, criterion=entropy, bootstrap=True \n",
      "[CV]  max_depth=3, min_samples_split=2, min_samples_leaf=1, criterion=entropy, bootstrap=True, score=0.8117777777777778, total=   0.1s\n",
      "[CV] max_depth=3, min_samples_split=2, min_samples_leaf=1, criterion=entropy, bootstrap=True \n",
      "[CV]  max_depth=3, min_samples_split=2, min_samples_leaf=1, criterion=entropy, bootstrap=True, score=0.8104444444444444, total=   0.1s\n",
      "[CV] max_depth=3, min_samples_split=3, min_samples_leaf=1, criterion=entropy, bootstrap=True \n",
      "[CV]  max_depth=3, min_samples_split=3, min_samples_leaf=1, criterion=entropy, bootstrap=True, score=0.804, total=   0.1s\n",
      "[CV] max_depth=3, min_samples_split=3, min_samples_leaf=1, criterion=entropy, bootstrap=True \n",
      "[CV]  max_depth=3, min_samples_split=3, min_samples_leaf=1, criterion=entropy, bootstrap=True, score=0.816, total=   0.1s\n",
      "[CV] max_depth=3, min_samples_split=3, min_samples_leaf=1, criterion=entropy, bootstrap=True \n",
      "[CV]  max_depth=3, min_samples_split=3, min_samples_leaf=1, criterion=entropy, bootstrap=True, score=0.8035555555555556, total=   0.1s\n",
      "[CV] max_depth=3, min_samples_split=3, min_samples_leaf=1, criterion=entropy, bootstrap=True \n",
      "[CV]  max_depth=3, min_samples_split=3, min_samples_leaf=1, criterion=entropy, bootstrap=True, score=0.8104444444444444, total=   0.1s\n",
      "[CV] max_depth=3, min_samples_split=3, min_samples_leaf=1, criterion=entropy, bootstrap=True \n",
      "[CV]  max_depth=3, min_samples_split=3, min_samples_leaf=1, criterion=entropy, bootstrap=True, score=0.8122222222222222, total=   0.1s\n",
      "[CV] max_depth=3, min_samples_split=10, min_samples_leaf=1, criterion=entropy, bootstrap=True \n",
      "[CV]  max_depth=3, min_samples_split=10, min_samples_leaf=1, criterion=entropy, bootstrap=True, score=0.8102222222222222, total=   0.1s\n",
      "[CV] max_depth=3, min_samples_split=10, min_samples_leaf=1, criterion=entropy, bootstrap=True \n",
      "[CV]  max_depth=3, min_samples_split=10, min_samples_leaf=1, criterion=entropy, bootstrap=True, score=0.8137777777777778, total=   0.1s\n",
      "[CV] max_depth=3, min_samples_split=10, min_samples_leaf=1, criterion=entropy, bootstrap=True \n",
      "[CV]  max_depth=3, min_samples_split=10, min_samples_leaf=1, criterion=entropy, bootstrap=True, score=0.8015555555555556, total=   0.1s\n",
      "[CV] max_depth=3, min_samples_split=10, min_samples_leaf=1, criterion=entropy, bootstrap=True \n",
      "[CV]  max_depth=3, min_samples_split=10, min_samples_leaf=1, criterion=entropy, bootstrap=True, score=0.8062222222222222, total=   0.1s\n",
      "[CV] max_depth=3, min_samples_split=10, min_samples_leaf=1, criterion=entropy, bootstrap=True \n",
      "[CV]  max_depth=3, min_samples_split=10, min_samples_leaf=1, criterion=entropy, bootstrap=True, score=0.8111111111111111, total=   0.1s\n",
      "[CV] max_depth=3, min_samples_split=2, min_samples_leaf=3, criterion=entropy, bootstrap=True \n",
      "[CV]  max_depth=3, min_samples_split=2, min_samples_leaf=3, criterion=entropy, bootstrap=True, score=0.8053333333333333, total=   0.1s\n",
      "[CV] max_depth=3, min_samples_split=2, min_samples_leaf=3, criterion=entropy, bootstrap=True \n",
      "[CV]  max_depth=3, min_samples_split=2, min_samples_leaf=3, criterion=entropy, bootstrap=True, score=0.8117777777777778, total=   0.1s\n",
      "[CV] max_depth=3, min_samples_split=2, min_samples_leaf=3, criterion=entropy, bootstrap=True \n",
      "[CV]  max_depth=3, min_samples_split=2, min_samples_leaf=3, criterion=entropy, bootstrap=True, score=0.802, total=   0.1s\n",
      "[CV] max_depth=3, min_samples_split=2, min_samples_leaf=3, criterion=entropy, bootstrap=True \n",
      "[CV]  max_depth=3, min_samples_split=2, min_samples_leaf=3, criterion=entropy, bootstrap=True, score=0.8048888888888889, total=   0.1s\n",
      "[CV] max_depth=3, min_samples_split=2, min_samples_leaf=3, criterion=entropy, bootstrap=True \n",
      "[CV]  max_depth=3, min_samples_split=2, min_samples_leaf=3, criterion=entropy, bootstrap=True, score=0.8088888888888889, total=   0.1s\n",
      "[CV] max_depth=3, min_samples_split=3, min_samples_leaf=3, criterion=entropy, bootstrap=True \n",
      "[CV]  max_depth=3, min_samples_split=3, min_samples_leaf=3, criterion=entropy, bootstrap=True, score=0.81, total=   0.1s\n",
      "[CV] max_depth=3, min_samples_split=3, min_samples_leaf=3, criterion=entropy, bootstrap=True \n",
      "[CV]  max_depth=3, min_samples_split=3, min_samples_leaf=3, criterion=entropy, bootstrap=True, score=0.8097777777777778, total=   0.1s\n",
      "[CV] max_depth=3, min_samples_split=3, min_samples_leaf=3, criterion=entropy, bootstrap=True \n"
     ]
    },
    {
     "name": "stdout",
     "output_type": "stream",
     "text": [
      "[CV]  max_depth=3, min_samples_split=3, min_samples_leaf=3, criterion=entropy, bootstrap=True, score=0.7986666666666666, total=   0.1s\n",
      "[CV] max_depth=3, min_samples_split=3, min_samples_leaf=3, criterion=entropy, bootstrap=True \n",
      "[CV]  max_depth=3, min_samples_split=3, min_samples_leaf=3, criterion=entropy, bootstrap=True, score=0.8082222222222222, total=   0.1s\n",
      "[CV] max_depth=3, min_samples_split=3, min_samples_leaf=3, criterion=entropy, bootstrap=True \n",
      "[CV]  max_depth=3, min_samples_split=3, min_samples_leaf=3, criterion=entropy, bootstrap=True, score=0.8082222222222222, total=   0.1s\n",
      "[CV] max_depth=3, min_samples_split=10, min_samples_leaf=3, criterion=entropy, bootstrap=True \n",
      "[CV]  max_depth=3, min_samples_split=10, min_samples_leaf=3, criterion=entropy, bootstrap=True, score=0.8077777777777778, total=   0.1s\n",
      "[CV] max_depth=3, min_samples_split=10, min_samples_leaf=3, criterion=entropy, bootstrap=True \n",
      "[CV]  max_depth=3, min_samples_split=10, min_samples_leaf=3, criterion=entropy, bootstrap=True, score=0.8082222222222222, total=   0.1s\n",
      "[CV] max_depth=3, min_samples_split=10, min_samples_leaf=3, criterion=entropy, bootstrap=True \n",
      "[CV]  max_depth=3, min_samples_split=10, min_samples_leaf=3, criterion=entropy, bootstrap=True, score=0.7946666666666666, total=   0.1s\n",
      "[CV] max_depth=3, min_samples_split=10, min_samples_leaf=3, criterion=entropy, bootstrap=True \n",
      "[CV]  max_depth=3, min_samples_split=10, min_samples_leaf=3, criterion=entropy, bootstrap=True, score=0.8084444444444444, total=   0.1s\n",
      "[CV] max_depth=3, min_samples_split=10, min_samples_leaf=3, criterion=entropy, bootstrap=True \n",
      "[CV]  max_depth=3, min_samples_split=10, min_samples_leaf=3, criterion=entropy, bootstrap=True, score=0.8066666666666666, total=   0.1s\n",
      "[CV] max_depth=3, min_samples_split=2, min_samples_leaf=10, criterion=entropy, bootstrap=True \n",
      "[CV]  max_depth=3, min_samples_split=2, min_samples_leaf=10, criterion=entropy, bootstrap=True, score=0.8111111111111111, total=   0.1s\n",
      "[CV] max_depth=3, min_samples_split=2, min_samples_leaf=10, criterion=entropy, bootstrap=True \n",
      "[CV]  max_depth=3, min_samples_split=2, min_samples_leaf=10, criterion=entropy, bootstrap=True, score=0.8128888888888889, total=   0.1s\n",
      "[CV] max_depth=3, min_samples_split=2, min_samples_leaf=10, criterion=entropy, bootstrap=True \n",
      "[CV]  max_depth=3, min_samples_split=2, min_samples_leaf=10, criterion=entropy, bootstrap=True, score=0.8026666666666666, total=   0.1s\n",
      "[CV] max_depth=3, min_samples_split=2, min_samples_leaf=10, criterion=entropy, bootstrap=True \n",
      "[CV]  max_depth=3, min_samples_split=2, min_samples_leaf=10, criterion=entropy, bootstrap=True, score=0.8126666666666666, total=   0.1s\n",
      "[CV] max_depth=3, min_samples_split=2, min_samples_leaf=10, criterion=entropy, bootstrap=True \n",
      "[CV]  max_depth=3, min_samples_split=2, min_samples_leaf=10, criterion=entropy, bootstrap=True, score=0.8168888888888889, total=   0.1s\n",
      "[CV] max_depth=3, min_samples_split=3, min_samples_leaf=10, criterion=entropy, bootstrap=True \n",
      "[CV]  max_depth=3, min_samples_split=3, min_samples_leaf=10, criterion=entropy, bootstrap=True, score=0.8104444444444444, total=   0.1s\n",
      "[CV] max_depth=3, min_samples_split=3, min_samples_leaf=10, criterion=entropy, bootstrap=True \n",
      "[CV]  max_depth=3, min_samples_split=3, min_samples_leaf=10, criterion=entropy, bootstrap=True, score=0.8106666666666666, total=   0.1s\n",
      "[CV] max_depth=3, min_samples_split=3, min_samples_leaf=10, criterion=entropy, bootstrap=True \n",
      "[CV]  max_depth=3, min_samples_split=3, min_samples_leaf=10, criterion=entropy, bootstrap=True, score=0.8002222222222222, total=   0.1s\n",
      "[CV] max_depth=3, min_samples_split=3, min_samples_leaf=10, criterion=entropy, bootstrap=True \n",
      "[CV]  max_depth=3, min_samples_split=3, min_samples_leaf=10, criterion=entropy, bootstrap=True, score=0.8048888888888889, total=   0.1s\n",
      "[CV] max_depth=3, min_samples_split=3, min_samples_leaf=10, criterion=entropy, bootstrap=True \n",
      "[CV]  max_depth=3, min_samples_split=3, min_samples_leaf=10, criterion=entropy, bootstrap=True, score=0.8115555555555556, total=   0.1s\n",
      "[CV] max_depth=3, min_samples_split=10, min_samples_leaf=10, criterion=entropy, bootstrap=True \n",
      "[CV]  max_depth=3, min_samples_split=10, min_samples_leaf=10, criterion=entropy, bootstrap=True, score=0.8146666666666667, total=   0.1s\n",
      "[CV] max_depth=3, min_samples_split=10, min_samples_leaf=10, criterion=entropy, bootstrap=True \n",
      "[CV]  max_depth=3, min_samples_split=10, min_samples_leaf=10, criterion=entropy, bootstrap=True, score=0.8048888888888889, total=   0.1s\n",
      "[CV] max_depth=3, min_samples_split=10, min_samples_leaf=10, criterion=entropy, bootstrap=True \n",
      "[CV]  max_depth=3, min_samples_split=10, min_samples_leaf=10, criterion=entropy, bootstrap=True, score=0.7988888888888889, total=   0.1s\n",
      "[CV] max_depth=3, min_samples_split=10, min_samples_leaf=10, criterion=entropy, bootstrap=True \n",
      "[CV]  max_depth=3, min_samples_split=10, min_samples_leaf=10, criterion=entropy, bootstrap=True, score=0.8113333333333334, total=   0.1s\n",
      "[CV] max_depth=3, min_samples_split=10, min_samples_leaf=10, criterion=entropy, bootstrap=True \n",
      "[CV]  max_depth=3, min_samples_split=10, min_samples_leaf=10, criterion=entropy, bootstrap=True, score=0.8071111111111111, total=   0.1s\n",
      "[CV] max_depth=None, min_samples_split=2, min_samples_leaf=1, criterion=entropy, bootstrap=True \n",
      "[CV]  max_depth=None, min_samples_split=2, min_samples_leaf=1, criterion=entropy, bootstrap=True, score=0.8137777777777778, total=   0.7s\n",
      "[CV] max_depth=None, min_samples_split=2, min_samples_leaf=1, criterion=entropy, bootstrap=True \n",
      "[CV]  max_depth=None, min_samples_split=2, min_samples_leaf=1, criterion=entropy, bootstrap=True, score=0.8075555555555556, total=   0.6s\n",
      "[CV] max_depth=None, min_samples_split=2, min_samples_leaf=1, criterion=entropy, bootstrap=True \n",
      "[CV]  max_depth=None, min_samples_split=2, min_samples_leaf=1, criterion=entropy, bootstrap=True, score=0.8002222222222222, total=   0.6s\n",
      "[CV] max_depth=None, min_samples_split=2, min_samples_leaf=1, criterion=entropy, bootstrap=True \n",
      "[CV]  max_depth=None, min_samples_split=2, min_samples_leaf=1, criterion=entropy, bootstrap=True, score=0.8026666666666666, total=   0.6s\n",
      "[CV] max_depth=None, min_samples_split=2, min_samples_leaf=1, criterion=entropy, bootstrap=True \n",
      "[CV]  max_depth=None, min_samples_split=2, min_samples_leaf=1, criterion=entropy, bootstrap=True, score=0.8051111111111111, total=   0.6s\n",
      "[CV] max_depth=None, min_samples_split=3, min_samples_leaf=1, criterion=entropy, bootstrap=True \n",
      "[CV]  max_depth=None, min_samples_split=3, min_samples_leaf=1, criterion=entropy, bootstrap=True, score=0.8057777777777778, total=   0.6s\n",
      "[CV] max_depth=None, min_samples_split=3, min_samples_leaf=1, criterion=entropy, bootstrap=True \n",
      "[CV]  max_depth=None, min_samples_split=3, min_samples_leaf=1, criterion=entropy, bootstrap=True, score=0.8151111111111111, total=   0.6s\n",
      "[CV] max_depth=None, min_samples_split=3, min_samples_leaf=1, criterion=entropy, bootstrap=True \n",
      "[CV]  max_depth=None, min_samples_split=3, min_samples_leaf=1, criterion=entropy, bootstrap=True, score=0.8037777777777778, total=   0.7s\n",
      "[CV] max_depth=None, min_samples_split=3, min_samples_leaf=1, criterion=entropy, bootstrap=True \n",
      "[CV]  max_depth=None, min_samples_split=3, min_samples_leaf=1, criterion=entropy, bootstrap=True, score=0.8026666666666666, total=   0.7s\n",
      "[CV] max_depth=None, min_samples_split=3, min_samples_leaf=1, criterion=entropy, bootstrap=True \n",
      "[CV]  max_depth=None, min_samples_split=3, min_samples_leaf=1, criterion=entropy, bootstrap=True, score=0.8093333333333333, total=   0.6s\n",
      "[CV] max_depth=None, min_samples_split=10, min_samples_leaf=1, criterion=entropy, bootstrap=True \n",
      "[CV]  max_depth=None, min_samples_split=10, min_samples_leaf=1, criterion=entropy, bootstrap=True, score=0.8095555555555556, total=   0.6s\n",
      "[CV] max_depth=None, min_samples_split=10, min_samples_leaf=1, criterion=entropy, bootstrap=True \n",
      "[CV]  max_depth=None, min_samples_split=10, min_samples_leaf=1, criterion=entropy, bootstrap=True, score=0.8157777777777778, total=   0.6s\n",
      "[CV] max_depth=None, min_samples_split=10, min_samples_leaf=1, criterion=entropy, bootstrap=True \n",
      "[CV]  max_depth=None, min_samples_split=10, min_samples_leaf=1, criterion=entropy, bootstrap=True, score=0.8024444444444444, total=   0.6s\n",
      "[CV] max_depth=None, min_samples_split=10, min_samples_leaf=1, criterion=entropy, bootstrap=True \n"
     ]
    },
    {
     "name": "stdout",
     "output_type": "stream",
     "text": [
      "[CV]  max_depth=None, min_samples_split=10, min_samples_leaf=1, criterion=entropy, bootstrap=True, score=0.8068888888888889, total=   0.6s\n",
      "[CV] max_depth=None, min_samples_split=10, min_samples_leaf=1, criterion=entropy, bootstrap=True \n",
      "[CV]  max_depth=None, min_samples_split=10, min_samples_leaf=1, criterion=entropy, bootstrap=True, score=0.8106666666666666, total=   0.7s\n",
      "[CV] max_depth=None, min_samples_split=2, min_samples_leaf=3, criterion=entropy, bootstrap=True \n",
      "[CV]  max_depth=None, min_samples_split=2, min_samples_leaf=3, criterion=entropy, bootstrap=True, score=0.8102222222222222, total=   0.6s\n",
      "[CV] max_depth=None, min_samples_split=2, min_samples_leaf=3, criterion=entropy, bootstrap=True \n",
      "[CV]  max_depth=None, min_samples_split=2, min_samples_leaf=3, criterion=entropy, bootstrap=True, score=0.8153333333333334, total=   0.6s\n",
      "[CV] max_depth=None, min_samples_split=2, min_samples_leaf=3, criterion=entropy, bootstrap=True \n",
      "[CV]  max_depth=None, min_samples_split=2, min_samples_leaf=3, criterion=entropy, bootstrap=True, score=0.804, total=   0.6s\n",
      "[CV] max_depth=None, min_samples_split=2, min_samples_leaf=3, criterion=entropy, bootstrap=True \n",
      "[CV]  max_depth=None, min_samples_split=2, min_samples_leaf=3, criterion=entropy, bootstrap=True, score=0.806, total=   0.6s\n",
      "[CV] max_depth=None, min_samples_split=2, min_samples_leaf=3, criterion=entropy, bootstrap=True \n",
      "[CV]  max_depth=None, min_samples_split=2, min_samples_leaf=3, criterion=entropy, bootstrap=True, score=0.8115555555555556, total=   0.6s\n",
      "[CV] max_depth=None, min_samples_split=3, min_samples_leaf=3, criterion=entropy, bootstrap=True \n",
      "[CV]  max_depth=None, min_samples_split=3, min_samples_leaf=3, criterion=entropy, bootstrap=True, score=0.8131111111111111, total=   0.6s\n",
      "[CV] max_depth=None, min_samples_split=3, min_samples_leaf=3, criterion=entropy, bootstrap=True \n",
      "[CV]  max_depth=None, min_samples_split=3, min_samples_leaf=3, criterion=entropy, bootstrap=True, score=0.8217777777777778, total=   0.6s\n",
      "[CV] max_depth=None, min_samples_split=3, min_samples_leaf=3, criterion=entropy, bootstrap=True \n",
      "[CV]  max_depth=None, min_samples_split=3, min_samples_leaf=3, criterion=entropy, bootstrap=True, score=0.8051111111111111, total=   0.6s\n",
      "[CV] max_depth=None, min_samples_split=3, min_samples_leaf=3, criterion=entropy, bootstrap=True \n",
      "[CV]  max_depth=None, min_samples_split=3, min_samples_leaf=3, criterion=entropy, bootstrap=True, score=0.8055555555555556, total=   0.6s\n",
      "[CV] max_depth=None, min_samples_split=3, min_samples_leaf=3, criterion=entropy, bootstrap=True \n",
      "[CV]  max_depth=None, min_samples_split=3, min_samples_leaf=3, criterion=entropy, bootstrap=True, score=0.8124444444444444, total=   0.7s\n",
      "[CV] max_depth=None, min_samples_split=10, min_samples_leaf=3, criterion=entropy, bootstrap=True \n",
      "[CV]  max_depth=None, min_samples_split=10, min_samples_leaf=3, criterion=entropy, bootstrap=True, score=0.8148888888888889, total=   0.6s\n",
      "[CV] max_depth=None, min_samples_split=10, min_samples_leaf=3, criterion=entropy, bootstrap=True \n",
      "[CV]  max_depth=None, min_samples_split=10, min_samples_leaf=3, criterion=entropy, bootstrap=True, score=0.814, total=   0.6s\n",
      "[CV] max_depth=None, min_samples_split=10, min_samples_leaf=3, criterion=entropy, bootstrap=True \n",
      "[CV]  max_depth=None, min_samples_split=10, min_samples_leaf=3, criterion=entropy, bootstrap=True, score=0.8122222222222222, total=   0.6s\n",
      "[CV] max_depth=None, min_samples_split=10, min_samples_leaf=3, criterion=entropy, bootstrap=True \n",
      "[CV]  max_depth=None, min_samples_split=10, min_samples_leaf=3, criterion=entropy, bootstrap=True, score=0.8111111111111111, total=   0.6s\n",
      "[CV] max_depth=None, min_samples_split=10, min_samples_leaf=3, criterion=entropy, bootstrap=True \n",
      "[CV]  max_depth=None, min_samples_split=10, min_samples_leaf=3, criterion=entropy, bootstrap=True, score=0.812, total=   0.7s\n",
      "[CV] max_depth=None, min_samples_split=2, min_samples_leaf=10, criterion=entropy, bootstrap=True \n",
      "[CV]  max_depth=None, min_samples_split=2, min_samples_leaf=10, criterion=entropy, bootstrap=True, score=0.8153333333333334, total=   0.5s\n",
      "[CV] max_depth=None, min_samples_split=2, min_samples_leaf=10, criterion=entropy, bootstrap=True \n",
      "[CV]  max_depth=None, min_samples_split=2, min_samples_leaf=10, criterion=entropy, bootstrap=True, score=0.82, total=   0.5s\n",
      "[CV] max_depth=None, min_samples_split=2, min_samples_leaf=10, criterion=entropy, bootstrap=True \n",
      "[CV]  max_depth=None, min_samples_split=2, min_samples_leaf=10, criterion=entropy, bootstrap=True, score=0.8117777777777778, total=   0.5s\n",
      "[CV] max_depth=None, min_samples_split=2, min_samples_leaf=10, criterion=entropy, bootstrap=True \n",
      "[CV]  max_depth=None, min_samples_split=2, min_samples_leaf=10, criterion=entropy, bootstrap=True, score=0.8086666666666666, total=   0.5s\n",
      "[CV] max_depth=None, min_samples_split=2, min_samples_leaf=10, criterion=entropy, bootstrap=True \n",
      "[CV]  max_depth=None, min_samples_split=2, min_samples_leaf=10, criterion=entropy, bootstrap=True, score=0.8168888888888889, total=   0.5s\n",
      "[CV] max_depth=None, min_samples_split=3, min_samples_leaf=10, criterion=entropy, bootstrap=True \n",
      "[CV]  max_depth=None, min_samples_split=3, min_samples_leaf=10, criterion=entropy, bootstrap=True, score=0.8202222222222222, total=   0.5s\n",
      "[CV] max_depth=None, min_samples_split=3, min_samples_leaf=10, criterion=entropy, bootstrap=True \n",
      "[CV]  max_depth=None, min_samples_split=3, min_samples_leaf=10, criterion=entropy, bootstrap=True, score=0.8217777777777778, total=   0.5s\n",
      "[CV] max_depth=None, min_samples_split=3, min_samples_leaf=10, criterion=entropy, bootstrap=True \n",
      "[CV]  max_depth=None, min_samples_split=3, min_samples_leaf=10, criterion=entropy, bootstrap=True, score=0.8133333333333334, total=   0.5s\n",
      "[CV] max_depth=None, min_samples_split=3, min_samples_leaf=10, criterion=entropy, bootstrap=True \n",
      "[CV]  max_depth=None, min_samples_split=3, min_samples_leaf=10, criterion=entropy, bootstrap=True, score=0.8137777777777778, total=   0.5s\n",
      "[CV] max_depth=None, min_samples_split=3, min_samples_leaf=10, criterion=entropy, bootstrap=True \n",
      "[CV]  max_depth=None, min_samples_split=3, min_samples_leaf=10, criterion=entropy, bootstrap=True, score=0.8197777777777778, total=   0.6s\n",
      "[CV] max_depth=None, min_samples_split=10, min_samples_leaf=10, criterion=entropy, bootstrap=True \n",
      "[CV]  max_depth=None, min_samples_split=10, min_samples_leaf=10, criterion=entropy, bootstrap=True, score=0.8175555555555556, total=   0.5s\n",
      "[CV] max_depth=None, min_samples_split=10, min_samples_leaf=10, criterion=entropy, bootstrap=True \n",
      "[CV]  max_depth=None, min_samples_split=10, min_samples_leaf=10, criterion=entropy, bootstrap=True, score=0.8206666666666667, total=   0.5s\n",
      "[CV] max_depth=None, min_samples_split=10, min_samples_leaf=10, criterion=entropy, bootstrap=True \n",
      "[CV]  max_depth=None, min_samples_split=10, min_samples_leaf=10, criterion=entropy, bootstrap=True, score=0.8124444444444444, total=   0.5s\n",
      "[CV] max_depth=None, min_samples_split=10, min_samples_leaf=10, criterion=entropy, bootstrap=True \n",
      "[CV]  max_depth=None, min_samples_split=10, min_samples_leaf=10, criterion=entropy, bootstrap=True, score=0.8124444444444444, total=   0.6s\n",
      "[CV] max_depth=None, min_samples_split=10, min_samples_leaf=10, criterion=entropy, bootstrap=True \n",
      "[CV]  max_depth=None, min_samples_split=10, min_samples_leaf=10, criterion=entropy, bootstrap=True, score=0.8204444444444444, total=   0.5s\n",
      "[CV] max_depth=3, min_samples_split=2, min_samples_leaf=1, criterion=gini, bootstrap=False \n",
      "[CV]  max_depth=3, min_samples_split=2, min_samples_leaf=1, criterion=gini, bootstrap=False, score=0.8095555555555556, total=   0.1s\n",
      "[CV] max_depth=3, min_samples_split=2, min_samples_leaf=1, criterion=gini, bootstrap=False \n",
      "[CV]  max_depth=3, min_samples_split=2, min_samples_leaf=1, criterion=gini, bootstrap=False, score=0.8197777777777778, total=   0.1s\n",
      "[CV] max_depth=3, min_samples_split=2, min_samples_leaf=1, criterion=gini, bootstrap=False \n",
      "[CV]  max_depth=3, min_samples_split=2, min_samples_leaf=1, criterion=gini, bootstrap=False, score=0.8004444444444444, total=   0.1s\n",
      "[CV] max_depth=3, min_samples_split=2, min_samples_leaf=1, criterion=gini, bootstrap=False \n",
      "[CV]  max_depth=3, min_samples_split=2, min_samples_leaf=1, criterion=gini, bootstrap=False, score=0.8022222222222222, total=   0.1s\n",
      "[CV] max_depth=3, min_samples_split=2, min_samples_leaf=1, criterion=gini, bootstrap=False \n"
     ]
    },
    {
     "name": "stdout",
     "output_type": "stream",
     "text": [
      "[CV]  max_depth=3, min_samples_split=2, min_samples_leaf=1, criterion=gini, bootstrap=False, score=0.8095555555555556, total=   0.1s\n",
      "[CV] max_depth=3, min_samples_split=3, min_samples_leaf=1, criterion=gini, bootstrap=False \n",
      "[CV]  max_depth=3, min_samples_split=3, min_samples_leaf=1, criterion=gini, bootstrap=False, score=0.8053333333333333, total=   0.1s\n",
      "[CV] max_depth=3, min_samples_split=3, min_samples_leaf=1, criterion=gini, bootstrap=False \n",
      "[CV]  max_depth=3, min_samples_split=3, min_samples_leaf=1, criterion=gini, bootstrap=False, score=0.814, total=   0.1s\n",
      "[CV] max_depth=3, min_samples_split=3, min_samples_leaf=1, criterion=gini, bootstrap=False \n",
      "[CV]  max_depth=3, min_samples_split=3, min_samples_leaf=1, criterion=gini, bootstrap=False, score=0.8075555555555556, total=   0.1s\n",
      "[CV] max_depth=3, min_samples_split=3, min_samples_leaf=1, criterion=gini, bootstrap=False \n",
      "[CV]  max_depth=3, min_samples_split=3, min_samples_leaf=1, criterion=gini, bootstrap=False, score=0.81, total=   0.1s\n",
      "[CV] max_depth=3, min_samples_split=3, min_samples_leaf=1, criterion=gini, bootstrap=False \n",
      "[CV]  max_depth=3, min_samples_split=3, min_samples_leaf=1, criterion=gini, bootstrap=False, score=0.8115555555555556, total=   0.1s\n",
      "[CV] max_depth=3, min_samples_split=10, min_samples_leaf=1, criterion=gini, bootstrap=False \n",
      "[CV]  max_depth=3, min_samples_split=10, min_samples_leaf=1, criterion=gini, bootstrap=False, score=0.8048888888888889, total=   0.1s\n",
      "[CV] max_depth=3, min_samples_split=10, min_samples_leaf=1, criterion=gini, bootstrap=False \n",
      "[CV]  max_depth=3, min_samples_split=10, min_samples_leaf=1, criterion=gini, bootstrap=False, score=0.8064444444444444, total=   0.1s\n",
      "[CV] max_depth=3, min_samples_split=10, min_samples_leaf=1, criterion=gini, bootstrap=False \n",
      "[CV]  max_depth=3, min_samples_split=10, min_samples_leaf=1, criterion=gini, bootstrap=False, score=0.8006666666666666, total=   0.1s\n",
      "[CV] max_depth=3, min_samples_split=10, min_samples_leaf=1, criterion=gini, bootstrap=False \n",
      "[CV]  max_depth=3, min_samples_split=10, min_samples_leaf=1, criterion=gini, bootstrap=False, score=0.8064444444444444, total=   0.1s\n",
      "[CV] max_depth=3, min_samples_split=10, min_samples_leaf=1, criterion=gini, bootstrap=False \n",
      "[CV]  max_depth=3, min_samples_split=10, min_samples_leaf=1, criterion=gini, bootstrap=False, score=0.8095555555555556, total=   0.1s\n",
      "[CV] max_depth=3, min_samples_split=2, min_samples_leaf=3, criterion=gini, bootstrap=False \n",
      "[CV]  max_depth=3, min_samples_split=2, min_samples_leaf=3, criterion=gini, bootstrap=False, score=0.8135555555555556, total=   0.1s\n",
      "[CV] max_depth=3, min_samples_split=2, min_samples_leaf=3, criterion=gini, bootstrap=False \n",
      "[CV]  max_depth=3, min_samples_split=2, min_samples_leaf=3, criterion=gini, bootstrap=False, score=0.8108888888888889, total=   0.1s\n",
      "[CV] max_depth=3, min_samples_split=2, min_samples_leaf=3, criterion=gini, bootstrap=False \n",
      "[CV]  max_depth=3, min_samples_split=2, min_samples_leaf=3, criterion=gini, bootstrap=False, score=0.804, total=   0.1s\n",
      "[CV] max_depth=3, min_samples_split=2, min_samples_leaf=3, criterion=gini, bootstrap=False \n",
      "[CV]  max_depth=3, min_samples_split=2, min_samples_leaf=3, criterion=gini, bootstrap=False, score=0.8097777777777778, total=   0.1s\n",
      "[CV] max_depth=3, min_samples_split=2, min_samples_leaf=3, criterion=gini, bootstrap=False \n",
      "[CV]  max_depth=3, min_samples_split=2, min_samples_leaf=3, criterion=gini, bootstrap=False, score=0.8237777777777778, total=   0.2s\n",
      "[CV] max_depth=3, min_samples_split=3, min_samples_leaf=3, criterion=gini, bootstrap=False \n",
      "[CV]  max_depth=3, min_samples_split=3, min_samples_leaf=3, criterion=gini, bootstrap=False, score=0.8008888888888889, total=   0.1s\n",
      "[CV] max_depth=3, min_samples_split=3, min_samples_leaf=3, criterion=gini, bootstrap=False \n",
      "[CV]  max_depth=3, min_samples_split=3, min_samples_leaf=3, criterion=gini, bootstrap=False, score=0.8108888888888889, total=   0.1s\n",
      "[CV] max_depth=3, min_samples_split=3, min_samples_leaf=3, criterion=gini, bootstrap=False \n",
      "[CV]  max_depth=3, min_samples_split=3, min_samples_leaf=3, criterion=gini, bootstrap=False, score=0.8095555555555556, total=   0.1s\n",
      "[CV] max_depth=3, min_samples_split=3, min_samples_leaf=3, criterion=gini, bootstrap=False \n",
      "[CV]  max_depth=3, min_samples_split=3, min_samples_leaf=3, criterion=gini, bootstrap=False, score=0.8044444444444444, total=   0.1s\n",
      "[CV] max_depth=3, min_samples_split=3, min_samples_leaf=3, criterion=gini, bootstrap=False \n",
      "[CV]  max_depth=3, min_samples_split=3, min_samples_leaf=3, criterion=gini, bootstrap=False, score=0.812, total=   0.1s\n",
      "[CV] max_depth=3, min_samples_split=10, min_samples_leaf=3, criterion=gini, bootstrap=False \n",
      "[CV]  max_depth=3, min_samples_split=10, min_samples_leaf=3, criterion=gini, bootstrap=False, score=0.8073333333333333, total=   0.1s\n",
      "[CV] max_depth=3, min_samples_split=10, min_samples_leaf=3, criterion=gini, bootstrap=False \n",
      "[CV]  max_depth=3, min_samples_split=10, min_samples_leaf=3, criterion=gini, bootstrap=False, score=0.8095555555555556, total=   0.1s\n",
      "[CV] max_depth=3, min_samples_split=10, min_samples_leaf=3, criterion=gini, bootstrap=False \n",
      "[CV]  max_depth=3, min_samples_split=10, min_samples_leaf=3, criterion=gini, bootstrap=False, score=0.7966666666666666, total=   0.1s\n",
      "[CV] max_depth=3, min_samples_split=10, min_samples_leaf=3, criterion=gini, bootstrap=False \n",
      "[CV]  max_depth=3, min_samples_split=10, min_samples_leaf=3, criterion=gini, bootstrap=False, score=0.8088888888888889, total=   0.1s\n",
      "[CV] max_depth=3, min_samples_split=10, min_samples_leaf=3, criterion=gini, bootstrap=False \n",
      "[CV]  max_depth=3, min_samples_split=10, min_samples_leaf=3, criterion=gini, bootstrap=False, score=0.8144444444444444, total=   0.1s\n",
      "[CV] max_depth=3, min_samples_split=2, min_samples_leaf=10, criterion=gini, bootstrap=False \n",
      "[CV]  max_depth=3, min_samples_split=2, min_samples_leaf=10, criterion=gini, bootstrap=False, score=0.8086666666666666, total=   0.1s\n",
      "[CV] max_depth=3, min_samples_split=2, min_samples_leaf=10, criterion=gini, bootstrap=False \n",
      "[CV]  max_depth=3, min_samples_split=2, min_samples_leaf=10, criterion=gini, bootstrap=False, score=0.8191111111111111, total=   0.1s\n",
      "[CV] max_depth=3, min_samples_split=2, min_samples_leaf=10, criterion=gini, bootstrap=False \n",
      "[CV]  max_depth=3, min_samples_split=2, min_samples_leaf=10, criterion=gini, bootstrap=False, score=0.8011111111111111, total=   0.1s\n",
      "[CV] max_depth=3, min_samples_split=2, min_samples_leaf=10, criterion=gini, bootstrap=False \n",
      "[CV]  max_depth=3, min_samples_split=2, min_samples_leaf=10, criterion=gini, bootstrap=False, score=0.8104444444444444, total=   0.1s\n",
      "[CV] max_depth=3, min_samples_split=2, min_samples_leaf=10, criterion=gini, bootstrap=False \n",
      "[CV]  max_depth=3, min_samples_split=2, min_samples_leaf=10, criterion=gini, bootstrap=False, score=0.8131111111111111, total=   0.1s\n",
      "[CV] max_depth=3, min_samples_split=3, min_samples_leaf=10, criterion=gini, bootstrap=False \n",
      "[CV]  max_depth=3, min_samples_split=3, min_samples_leaf=10, criterion=gini, bootstrap=False, score=0.8095555555555556, total=   0.1s\n",
      "[CV] max_depth=3, min_samples_split=3, min_samples_leaf=10, criterion=gini, bootstrap=False \n",
      "[CV]  max_depth=3, min_samples_split=3, min_samples_leaf=10, criterion=gini, bootstrap=False, score=0.8064444444444444, total=   0.1s\n",
      "[CV] max_depth=3, min_samples_split=3, min_samples_leaf=10, criterion=gini, bootstrap=False \n",
      "[CV]  max_depth=3, min_samples_split=3, min_samples_leaf=10, criterion=gini, bootstrap=False, score=0.8037777777777778, total=   0.1s\n",
      "[CV] max_depth=3, min_samples_split=3, min_samples_leaf=10, criterion=gini, bootstrap=False \n",
      "[CV]  max_depth=3, min_samples_split=3, min_samples_leaf=10, criterion=gini, bootstrap=False, score=0.8097777777777778, total=   0.1s\n",
      "[CV] max_depth=3, min_samples_split=3, min_samples_leaf=10, criterion=gini, bootstrap=False \n",
      "[CV]  max_depth=3, min_samples_split=3, min_samples_leaf=10, criterion=gini, bootstrap=False, score=0.8042222222222222, total=   0.1s\n",
      "[CV] max_depth=3, min_samples_split=10, min_samples_leaf=10, criterion=gini, bootstrap=False \n",
      "[CV]  max_depth=3, min_samples_split=10, min_samples_leaf=10, criterion=gini, bootstrap=False, score=0.8113333333333334, total=   0.1s\n",
      "[CV] max_depth=3, min_samples_split=10, min_samples_leaf=10, criterion=gini, bootstrap=False \n"
     ]
    },
    {
     "name": "stdout",
     "output_type": "stream",
     "text": [
      "[CV]  max_depth=3, min_samples_split=10, min_samples_leaf=10, criterion=gini, bootstrap=False, score=0.8115555555555556, total=   0.1s\n",
      "[CV] max_depth=3, min_samples_split=10, min_samples_leaf=10, criterion=gini, bootstrap=False \n",
      "[CV]  max_depth=3, min_samples_split=10, min_samples_leaf=10, criterion=gini, bootstrap=False, score=0.8013333333333333, total=   0.1s\n",
      "[CV] max_depth=3, min_samples_split=10, min_samples_leaf=10, criterion=gini, bootstrap=False \n",
      "[CV]  max_depth=3, min_samples_split=10, min_samples_leaf=10, criterion=gini, bootstrap=False, score=0.8022222222222222, total=   0.1s\n",
      "[CV] max_depth=3, min_samples_split=10, min_samples_leaf=10, criterion=gini, bootstrap=False \n",
      "[CV]  max_depth=3, min_samples_split=10, min_samples_leaf=10, criterion=gini, bootstrap=False, score=0.8113333333333334, total=   0.1s\n",
      "[CV] max_depth=None, min_samples_split=2, min_samples_leaf=1, criterion=gini, bootstrap=False \n",
      "[CV]  max_depth=None, min_samples_split=2, min_samples_leaf=1, criterion=gini, bootstrap=False, score=0.8028888888888889, total=   0.8s\n",
      "[CV] max_depth=None, min_samples_split=2, min_samples_leaf=1, criterion=gini, bootstrap=False \n",
      "[CV]  max_depth=None, min_samples_split=2, min_samples_leaf=1, criterion=gini, bootstrap=False, score=0.8042222222222222, total=   0.7s\n",
      "[CV] max_depth=None, min_samples_split=2, min_samples_leaf=1, criterion=gini, bootstrap=False \n",
      "[CV]  max_depth=None, min_samples_split=2, min_samples_leaf=1, criterion=gini, bootstrap=False, score=0.7951111111111111, total=   0.7s\n",
      "[CV] max_depth=None, min_samples_split=2, min_samples_leaf=1, criterion=gini, bootstrap=False \n",
      "[CV]  max_depth=None, min_samples_split=2, min_samples_leaf=1, criterion=gini, bootstrap=False, score=0.7984444444444444, total=   0.8s\n",
      "[CV] max_depth=None, min_samples_split=2, min_samples_leaf=1, criterion=gini, bootstrap=False \n",
      "[CV]  max_depth=None, min_samples_split=2, min_samples_leaf=1, criterion=gini, bootstrap=False, score=0.8024444444444444, total=   0.7s\n",
      "[CV] max_depth=None, min_samples_split=3, min_samples_leaf=1, criterion=gini, bootstrap=False \n",
      "[CV]  max_depth=None, min_samples_split=3, min_samples_leaf=1, criterion=gini, bootstrap=False, score=0.8064444444444444, total=   0.8s\n",
      "[CV] max_depth=None, min_samples_split=3, min_samples_leaf=1, criterion=gini, bootstrap=False \n",
      "[CV]  max_depth=None, min_samples_split=3, min_samples_leaf=1, criterion=gini, bootstrap=False, score=0.814, total=   0.7s\n",
      "[CV] max_depth=None, min_samples_split=3, min_samples_leaf=1, criterion=gini, bootstrap=False \n",
      "[CV]  max_depth=None, min_samples_split=3, min_samples_leaf=1, criterion=gini, bootstrap=False, score=0.7975555555555556, total=   0.8s\n",
      "[CV] max_depth=None, min_samples_split=3, min_samples_leaf=1, criterion=gini, bootstrap=False \n",
      "[CV]  max_depth=None, min_samples_split=3, min_samples_leaf=1, criterion=gini, bootstrap=False, score=0.8062222222222222, total=   0.8s\n",
      "[CV] max_depth=None, min_samples_split=3, min_samples_leaf=1, criterion=gini, bootstrap=False \n",
      "[CV]  max_depth=None, min_samples_split=3, min_samples_leaf=1, criterion=gini, bootstrap=False, score=0.8024444444444444, total=   0.8s\n",
      "[CV] max_depth=None, min_samples_split=10, min_samples_leaf=1, criterion=gini, bootstrap=False \n",
      "[CV]  max_depth=None, min_samples_split=10, min_samples_leaf=1, criterion=gini, bootstrap=False, score=0.8062222222222222, total=   0.7s\n",
      "[CV] max_depth=None, min_samples_split=10, min_samples_leaf=1, criterion=gini, bootstrap=False \n",
      "[CV]  max_depth=None, min_samples_split=10, min_samples_leaf=1, criterion=gini, bootstrap=False, score=0.8193333333333334, total=   0.7s\n",
      "[CV] max_depth=None, min_samples_split=10, min_samples_leaf=1, criterion=gini, bootstrap=False \n",
      "[CV]  max_depth=None, min_samples_split=10, min_samples_leaf=1, criterion=gini, bootstrap=False, score=0.806, total=   0.7s\n",
      "[CV] max_depth=None, min_samples_split=10, min_samples_leaf=1, criterion=gini, bootstrap=False \n",
      "[CV]  max_depth=None, min_samples_split=10, min_samples_leaf=1, criterion=gini, bootstrap=False, score=0.8035555555555556, total=   0.8s\n",
      "[CV] max_depth=None, min_samples_split=10, min_samples_leaf=1, criterion=gini, bootstrap=False \n",
      "[CV]  max_depth=None, min_samples_split=10, min_samples_leaf=1, criterion=gini, bootstrap=False, score=0.8115555555555556, total=   0.8s\n",
      "[CV] max_depth=None, min_samples_split=2, min_samples_leaf=3, criterion=gini, bootstrap=False \n",
      "[CV]  max_depth=None, min_samples_split=2, min_samples_leaf=3, criterion=gini, bootstrap=False, score=0.8128888888888889, total=   0.7s\n",
      "[CV] max_depth=None, min_samples_split=2, min_samples_leaf=3, criterion=gini, bootstrap=False \n",
      "[CV]  max_depth=None, min_samples_split=2, min_samples_leaf=3, criterion=gini, bootstrap=False, score=0.8171111111111111, total=   0.7s\n",
      "[CV] max_depth=None, min_samples_split=2, min_samples_leaf=3, criterion=gini, bootstrap=False \n",
      "[CV]  max_depth=None, min_samples_split=2, min_samples_leaf=3, criterion=gini, bootstrap=False, score=0.8055555555555556, total=   0.7s\n",
      "[CV] max_depth=None, min_samples_split=2, min_samples_leaf=3, criterion=gini, bootstrap=False \n",
      "[CV]  max_depth=None, min_samples_split=2, min_samples_leaf=3, criterion=gini, bootstrap=False, score=0.8108888888888889, total=   0.7s\n",
      "[CV] max_depth=None, min_samples_split=2, min_samples_leaf=3, criterion=gini, bootstrap=False \n",
      "[CV]  max_depth=None, min_samples_split=2, min_samples_leaf=3, criterion=gini, bootstrap=False, score=0.8097777777777778, total=   0.7s\n",
      "[CV] max_depth=None, min_samples_split=3, min_samples_leaf=3, criterion=gini, bootstrap=False \n",
      "[CV]  max_depth=None, min_samples_split=3, min_samples_leaf=3, criterion=gini, bootstrap=False, score=0.8164444444444444, total=   0.8s\n",
      "[CV] max_depth=None, min_samples_split=3, min_samples_leaf=3, criterion=gini, bootstrap=False \n",
      "[CV]  max_depth=None, min_samples_split=3, min_samples_leaf=3, criterion=gini, bootstrap=False, score=0.8173333333333334, total=   0.7s\n",
      "[CV] max_depth=None, min_samples_split=3, min_samples_leaf=3, criterion=gini, bootstrap=False \n",
      "[CV]  max_depth=None, min_samples_split=3, min_samples_leaf=3, criterion=gini, bootstrap=False, score=0.8062222222222222, total=   0.7s\n",
      "[CV] max_depth=None, min_samples_split=3, min_samples_leaf=3, criterion=gini, bootstrap=False \n",
      "[CV]  max_depth=None, min_samples_split=3, min_samples_leaf=3, criterion=gini, bootstrap=False, score=0.7995555555555556, total=   0.7s\n",
      "[CV] max_depth=None, min_samples_split=3, min_samples_leaf=3, criterion=gini, bootstrap=False \n",
      "[CV]  max_depth=None, min_samples_split=3, min_samples_leaf=3, criterion=gini, bootstrap=False, score=0.8088888888888889, total=   0.7s\n",
      "[CV] max_depth=None, min_samples_split=10, min_samples_leaf=3, criterion=gini, bootstrap=False \n",
      "[CV]  max_depth=None, min_samples_split=10, min_samples_leaf=3, criterion=gini, bootstrap=False, score=0.8144444444444444, total=   0.7s\n",
      "[CV] max_depth=None, min_samples_split=10, min_samples_leaf=3, criterion=gini, bootstrap=False \n",
      "[CV]  max_depth=None, min_samples_split=10, min_samples_leaf=3, criterion=gini, bootstrap=False, score=0.8186666666666667, total=   0.7s\n",
      "[CV] max_depth=None, min_samples_split=10, min_samples_leaf=3, criterion=gini, bootstrap=False \n",
      "[CV]  max_depth=None, min_samples_split=10, min_samples_leaf=3, criterion=gini, bootstrap=False, score=0.8082222222222222, total=   0.8s\n",
      "[CV] max_depth=None, min_samples_split=10, min_samples_leaf=3, criterion=gini, bootstrap=False \n",
      "[CV]  max_depth=None, min_samples_split=10, min_samples_leaf=3, criterion=gini, bootstrap=False, score=0.8082222222222222, total=   0.7s\n",
      "[CV] max_depth=None, min_samples_split=10, min_samples_leaf=3, criterion=gini, bootstrap=False \n",
      "[CV]  max_depth=None, min_samples_split=10, min_samples_leaf=3, criterion=gini, bootstrap=False, score=0.81, total=   0.7s\n",
      "[CV] max_depth=None, min_samples_split=2, min_samples_leaf=10, criterion=gini, bootstrap=False \n",
      "[CV]  max_depth=None, min_samples_split=2, min_samples_leaf=10, criterion=gini, bootstrap=False, score=0.8153333333333334, total=   0.6s\n",
      "[CV] max_depth=None, min_samples_split=2, min_samples_leaf=10, criterion=gini, bootstrap=False \n",
      "[CV]  max_depth=None, min_samples_split=2, min_samples_leaf=10, criterion=gini, bootstrap=False, score=0.8226666666666667, total=   0.6s\n",
      "[CV] max_depth=None, min_samples_split=2, min_samples_leaf=10, criterion=gini, bootstrap=False \n"
     ]
    },
    {
     "name": "stdout",
     "output_type": "stream",
     "text": [
      "[CV]  max_depth=None, min_samples_split=2, min_samples_leaf=10, criterion=gini, bootstrap=False, score=0.814, total=   0.6s\n",
      "[CV] max_depth=None, min_samples_split=2, min_samples_leaf=10, criterion=gini, bootstrap=False \n",
      "[CV]  max_depth=None, min_samples_split=2, min_samples_leaf=10, criterion=gini, bootstrap=False, score=0.8142222222222222, total=   0.6s\n",
      "[CV] max_depth=None, min_samples_split=2, min_samples_leaf=10, criterion=gini, bootstrap=False \n",
      "[CV]  max_depth=None, min_samples_split=2, min_samples_leaf=10, criterion=gini, bootstrap=False, score=0.816, total=   0.6s\n",
      "[CV] max_depth=None, min_samples_split=3, min_samples_leaf=10, criterion=gini, bootstrap=False \n",
      "[CV]  max_depth=None, min_samples_split=3, min_samples_leaf=10, criterion=gini, bootstrap=False, score=0.8175555555555556, total=   0.6s\n",
      "[CV] max_depth=None, min_samples_split=3, min_samples_leaf=10, criterion=gini, bootstrap=False \n",
      "[CV]  max_depth=None, min_samples_split=3, min_samples_leaf=10, criterion=gini, bootstrap=False, score=0.8248888888888889, total=   0.6s\n",
      "[CV] max_depth=None, min_samples_split=3, min_samples_leaf=10, criterion=gini, bootstrap=False \n",
      "[CV]  max_depth=None, min_samples_split=3, min_samples_leaf=10, criterion=gini, bootstrap=False, score=0.816, total=   0.7s\n",
      "[CV] max_depth=None, min_samples_split=3, min_samples_leaf=10, criterion=gini, bootstrap=False \n",
      "[CV]  max_depth=None, min_samples_split=3, min_samples_leaf=10, criterion=gini, bootstrap=False, score=0.81, total=   0.6s\n",
      "[CV] max_depth=None, min_samples_split=3, min_samples_leaf=10, criterion=gini, bootstrap=False \n",
      "[CV]  max_depth=None, min_samples_split=3, min_samples_leaf=10, criterion=gini, bootstrap=False, score=0.8184444444444444, total=   0.6s\n",
      "[CV] max_depth=None, min_samples_split=10, min_samples_leaf=10, criterion=gini, bootstrap=False \n",
      "[CV]  max_depth=None, min_samples_split=10, min_samples_leaf=10, criterion=gini, bootstrap=False, score=0.8204444444444444, total=   0.6s\n",
      "[CV] max_depth=None, min_samples_split=10, min_samples_leaf=10, criterion=gini, bootstrap=False \n",
      "[CV]  max_depth=None, min_samples_split=10, min_samples_leaf=10, criterion=gini, bootstrap=False, score=0.826, total=   0.6s\n",
      "[CV] max_depth=None, min_samples_split=10, min_samples_leaf=10, criterion=gini, bootstrap=False \n",
      "[CV]  max_depth=None, min_samples_split=10, min_samples_leaf=10, criterion=gini, bootstrap=False, score=0.8168888888888889, total=   0.7s\n",
      "[CV] max_depth=None, min_samples_split=10, min_samples_leaf=10, criterion=gini, bootstrap=False \n",
      "[CV]  max_depth=None, min_samples_split=10, min_samples_leaf=10, criterion=gini, bootstrap=False, score=0.8124444444444444, total=   0.6s\n",
      "[CV] max_depth=None, min_samples_split=10, min_samples_leaf=10, criterion=gini, bootstrap=False \n",
      "[CV]  max_depth=None, min_samples_split=10, min_samples_leaf=10, criterion=gini, bootstrap=False, score=0.8177777777777778, total=   0.6s\n",
      "[CV] max_depth=3, min_samples_split=2, min_samples_leaf=1, criterion=entropy, bootstrap=False \n",
      "[CV]  max_depth=3, min_samples_split=2, min_samples_leaf=1, criterion=entropy, bootstrap=False, score=0.8193333333333334, total=   0.2s\n",
      "[CV] max_depth=3, min_samples_split=2, min_samples_leaf=1, criterion=entropy, bootstrap=False \n",
      "[CV]  max_depth=3, min_samples_split=2, min_samples_leaf=1, criterion=entropy, bootstrap=False, score=0.8246666666666667, total=   0.2s\n",
      "[CV] max_depth=3, min_samples_split=2, min_samples_leaf=1, criterion=entropy, bootstrap=False \n",
      "[CV]  max_depth=3, min_samples_split=2, min_samples_leaf=1, criterion=entropy, bootstrap=False, score=0.7957777777777778, total=   0.2s\n",
      "[CV] max_depth=3, min_samples_split=2, min_samples_leaf=1, criterion=entropy, bootstrap=False \n",
      "[CV]  max_depth=3, min_samples_split=2, min_samples_leaf=1, criterion=entropy, bootstrap=False, score=0.8088888888888889, total=   0.2s\n",
      "[CV] max_depth=3, min_samples_split=2, min_samples_leaf=1, criterion=entropy, bootstrap=False \n",
      "[CV]  max_depth=3, min_samples_split=2, min_samples_leaf=1, criterion=entropy, bootstrap=False, score=0.8071111111111111, total=   0.2s\n",
      "[CV] max_depth=3, min_samples_split=3, min_samples_leaf=1, criterion=entropy, bootstrap=False \n",
      "[CV]  max_depth=3, min_samples_split=3, min_samples_leaf=1, criterion=entropy, bootstrap=False, score=0.8053333333333333, total=   0.2s\n",
      "[CV] max_depth=3, min_samples_split=3, min_samples_leaf=1, criterion=entropy, bootstrap=False \n",
      "[CV]  max_depth=3, min_samples_split=3, min_samples_leaf=1, criterion=entropy, bootstrap=False, score=0.8162222222222222, total=   0.2s\n",
      "[CV] max_depth=3, min_samples_split=3, min_samples_leaf=1, criterion=entropy, bootstrap=False \n",
      "[CV]  max_depth=3, min_samples_split=3, min_samples_leaf=1, criterion=entropy, bootstrap=False, score=0.7997777777777778, total=   0.2s\n",
      "[CV] max_depth=3, min_samples_split=3, min_samples_leaf=1, criterion=entropy, bootstrap=False \n",
      "[CV]  max_depth=3, min_samples_split=3, min_samples_leaf=1, criterion=entropy, bootstrap=False, score=0.8106666666666666, total=   0.2s\n",
      "[CV] max_depth=3, min_samples_split=3, min_samples_leaf=1, criterion=entropy, bootstrap=False \n",
      "[CV]  max_depth=3, min_samples_split=3, min_samples_leaf=1, criterion=entropy, bootstrap=False, score=0.8113333333333334, total=   0.2s\n",
      "[CV] max_depth=3, min_samples_split=10, min_samples_leaf=1, criterion=entropy, bootstrap=False \n",
      "[CV]  max_depth=3, min_samples_split=10, min_samples_leaf=1, criterion=entropy, bootstrap=False, score=0.8093333333333333, total=   0.2s\n",
      "[CV] max_depth=3, min_samples_split=10, min_samples_leaf=1, criterion=entropy, bootstrap=False \n",
      "[CV]  max_depth=3, min_samples_split=10, min_samples_leaf=1, criterion=entropy, bootstrap=False, score=0.8122222222222222, total=   0.2s\n",
      "[CV] max_depth=3, min_samples_split=10, min_samples_leaf=1, criterion=entropy, bootstrap=False \n",
      "[CV]  max_depth=3, min_samples_split=10, min_samples_leaf=1, criterion=entropy, bootstrap=False, score=0.8037777777777778, total=   0.1s\n",
      "[CV] max_depth=3, min_samples_split=10, min_samples_leaf=1, criterion=entropy, bootstrap=False \n",
      "[CV]  max_depth=3, min_samples_split=10, min_samples_leaf=1, criterion=entropy, bootstrap=False, score=0.8028888888888889, total=   0.1s\n",
      "[CV] max_depth=3, min_samples_split=10, min_samples_leaf=1, criterion=entropy, bootstrap=False \n",
      "[CV]  max_depth=3, min_samples_split=10, min_samples_leaf=1, criterion=entropy, bootstrap=False, score=0.8108888888888889, total=   0.2s\n",
      "[CV] max_depth=3, min_samples_split=2, min_samples_leaf=3, criterion=entropy, bootstrap=False \n",
      "[CV]  max_depth=3, min_samples_split=2, min_samples_leaf=3, criterion=entropy, bootstrap=False, score=0.8084444444444444, total=   0.2s\n",
      "[CV] max_depth=3, min_samples_split=2, min_samples_leaf=3, criterion=entropy, bootstrap=False \n",
      "[CV]  max_depth=3, min_samples_split=2, min_samples_leaf=3, criterion=entropy, bootstrap=False, score=0.8168888888888889, total=   0.2s\n",
      "[CV] max_depth=3, min_samples_split=2, min_samples_leaf=3, criterion=entropy, bootstrap=False \n",
      "[CV]  max_depth=3, min_samples_split=2, min_samples_leaf=3, criterion=entropy, bootstrap=False, score=0.8062222222222222, total=   0.1s\n",
      "[CV] max_depth=3, min_samples_split=2, min_samples_leaf=3, criterion=entropy, bootstrap=False \n",
      "[CV]  max_depth=3, min_samples_split=2, min_samples_leaf=3, criterion=entropy, bootstrap=False, score=0.8115555555555556, total=   0.2s\n",
      "[CV] max_depth=3, min_samples_split=2, min_samples_leaf=3, criterion=entropy, bootstrap=False \n",
      "[CV]  max_depth=3, min_samples_split=2, min_samples_leaf=3, criterion=entropy, bootstrap=False, score=0.8037777777777778, total=   0.2s\n",
      "[CV] max_depth=3, min_samples_split=3, min_samples_leaf=3, criterion=entropy, bootstrap=False \n",
      "[CV]  max_depth=3, min_samples_split=3, min_samples_leaf=3, criterion=entropy, bootstrap=False, score=0.8022222222222222, total=   0.2s\n",
      "[CV] max_depth=3, min_samples_split=3, min_samples_leaf=3, criterion=entropy, bootstrap=False \n",
      "[CV]  max_depth=3, min_samples_split=3, min_samples_leaf=3, criterion=entropy, bootstrap=False, score=0.8106666666666666, total=   0.2s\n",
      "[CV] max_depth=3, min_samples_split=3, min_samples_leaf=3, criterion=entropy, bootstrap=False \n",
      "[CV]  max_depth=3, min_samples_split=3, min_samples_leaf=3, criterion=entropy, bootstrap=False, score=0.8106666666666666, total=   0.2s\n",
      "[CV] max_depth=3, min_samples_split=3, min_samples_leaf=3, criterion=entropy, bootstrap=False \n"
     ]
    },
    {
     "name": "stdout",
     "output_type": "stream",
     "text": [
      "[CV]  max_depth=3, min_samples_split=3, min_samples_leaf=3, criterion=entropy, bootstrap=False, score=0.8035555555555556, total=   0.2s\n",
      "[CV] max_depth=3, min_samples_split=3, min_samples_leaf=3, criterion=entropy, bootstrap=False \n",
      "[CV]  max_depth=3, min_samples_split=3, min_samples_leaf=3, criterion=entropy, bootstrap=False, score=0.8017777777777778, total=   0.1s\n",
      "[CV] max_depth=3, min_samples_split=10, min_samples_leaf=3, criterion=entropy, bootstrap=False \n",
      "[CV]  max_depth=3, min_samples_split=10, min_samples_leaf=3, criterion=entropy, bootstrap=False, score=0.8022222222222222, total=   0.2s\n",
      "[CV] max_depth=3, min_samples_split=10, min_samples_leaf=3, criterion=entropy, bootstrap=False \n",
      "[CV]  max_depth=3, min_samples_split=10, min_samples_leaf=3, criterion=entropy, bootstrap=False, score=0.8088888888888889, total=   0.2s\n",
      "[CV] max_depth=3, min_samples_split=10, min_samples_leaf=3, criterion=entropy, bootstrap=False \n",
      "[CV]  max_depth=3, min_samples_split=10, min_samples_leaf=3, criterion=entropy, bootstrap=False, score=0.8004444444444444, total=   0.2s\n",
      "[CV] max_depth=3, min_samples_split=10, min_samples_leaf=3, criterion=entropy, bootstrap=False \n",
      "[CV]  max_depth=3, min_samples_split=10, min_samples_leaf=3, criterion=entropy, bootstrap=False, score=0.8108888888888889, total=   0.2s\n",
      "[CV] max_depth=3, min_samples_split=10, min_samples_leaf=3, criterion=entropy, bootstrap=False \n",
      "[CV]  max_depth=3, min_samples_split=10, min_samples_leaf=3, criterion=entropy, bootstrap=False, score=0.8097777777777778, total=   0.2s\n",
      "[CV] max_depth=3, min_samples_split=2, min_samples_leaf=10, criterion=entropy, bootstrap=False \n",
      "[CV]  max_depth=3, min_samples_split=2, min_samples_leaf=10, criterion=entropy, bootstrap=False, score=0.81, total=   0.2s\n",
      "[CV] max_depth=3, min_samples_split=2, min_samples_leaf=10, criterion=entropy, bootstrap=False \n",
      "[CV]  max_depth=3, min_samples_split=2, min_samples_leaf=10, criterion=entropy, bootstrap=False, score=0.8124444444444444, total=   0.1s\n",
      "[CV] max_depth=3, min_samples_split=2, min_samples_leaf=10, criterion=entropy, bootstrap=False \n",
      "[CV]  max_depth=3, min_samples_split=2, min_samples_leaf=10, criterion=entropy, bootstrap=False, score=0.7993333333333333, total=   0.2s\n",
      "[CV] max_depth=3, min_samples_split=2, min_samples_leaf=10, criterion=entropy, bootstrap=False \n",
      "[CV]  max_depth=3, min_samples_split=2, min_samples_leaf=10, criterion=entropy, bootstrap=False, score=0.8006666666666666, total=   0.2s\n",
      "[CV] max_depth=3, min_samples_split=2, min_samples_leaf=10, criterion=entropy, bootstrap=False \n",
      "[CV]  max_depth=3, min_samples_split=2, min_samples_leaf=10, criterion=entropy, bootstrap=False, score=0.806, total=   0.1s\n",
      "[CV] max_depth=3, min_samples_split=3, min_samples_leaf=10, criterion=entropy, bootstrap=False \n",
      "[CV]  max_depth=3, min_samples_split=3, min_samples_leaf=10, criterion=entropy, bootstrap=False, score=0.8133333333333334, total=   0.1s\n",
      "[CV] max_depth=3, min_samples_split=3, min_samples_leaf=10, criterion=entropy, bootstrap=False \n",
      "[CV]  max_depth=3, min_samples_split=3, min_samples_leaf=10, criterion=entropy, bootstrap=False, score=0.8173333333333334, total=   0.2s\n",
      "[CV] max_depth=3, min_samples_split=3, min_samples_leaf=10, criterion=entropy, bootstrap=False \n",
      "[CV]  max_depth=3, min_samples_split=3, min_samples_leaf=10, criterion=entropy, bootstrap=False, score=0.7977777777777778, total=   0.1s\n",
      "[CV] max_depth=3, min_samples_split=3, min_samples_leaf=10, criterion=entropy, bootstrap=False \n",
      "[CV]  max_depth=3, min_samples_split=3, min_samples_leaf=10, criterion=entropy, bootstrap=False, score=0.8073333333333333, total=   0.2s\n",
      "[CV] max_depth=3, min_samples_split=3, min_samples_leaf=10, criterion=entropy, bootstrap=False \n",
      "[CV]  max_depth=3, min_samples_split=3, min_samples_leaf=10, criterion=entropy, bootstrap=False, score=0.8148888888888889, total=   0.1s\n",
      "[CV] max_depth=3, min_samples_split=10, min_samples_leaf=10, criterion=entropy, bootstrap=False \n",
      "[CV]  max_depth=3, min_samples_split=10, min_samples_leaf=10, criterion=entropy, bootstrap=False, score=0.812, total=   0.2s\n",
      "[CV] max_depth=3, min_samples_split=10, min_samples_leaf=10, criterion=entropy, bootstrap=False \n",
      "[CV]  max_depth=3, min_samples_split=10, min_samples_leaf=10, criterion=entropy, bootstrap=False, score=0.8195555555555556, total=   0.1s\n",
      "[CV] max_depth=3, min_samples_split=10, min_samples_leaf=10, criterion=entropy, bootstrap=False \n",
      "[CV]  max_depth=3, min_samples_split=10, min_samples_leaf=10, criterion=entropy, bootstrap=False, score=0.81, total=   0.1s\n",
      "[CV] max_depth=3, min_samples_split=10, min_samples_leaf=10, criterion=entropy, bootstrap=False \n",
      "[CV]  max_depth=3, min_samples_split=10, min_samples_leaf=10, criterion=entropy, bootstrap=False, score=0.8088888888888889, total=   0.1s\n",
      "[CV] max_depth=3, min_samples_split=10, min_samples_leaf=10, criterion=entropy, bootstrap=False \n",
      "[CV]  max_depth=3, min_samples_split=10, min_samples_leaf=10, criterion=entropy, bootstrap=False, score=0.8026666666666666, total=   0.2s\n",
      "[CV] max_depth=None, min_samples_split=2, min_samples_leaf=1, criterion=entropy, bootstrap=False \n",
      "[CV]  max_depth=None, min_samples_split=2, min_samples_leaf=1, criterion=entropy, bootstrap=False, score=0.8011111111111111, total=   1.1s\n",
      "[CV] max_depth=None, min_samples_split=2, min_samples_leaf=1, criterion=entropy, bootstrap=False \n",
      "[CV]  max_depth=None, min_samples_split=2, min_samples_leaf=1, criterion=entropy, bootstrap=False, score=0.8095555555555556, total=   1.0s\n",
      "[CV] max_depth=None, min_samples_split=2, min_samples_leaf=1, criterion=entropy, bootstrap=False \n",
      "[CV]  max_depth=None, min_samples_split=2, min_samples_leaf=1, criterion=entropy, bootstrap=False, score=0.7991111111111111, total=   1.1s\n",
      "[CV] max_depth=None, min_samples_split=2, min_samples_leaf=1, criterion=entropy, bootstrap=False \n",
      "[CV]  max_depth=None, min_samples_split=2, min_samples_leaf=1, criterion=entropy, bootstrap=False, score=0.8022222222222222, total=   1.1s\n",
      "[CV] max_depth=None, min_samples_split=2, min_samples_leaf=1, criterion=entropy, bootstrap=False \n",
      "[CV]  max_depth=None, min_samples_split=2, min_samples_leaf=1, criterion=entropy, bootstrap=False, score=0.8017777777777778, total=   1.1s\n",
      "[CV] max_depth=None, min_samples_split=3, min_samples_leaf=1, criterion=entropy, bootstrap=False \n",
      "[CV]  max_depth=None, min_samples_split=3, min_samples_leaf=1, criterion=entropy, bootstrap=False, score=0.8075555555555556, total=   1.1s\n",
      "[CV] max_depth=None, min_samples_split=3, min_samples_leaf=1, criterion=entropy, bootstrap=False \n",
      "[CV]  max_depth=None, min_samples_split=3, min_samples_leaf=1, criterion=entropy, bootstrap=False, score=0.81, total=   1.1s\n",
      "[CV] max_depth=None, min_samples_split=3, min_samples_leaf=1, criterion=entropy, bootstrap=False \n",
      "[CV]  max_depth=None, min_samples_split=3, min_samples_leaf=1, criterion=entropy, bootstrap=False, score=0.8066666666666666, total=   1.1s\n",
      "[CV] max_depth=None, min_samples_split=3, min_samples_leaf=1, criterion=entropy, bootstrap=False \n",
      "[CV]  max_depth=None, min_samples_split=3, min_samples_leaf=1, criterion=entropy, bootstrap=False, score=0.7993333333333333, total=   1.2s\n",
      "[CV] max_depth=None, min_samples_split=3, min_samples_leaf=1, criterion=entropy, bootstrap=False \n",
      "[CV]  max_depth=None, min_samples_split=3, min_samples_leaf=1, criterion=entropy, bootstrap=False, score=0.8022222222222222, total=   1.2s\n",
      "[CV] max_depth=None, min_samples_split=10, min_samples_leaf=1, criterion=entropy, bootstrap=False \n",
      "[CV]  max_depth=None, min_samples_split=10, min_samples_leaf=1, criterion=entropy, bootstrap=False, score=0.8031111111111111, total=   1.1s\n",
      "[CV] max_depth=None, min_samples_split=10, min_samples_leaf=1, criterion=entropy, bootstrap=False \n",
      "[CV]  max_depth=None, min_samples_split=10, min_samples_leaf=1, criterion=entropy, bootstrap=False, score=0.8148888888888889, total=   1.2s\n",
      "[CV] max_depth=None, min_samples_split=10, min_samples_leaf=1, criterion=entropy, bootstrap=False \n",
      "[CV]  max_depth=None, min_samples_split=10, min_samples_leaf=1, criterion=entropy, bootstrap=False, score=0.8062222222222222, total=   1.1s\n",
      "[CV] max_depth=None, min_samples_split=10, min_samples_leaf=1, criterion=entropy, bootstrap=False \n",
      "[CV]  max_depth=None, min_samples_split=10, min_samples_leaf=1, criterion=entropy, bootstrap=False, score=0.8073333333333333, total=   1.1s\n",
      "[CV] max_depth=None, min_samples_split=10, min_samples_leaf=1, criterion=entropy, bootstrap=False \n"
     ]
    },
    {
     "name": "stdout",
     "output_type": "stream",
     "text": [
      "[CV]  max_depth=None, min_samples_split=10, min_samples_leaf=1, criterion=entropy, bootstrap=False, score=0.8037777777777778, total=   1.2s\n",
      "[CV] max_depth=None, min_samples_split=2, min_samples_leaf=3, criterion=entropy, bootstrap=False \n",
      "[CV]  max_depth=None, min_samples_split=2, min_samples_leaf=3, criterion=entropy, bootstrap=False, score=0.8104444444444444, total=   1.0s\n",
      "[CV] max_depth=None, min_samples_split=2, min_samples_leaf=3, criterion=entropy, bootstrap=False \n",
      "[CV]  max_depth=None, min_samples_split=2, min_samples_leaf=3, criterion=entropy, bootstrap=False, score=0.8182222222222222, total=   0.9s\n",
      "[CV] max_depth=None, min_samples_split=2, min_samples_leaf=3, criterion=entropy, bootstrap=False \n",
      "[CV]  max_depth=None, min_samples_split=2, min_samples_leaf=3, criterion=entropy, bootstrap=False, score=0.8091111111111111, total=   1.0s\n",
      "[CV] max_depth=None, min_samples_split=2, min_samples_leaf=3, criterion=entropy, bootstrap=False \n",
      "[CV]  max_depth=None, min_samples_split=2, min_samples_leaf=3, criterion=entropy, bootstrap=False, score=0.8082222222222222, total=   1.0s\n",
      "[CV] max_depth=None, min_samples_split=2, min_samples_leaf=3, criterion=entropy, bootstrap=False \n",
      "[CV]  max_depth=None, min_samples_split=2, min_samples_leaf=3, criterion=entropy, bootstrap=False, score=0.8108888888888889, total=   1.1s\n",
      "[CV] max_depth=None, min_samples_split=3, min_samples_leaf=3, criterion=entropy, bootstrap=False \n",
      "[CV]  max_depth=None, min_samples_split=3, min_samples_leaf=3, criterion=entropy, bootstrap=False, score=0.812, total=   1.0s\n",
      "[CV] max_depth=None, min_samples_split=3, min_samples_leaf=3, criterion=entropy, bootstrap=False \n",
      "[CV]  max_depth=None, min_samples_split=3, min_samples_leaf=3, criterion=entropy, bootstrap=False, score=0.8166666666666667, total=   1.1s\n",
      "[CV] max_depth=None, min_samples_split=3, min_samples_leaf=3, criterion=entropy, bootstrap=False \n",
      "[CV]  max_depth=None, min_samples_split=3, min_samples_leaf=3, criterion=entropy, bootstrap=False, score=0.8077777777777778, total=   1.1s\n",
      "[CV] max_depth=None, min_samples_split=3, min_samples_leaf=3, criterion=entropy, bootstrap=False \n",
      "[CV]  max_depth=None, min_samples_split=3, min_samples_leaf=3, criterion=entropy, bootstrap=False, score=0.806, total=   1.1s\n",
      "[CV] max_depth=None, min_samples_split=3, min_samples_leaf=3, criterion=entropy, bootstrap=False \n",
      "[CV]  max_depth=None, min_samples_split=3, min_samples_leaf=3, criterion=entropy, bootstrap=False, score=0.8135555555555556, total=   1.0s\n",
      "[CV] max_depth=None, min_samples_split=10, min_samples_leaf=3, criterion=entropy, bootstrap=False \n",
      "[CV]  max_depth=None, min_samples_split=10, min_samples_leaf=3, criterion=entropy, bootstrap=False, score=0.8113333333333334, total=   1.0s\n",
      "[CV] max_depth=None, min_samples_split=10, min_samples_leaf=3, criterion=entropy, bootstrap=False \n",
      "[CV]  max_depth=None, min_samples_split=10, min_samples_leaf=3, criterion=entropy, bootstrap=False, score=0.8235555555555556, total=   1.0s\n",
      "[CV] max_depth=None, min_samples_split=10, min_samples_leaf=3, criterion=entropy, bootstrap=False \n",
      "[CV]  max_depth=None, min_samples_split=10, min_samples_leaf=3, criterion=entropy, bootstrap=False, score=0.8033333333333333, total=   1.0s\n",
      "[CV] max_depth=None, min_samples_split=10, min_samples_leaf=3, criterion=entropy, bootstrap=False \n",
      "[CV]  max_depth=None, min_samples_split=10, min_samples_leaf=3, criterion=entropy, bootstrap=False, score=0.8106666666666666, total=   1.0s\n",
      "[CV] max_depth=None, min_samples_split=10, min_samples_leaf=3, criterion=entropy, bootstrap=False \n",
      "[CV]  max_depth=None, min_samples_split=10, min_samples_leaf=3, criterion=entropy, bootstrap=False, score=0.8148888888888889, total=   1.0s\n",
      "[CV] max_depth=None, min_samples_split=2, min_samples_leaf=10, criterion=entropy, bootstrap=False \n",
      "[CV]  max_depth=None, min_samples_split=2, min_samples_leaf=10, criterion=entropy, bootstrap=False, score=0.8168888888888889, total=   0.9s\n",
      "[CV] max_depth=None, min_samples_split=2, min_samples_leaf=10, criterion=entropy, bootstrap=False \n",
      "[CV]  max_depth=None, min_samples_split=2, min_samples_leaf=10, criterion=entropy, bootstrap=False, score=0.8257777777777778, total=   0.9s\n",
      "[CV] max_depth=None, min_samples_split=2, min_samples_leaf=10, criterion=entropy, bootstrap=False \n",
      "[CV]  max_depth=None, min_samples_split=2, min_samples_leaf=10, criterion=entropy, bootstrap=False, score=0.8111111111111111, total=   0.8s\n",
      "[CV] max_depth=None, min_samples_split=2, min_samples_leaf=10, criterion=entropy, bootstrap=False \n",
      "[CV]  max_depth=None, min_samples_split=2, min_samples_leaf=10, criterion=entropy, bootstrap=False, score=0.8113333333333334, total=   0.9s\n",
      "[CV] max_depth=None, min_samples_split=2, min_samples_leaf=10, criterion=entropy, bootstrap=False \n",
      "[CV]  max_depth=None, min_samples_split=2, min_samples_leaf=10, criterion=entropy, bootstrap=False, score=0.8155555555555556, total=   0.8s\n",
      "[CV] max_depth=None, min_samples_split=3, min_samples_leaf=10, criterion=entropy, bootstrap=False \n",
      "[CV]  max_depth=None, min_samples_split=3, min_samples_leaf=10, criterion=entropy, bootstrap=False, score=0.8184444444444444, total=   0.8s\n",
      "[CV] max_depth=None, min_samples_split=3, min_samples_leaf=10, criterion=entropy, bootstrap=False \n",
      "[CV]  max_depth=None, min_samples_split=3, min_samples_leaf=10, criterion=entropy, bootstrap=False, score=0.8266666666666667, total=   0.9s\n",
      "[CV] max_depth=None, min_samples_split=3, min_samples_leaf=10, criterion=entropy, bootstrap=False \n",
      "[CV]  max_depth=None, min_samples_split=3, min_samples_leaf=10, criterion=entropy, bootstrap=False, score=0.8102222222222222, total=   0.9s\n",
      "[CV] max_depth=None, min_samples_split=3, min_samples_leaf=10, criterion=entropy, bootstrap=False \n",
      "[CV]  max_depth=None, min_samples_split=3, min_samples_leaf=10, criterion=entropy, bootstrap=False, score=0.8151111111111111, total=   0.9s\n",
      "[CV] max_depth=None, min_samples_split=3, min_samples_leaf=10, criterion=entropy, bootstrap=False \n",
      "[CV]  max_depth=None, min_samples_split=3, min_samples_leaf=10, criterion=entropy, bootstrap=False, score=0.8146666666666667, total=   0.9s\n",
      "[CV] max_depth=None, min_samples_split=10, min_samples_leaf=10, criterion=entropy, bootstrap=False \n",
      "[CV]  max_depth=None, min_samples_split=10, min_samples_leaf=10, criterion=entropy, bootstrap=False, score=0.8184444444444444, total=   0.9s\n",
      "[CV] max_depth=None, min_samples_split=10, min_samples_leaf=10, criterion=entropy, bootstrap=False \n",
      "[CV]  max_depth=None, min_samples_split=10, min_samples_leaf=10, criterion=entropy, bootstrap=False, score=0.8237777777777778, total=   0.9s\n",
      "[CV] max_depth=None, min_samples_split=10, min_samples_leaf=10, criterion=entropy, bootstrap=False \n",
      "[CV]  max_depth=None, min_samples_split=10, min_samples_leaf=10, criterion=entropy, bootstrap=False, score=0.8097777777777778, total=   0.9s\n",
      "[CV] max_depth=None, min_samples_split=10, min_samples_leaf=10, criterion=entropy, bootstrap=False \n",
      "[CV]  max_depth=None, min_samples_split=10, min_samples_leaf=10, criterion=entropy, bootstrap=False, score=0.8117777777777778, total=   0.9s\n",
      "[CV] max_depth=None, min_samples_split=10, min_samples_leaf=10, criterion=entropy, bootstrap=False \n",
      "[CV]  max_depth=None, min_samples_split=10, min_samples_leaf=10, criterion=entropy, bootstrap=False, score=0.8224444444444444, total=   0.9s\n"
     ]
    },
    {
     "name": "stderr",
     "output_type": "stream",
     "text": [
      "[Parallel(n_jobs=1)]: Done 360 out of 360 | elapsed:  3.2min finished\n"
     ]
    },
    {
     "data": {
      "text/plain": [
       "GridSearchCV(cv=5, error_score='raise',\n",
       "       estimator=RandomForestClassifier(bootstrap=True, class_weight=None, criterion='gini',\n",
       "            max_depth=None, max_features='auto', max_leaf_nodes=None,\n",
       "            min_impurity_decrease=0.0, min_impurity_split=None,\n",
       "            min_samples_leaf=1, min_samples_split=2,\n",
       "            min_weight_fraction_leaf=0.0, n_estimators=10, n_jobs=1,\n",
       "            oob_score=False, random_state=None, verbose=0,\n",
       "            warm_start=False),\n",
       "       fit_params=None, iid=True, n_jobs=1,\n",
       "       param_grid={'max_depth': [3, None], 'min_samples_split': [2, 3, 10], 'min_samples_leaf': [1, 3, 10], 'criterion': ['gini', 'entropy'], 'bootstrap': [True, False]},\n",
       "       pre_dispatch='2*n_jobs', refit=True, return_train_score='warn',\n",
       "       scoring='accuracy', verbose=3)"
      ]
     },
     "execution_count": 51,
     "metadata": {},
     "output_type": "execute_result"
    }
   ],
   "source": [
    "grid_search_rf.fit(X_train, y_train)"
   ]
  },
  {
   "cell_type": "code",
   "execution_count": 52,
   "metadata": {},
   "outputs": [
    {
     "data": {
      "text/plain": [
       "0.8187111111111111"
      ]
     },
     "execution_count": 52,
     "metadata": {},
     "output_type": "execute_result"
    }
   ],
   "source": [
    "grid_search_rf.best_score_"
   ]
  },
  {
   "cell_type": "code",
   "execution_count": 53,
   "metadata": {},
   "outputs": [
    {
     "data": {
      "text/plain": [
       "{'bootstrap': False,\n",
       " 'class_weight': None,\n",
       " 'criterion': 'gini',\n",
       " 'max_depth': None,\n",
       " 'max_features': 'auto',\n",
       " 'max_leaf_nodes': None,\n",
       " 'min_impurity_decrease': 0.0,\n",
       " 'min_impurity_split': None,\n",
       " 'min_samples_leaf': 10,\n",
       " 'min_samples_split': 10,\n",
       " 'min_weight_fraction_leaf': 0.0,\n",
       " 'n_estimators': 10,\n",
       " 'n_jobs': 1,\n",
       " 'oob_score': False,\n",
       " 'random_state': None,\n",
       " 'verbose': 0,\n",
       " 'warm_start': False}"
      ]
     },
     "execution_count": 53,
     "metadata": {},
     "output_type": "execute_result"
    }
   ],
   "source": [
    "grid_search_rf.best_estimator_.get_params()"
   ]
  },
  {
   "cell_type": "markdown",
   "metadata": {},
   "source": [
    "### 4 Model Boosting\n",
    "#### 4.1 Bagging (w/ Logistic Classifier)"
   ]
  },
  {
   "cell_type": "code",
   "execution_count": 54,
   "metadata": {
    "collapsed": true
   },
   "outputs": [],
   "source": [
    "from sklearn.ensemble import BaggingClassifier"
   ]
  },
  {
   "cell_type": "code",
   "execution_count": 55,
   "metadata": {
    "collapsed": true
   },
   "outputs": [],
   "source": [
    "bag_classifier_logit = BaggingClassifier(base_estimator=logitmodel, n_estimators=200, bootstrap=True, oob_score=True)"
   ]
  },
  {
   "cell_type": "code",
   "execution_count": 56,
   "metadata": {},
   "outputs": [
    {
     "data": {
      "text/plain": [
       "BaggingClassifier(base_estimator=LogisticRegression(C=0.5, class_weight=None, dual=False, fit_intercept=True,\n",
       "          intercept_scaling=1, max_iter=100, multi_class='ovr', n_jobs=1,\n",
       "          penalty='l2', random_state=None, solver='liblinear', tol=0.0001,\n",
       "          verbose=0, warm_start=False),\n",
       "         bootstrap=True, bootstrap_features=False, max_features=1.0,\n",
       "         max_samples=1.0, n_estimators=200, n_jobs=1, oob_score=True,\n",
       "         random_state=None, verbose=0, warm_start=False)"
      ]
     },
     "execution_count": 56,
     "metadata": {},
     "output_type": "execute_result"
    }
   ],
   "source": [
    "bag_classifier_logit.fit(X_train, y_train)"
   ]
  },
  {
   "cell_type": "code",
   "execution_count": 57,
   "metadata": {},
   "outputs": [
    {
     "data": {
      "text/plain": [
       "0.8112"
      ]
     },
     "execution_count": 57,
     "metadata": {},
     "output_type": "execute_result"
    }
   ],
   "source": [
    "bag_classifier_logit.oob_score_"
   ]
  },
  {
   "cell_type": "code",
   "execution_count": 58,
   "metadata": {
    "collapsed": true
   },
   "outputs": [],
   "source": [
    "y_preds_logit_bg = bag_classifier_logit.predict(X_test)"
   ]
  },
  {
   "cell_type": "code",
   "execution_count": 59,
   "metadata": {},
   "outputs": [
    {
     "name": "stdout",
     "output_type": "stream",
     "text": [
      "             precision    recall  f1-score   support\n",
      "\n",
      "          0       0.81      0.97      0.89      5784\n",
      "          1       0.72      0.25      0.37      1716\n",
      "\n",
      "avg / total       0.79      0.81      0.77      7500\n",
      "\n",
      "The Confusion Matrix: \n",
      "\n",
      "[[5620  164]\n",
      " [1294  422]]\n",
      "\n",
      "The accuracy is: 80.56%\n",
      "\n",
      " Total correct classification 6042 out of 7500 values\n"
     ]
    }
   ],
   "source": [
    "print(classification_report(y_test, y_preds_logit_bg))\n",
    "cm = confusion_matrix(y_test, y_preds_logit_bg)\n",
    "print('The Confusion Matrix: \\n\\n{}'.format(confusion_matrix(y_test, y_preds_logit_bg)))\n",
    "print('\\nThe accuracy is: {}%'. format(accuracy_score(y_test, y_preds_logit_bg)*100))\n",
    "\n",
    "print('\\n Total correct classification {} out of {} values'.format((cm[0,0] + cm[1,1]), (cm.sum())))"
   ]
  },
  {
   "cell_type": "markdown",
   "metadata": {},
   "source": [
    "#### 4.2 Bagging for the Decision Tree "
   ]
  },
  {
   "cell_type": "code",
   "execution_count": 61,
   "metadata": {
    "collapsed": true
   },
   "outputs": [],
   "source": [
    "bag_classifier_dtree = BaggingClassifier(base_estimator=dtree_model, n_estimators=300, bootstrap=True, oob_score=True)"
   ]
  },
  {
   "cell_type": "code",
   "execution_count": 62,
   "metadata": {},
   "outputs": [
    {
     "data": {
      "text/plain": [
       "BaggingClassifier(base_estimator=DecisionTreeClassifier(class_weight=None, criterion='gini', max_depth=None,\n",
       "            max_features=None, max_leaf_nodes=None,\n",
       "            min_impurity_decrease=0.0, min_impurity_split=None,\n",
       "            min_samples_leaf=1, min_samples_split=2,\n",
       "            min_weight_fraction_leaf=0.0, presort=False, random_state=None,\n",
       "            splitter='best'),\n",
       "         bootstrap=True, bootstrap_features=False, max_features=1.0,\n",
       "         max_samples=1.0, n_estimators=500, n_jobs=1, oob_score=True,\n",
       "         random_state=None, verbose=0, warm_start=False)"
      ]
     },
     "execution_count": 62,
     "metadata": {},
     "output_type": "execute_result"
    }
   ],
   "source": [
    "bag_classifier_dtree.fit(X_train, y_train)"
   ]
  },
  {
   "cell_type": "code",
   "execution_count": 63,
   "metadata": {},
   "outputs": [
    {
     "data": {
      "text/plain": [
       "0.8164444444444444"
      ]
     },
     "execution_count": 63,
     "metadata": {},
     "output_type": "execute_result"
    }
   ],
   "source": [
    "bag_classifier_dtree.oob_score_"
   ]
  },
  {
   "cell_type": "code",
   "execution_count": 64,
   "metadata": {
    "collapsed": true
   },
   "outputs": [],
   "source": [
    "y_preds_dtree_bg = bag_classifier_dtree.predict(X_test)"
   ]
  },
  {
   "cell_type": "code",
   "execution_count": 65,
   "metadata": {},
   "outputs": [
    {
     "name": "stdout",
     "output_type": "stream",
     "text": [
      "             precision    recall  f1-score   support\n",
      "\n",
      "          0       0.84      0.94      0.89      5784\n",
      "          1       0.66      0.39      0.49      1716\n",
      "\n",
      "avg / total       0.80      0.81      0.80      7500\n",
      "\n",
      "The Confusion Matrix: \n",
      "\n",
      "[[5438  346]\n",
      " [1051  665]]\n",
      "\n",
      "The accuracy is: 81.37333333333333%\n",
      "\n",
      " Total correct classification 6103 out of 7500 values\n"
     ]
    }
   ],
   "source": [
    "print(classification_report(y_test, y_preds_dtree_bg))\n",
    "cm = confusion_matrix(y_test, y_preds_dtree_bg)\n",
    "print('The Confusion Matrix: \\n\\n{}'.format(confusion_matrix(y_test, y_preds_dtree_bg)))\n",
    "print('\\nThe accuracy is: {}%'. format(accuracy_score(y_test, y_preds_dtree_bg)*100))\n",
    "\n",
    "print('\\n Total correct classification {} out of {} values'.format((cm[0,0] + cm[1,1]), (cm.sum())))"
   ]
  },
  {
   "cell_type": "markdown",
   "metadata": {},
   "source": [
    "#### 4.2 AdaBoost Model (Adaptive Boosting) Base"
   ]
  },
  {
   "cell_type": "code",
   "execution_count": 66,
   "metadata": {
    "collapsed": true
   },
   "outputs": [],
   "source": [
    "from sklearn.ensemble import AdaBoostClassifier"
   ]
  },
  {
   "cell_type": "code",
   "execution_count": 67,
   "metadata": {
    "collapsed": true
   },
   "outputs": [],
   "source": [
    "ada_model = AdaBoostClassifier()"
   ]
  },
  {
   "cell_type": "code",
   "execution_count": 68,
   "metadata": {},
   "outputs": [
    {
     "data": {
      "text/plain": [
       "AdaBoostClassifier(algorithm='SAMME.R', base_estimator=None,\n",
       "          learning_rate=1.0, n_estimators=50, random_state=None)"
      ]
     },
     "execution_count": 68,
     "metadata": {},
     "output_type": "execute_result"
    }
   ],
   "source": [
    "ada_model.fit(X_train, y_train)"
   ]
  },
  {
   "cell_type": "code",
   "execution_count": 69,
   "metadata": {
    "collapsed": true
   },
   "outputs": [],
   "source": [
    "y_preds_ada = ada_model.predict(X_test)"
   ]
  },
  {
   "cell_type": "code",
   "execution_count": 70,
   "metadata": {},
   "outputs": [
    {
     "name": "stdout",
     "output_type": "stream",
     "text": [
      "             precision    recall  f1-score   support\n",
      "\n",
      "          0       0.83      0.96      0.89      5784\n",
      "          1       0.69      0.33      0.45      1716\n",
      "\n",
      "avg / total       0.80      0.81      0.79      7500\n",
      "\n",
      "The Confusion Matrix: \n",
      "\n",
      "[[5534  250]\n",
      " [1147  569]]\n",
      "\n",
      "The accuracy is: 81.37333333333333%\n",
      "\n",
      " Total correct classification 6103 out of 7500 values\n"
     ]
    }
   ],
   "source": [
    "print(classification_report(y_test, y_preds_ada))\n",
    "cm = confusion_matrix(y_test, y_preds_ada)\n",
    "print('The Confusion Matrix: \\n\\n{}'.format(confusion_matrix(y_test, y_preds_ada)))\n",
    "print('\\nThe accuracy is: {}%'. format(accuracy_score(y_test, y_preds_ada)*100))\n",
    "\n",
    "print('\\n Total correct classification {} out of {} values'.format((cm[0,0] + cm[1,1]), (cm.sum())))"
   ]
  },
  {
   "cell_type": "markdown",
   "metadata": {},
   "source": [
    "#### 5.1 Ensembling AdaBoost w/ Logit"
   ]
  },
  {
   "cell_type": "code",
   "execution_count": 71,
   "metadata": {
    "collapsed": true
   },
   "outputs": [],
   "source": [
    "ada_model_logit = AdaBoostClassifier(base_estimator=logitmodel, n_estimators=50)"
   ]
  },
  {
   "cell_type": "code",
   "execution_count": 72,
   "metadata": {},
   "outputs": [
    {
     "data": {
      "text/plain": [
       "AdaBoostClassifier(algorithm='SAMME.R',\n",
       "          base_estimator=LogisticRegression(C=0.5, class_weight=None, dual=False, fit_intercept=True,\n",
       "          intercept_scaling=1, max_iter=100, multi_class='ovr', n_jobs=1,\n",
       "          penalty='l2', random_state=None, solver='liblinear', tol=0.0001,\n",
       "          verbose=0, warm_start=False),\n",
       "          learning_rate=1.0, n_estimators=50, random_state=None)"
      ]
     },
     "execution_count": 72,
     "metadata": {},
     "output_type": "execute_result"
    }
   ],
   "source": [
    "ada_model_logit.fit(X_train, y_train)"
   ]
  },
  {
   "cell_type": "code",
   "execution_count": 73,
   "metadata": {
    "collapsed": true
   },
   "outputs": [],
   "source": [
    "y_preds_ada_logit = ada_model_logit.predict(X_test)"
   ]
  },
  {
   "cell_type": "code",
   "execution_count": 74,
   "metadata": {},
   "outputs": [
    {
     "name": "stdout",
     "output_type": "stream",
     "text": [
      "             precision    recall  f1-score   support\n",
      "\n",
      "          0       0.80      0.98      0.88      5784\n",
      "          1       0.75      0.17      0.28      1716\n",
      "\n",
      "avg / total       0.79      0.80      0.74      7500\n",
      "\n",
      "The Confusion Matrix: \n",
      "\n",
      "[[5687   97]\n",
      " [1423  293]]\n",
      "\n",
      "The accuracy is: 79.73333333333333%\n",
      "\n",
      " Total correct classification 5980 out of 7500 values\n"
     ]
    }
   ],
   "source": [
    "print(classification_report(y_test, y_preds_ada_logit))\n",
    "cm = confusion_matrix(y_test, y_preds_ada_logit)\n",
    "print('The Confusion Matrix: \\n\\n{}'.format(confusion_matrix(y_test, y_preds_ada_logit)))\n",
    "print('\\nThe accuracy is: {}%'. format(accuracy_score(y_test, y_preds_ada_logit)*100))\n",
    "\n",
    "print('\\n Total correct classification {} out of {} values'.format((cm[0,0] + cm[1,1]), (cm.sum())))"
   ]
  },
  {
   "cell_type": "code",
   "execution_count": 75,
   "metadata": {
    "collapsed": true
   },
   "outputs": [],
   "source": [
    "ada_logit_perf = cross_val_score(ada_model_logit, X_train, y_train, cv=10, scoring='accuracy')"
   ]
  },
  {
   "cell_type": "code",
   "execution_count": 78,
   "metadata": {},
   "outputs": [
    {
     "data": {
      "text/plain": [
       "0.8018666666666666"
      ]
     },
     "execution_count": 78,
     "metadata": {},
     "output_type": "execute_result"
    }
   ],
   "source": [
    "ada_logit_perf.mean()"
   ]
  },
  {
   "cell_type": "markdown",
   "metadata": {},
   "source": [
    "#### 5.2 Ensembling AdaBoost w/ Decision Tree"
   ]
  },
  {
   "cell_type": "code",
   "execution_count": 79,
   "metadata": {
    "collapsed": true
   },
   "outputs": [],
   "source": [
    "ada_model_dtree = AdaBoostClassifier(base_estimator=dtree_model, n_estimators=50)"
   ]
  },
  {
   "cell_type": "code",
   "execution_count": 80,
   "metadata": {},
   "outputs": [
    {
     "data": {
      "text/plain": [
       "AdaBoostClassifier(algorithm='SAMME.R',\n",
       "          base_estimator=DecisionTreeClassifier(class_weight=None, criterion='gini', max_depth=None,\n",
       "            max_features=None, max_leaf_nodes=None,\n",
       "            min_impurity_decrease=0.0, min_impurity_split=None,\n",
       "            min_samples_leaf=1, min_samples_split=2,\n",
       "            min_weight_fraction_leaf=0.0, presort=False, random_state=None,\n",
       "            splitter='best'),\n",
       "          learning_rate=1.0, n_estimators=50, random_state=None)"
      ]
     },
     "execution_count": 80,
     "metadata": {},
     "output_type": "execute_result"
    }
   ],
   "source": [
    "ada_model_dtree.fit(X_train, y_train)"
   ]
  },
  {
   "cell_type": "code",
   "execution_count": 81,
   "metadata": {
    "collapsed": true
   },
   "outputs": [],
   "source": [
    "y_preds_ada_dtree = ada_model_dtree.predict(X_test)"
   ]
  },
  {
   "cell_type": "code",
   "execution_count": 82,
   "metadata": {},
   "outputs": [
    {
     "name": "stdout",
     "output_type": "stream",
     "text": [
      "             precision    recall  f1-score   support\n",
      "\n",
      "          0       0.83      0.93      0.87      5784\n",
      "          1       0.59      0.34      0.43      1716\n",
      "\n",
      "avg / total       0.77      0.79      0.77      7500\n",
      "\n",
      "The Confusion Matrix: \n",
      "\n",
      "[[5373  411]\n",
      " [1134  582]]\n",
      "\n",
      "The accuracy is: 79.4%\n",
      "\n",
      " Total correct classification 5955 out of 7500 values\n"
     ]
    }
   ],
   "source": [
    "print(classification_report(y_test, y_preds_ada_dtree))\n",
    "cm = confusion_matrix(y_test, y_preds_ada_dtree)\n",
    "print('The Confusion Matrix: \\n\\n{}'.format(confusion_matrix(y_test, y_preds_ada_dtree)))\n",
    "print('\\nThe accuracy is: {}%'. format(accuracy_score(y_test, y_preds_ada_dtree)*100))\n",
    "\n",
    "print('\\n Total correct classification {} out of {} values'.format((cm[0,0] + cm[1,1]), (cm.sum())))"
   ]
  },
  {
   "cell_type": "markdown",
   "metadata": {},
   "source": [
    "### 6 Gradient Boosting Modeling (GBM)"
   ]
  },
  {
   "cell_type": "code",
   "execution_count": 83,
   "metadata": {
    "collapsed": true
   },
   "outputs": [],
   "source": [
    "from sklearn.ensemble import GradientBoostingClassifier"
   ]
  },
  {
   "cell_type": "code",
   "execution_count": 84,
   "metadata": {
    "collapsed": true
   },
   "outputs": [],
   "source": [
    "gbm_model = GradientBoostingClassifier()"
   ]
  },
  {
   "cell_type": "code",
   "execution_count": 85,
   "metadata": {},
   "outputs": [
    {
     "data": {
      "text/plain": [
       "GradientBoostingClassifier(criterion='friedman_mse', init=None,\n",
       "              learning_rate=0.1, loss='deviance', max_depth=3,\n",
       "              max_features=None, max_leaf_nodes=None,\n",
       "              min_impurity_decrease=0.0, min_impurity_split=None,\n",
       "              min_samples_leaf=1, min_samples_split=2,\n",
       "              min_weight_fraction_leaf=0.0, n_estimators=100,\n",
       "              presort='auto', random_state=None, subsample=1.0, verbose=0,\n",
       "              warm_start=False)"
      ]
     },
     "execution_count": 85,
     "metadata": {},
     "output_type": "execute_result"
    }
   ],
   "source": [
    "gbm_model.fit(X_train, y_train)"
   ]
  },
  {
   "cell_type": "code",
   "execution_count": 86,
   "metadata": {
    "collapsed": true
   },
   "outputs": [],
   "source": [
    "y_preds_gbm = gbm_model.predict(X_test)"
   ]
  },
  {
   "cell_type": "code",
   "execution_count": 87,
   "metadata": {},
   "outputs": [
    {
     "name": "stdout",
     "output_type": "stream",
     "text": [
      "             precision    recall  f1-score   support\n",
      "\n",
      "          0       0.84      0.95      0.89      5784\n",
      "          1       0.70      0.38      0.49      1716\n",
      "\n",
      "avg / total       0.81      0.82      0.80      7500\n",
      "\n",
      "The Confusion Matrix: \n",
      "\n",
      "[[5495  289]\n",
      " [1057  659]]\n",
      "\n",
      "The accuracy is: 82.05333333333333%\n",
      "\n",
      " Total correct classification 6154 out of 7500 values\n"
     ]
    }
   ],
   "source": [
    "print(classification_report(y_test, y_preds_gbm))\n",
    "cm = confusion_matrix(y_test, y_preds_gbm)\n",
    "print('The Confusion Matrix: \\n\\n{}'.format(confusion_matrix(y_test, y_preds_gbm)))\n",
    "print('\\nThe accuracy is: {}%'. format(accuracy_score(y_test, y_preds_gbm)*100))\n",
    "\n",
    "print('\\n Total correct classification {} out of {} values'.format((cm[0,0] + cm[1,1]), (cm.sum())))"
   ]
  },
  {
   "cell_type": "code",
   "execution_count": 88,
   "metadata": {
    "collapsed": true
   },
   "outputs": [],
   "source": [
    "gbm_perf = cross_val_score(gbm_model,X_train, y_train, scoring='accuracy', cv=10)"
   ]
  },
  {
   "cell_type": "code",
   "execution_count": 89,
   "metadata": {},
   "outputs": [
    {
     "data": {
      "text/plain": [
       "0.8218222222222222"
      ]
     },
     "execution_count": 89,
     "metadata": {},
     "output_type": "execute_result"
    }
   ],
   "source": [
    "gbm_perf.mean()"
   ]
  },
  {
   "cell_type": "markdown",
   "metadata": {},
   "source": [
    "#### 6.1 Let's tune the GBM by performing GridSearch CV"
   ]
  },
  {
   "cell_type": "code",
   "execution_count": 91,
   "metadata": {
    "collapsed": true
   },
   "outputs": [],
   "source": [
    "from sklearn.model_selection import GridSearchCV"
   ]
  },
  {
   "cell_type": "code",
   "execution_count": 92,
   "metadata": {
    "collapsed": true
   },
   "outputs": [],
   "source": [
    "params_grid_gbm = {'n_estimators':range(20,40),\n",
    "                   'subsample': [0.6, 0.7, 0.8],\n",
    "                    'learning_rate': [0.1, 0.2]}"
   ]
  },
  {
   "cell_type": "code",
   "execution_count": 93,
   "metadata": {
    "collapsed": true
   },
   "outputs": [],
   "source": [
    "grid_search_gbm = GridSearchCV(estimator = GradientBoostingClassifier(min_samples_split=500,min_samples_leaf=50,max_depth=8,max_features='sqrt'), \n",
    "param_grid = params_grid_gbm, scoring='roc_auc',iid=False, cv=2, verbose = 3)"
   ]
  },
  {
   "cell_type": "code",
   "execution_count": 94,
   "metadata": {},
   "outputs": [
    {
     "name": "stdout",
     "output_type": "stream",
     "text": [
      "Fitting 2 folds for each of 120 candidates, totalling 240 fits\n",
      "[CV] n_estimators=20, subsample=0.6, learning_rate=0.1 ...............\n",
      "[CV]  n_estimators=20, subsample=0.6, learning_rate=0.1, score=0.7845935653042537, total=   0.2s\n",
      "[CV] n_estimators=20, subsample=0.6, learning_rate=0.1 ...............\n"
     ]
    },
    {
     "name": "stderr",
     "output_type": "stream",
     "text": [
      "[Parallel(n_jobs=1)]: Done   1 out of   1 | elapsed:    0.3s remaining:    0.0s\n"
     ]
    },
    {
     "name": "stdout",
     "output_type": "stream",
     "text": [
      "[CV]  n_estimators=20, subsample=0.6, learning_rate=0.1, score=0.7775157930760196, total=   0.2s\n",
      "[CV] n_estimators=20, subsample=0.7, learning_rate=0.1 ...............\n"
     ]
    },
    {
     "name": "stderr",
     "output_type": "stream",
     "text": [
      "[Parallel(n_jobs=1)]: Done   2 out of   2 | elapsed:    0.6s remaining:    0.0s\n"
     ]
    },
    {
     "name": "stdout",
     "output_type": "stream",
     "text": [
      "[CV]  n_estimators=20, subsample=0.7, learning_rate=0.1, score=0.7854237538962421, total=   0.2s\n",
      "[CV] n_estimators=20, subsample=0.7, learning_rate=0.1 ...............\n",
      "[CV]  n_estimators=20, subsample=0.7, learning_rate=0.1, score=0.7776343220770091, total=   0.3s\n",
      "[CV] n_estimators=20, subsample=0.8, learning_rate=0.1 ...............\n",
      "[CV]  n_estimators=20, subsample=0.8, learning_rate=0.1, score=0.7861026711802954, total=   0.3s\n",
      "[CV] n_estimators=20, subsample=0.8, learning_rate=0.1 ...............\n",
      "[CV]  n_estimators=20, subsample=0.8, learning_rate=0.1, score=0.7763185715474902, total=   0.2s\n",
      "[CV] n_estimators=21, subsample=0.6, learning_rate=0.1 ...............\n",
      "[CV]  n_estimators=21, subsample=0.6, learning_rate=0.1, score=0.7846261688726102, total=   0.2s\n",
      "[CV] n_estimators=21, subsample=0.6, learning_rate=0.1 ...............\n",
      "[CV]  n_estimators=21, subsample=0.6, learning_rate=0.1, score=0.7753569743888564, total=   0.2s\n",
      "[CV] n_estimators=21, subsample=0.7, learning_rate=0.1 ...............\n",
      "[CV]  n_estimators=21, subsample=0.7, learning_rate=0.1, score=0.7847264768722773, total=   0.2s\n",
      "[CV] n_estimators=21, subsample=0.7, learning_rate=0.1 ...............\n",
      "[CV]  n_estimators=21, subsample=0.7, learning_rate=0.1, score=0.7758590693415467, total=   0.2s\n",
      "[CV] n_estimators=21, subsample=0.8, learning_rate=0.1 ...............\n",
      "[CV]  n_estimators=21, subsample=0.8, learning_rate=0.1, score=0.7839880176105515, total=   0.2s\n",
      "[CV] n_estimators=21, subsample=0.8, learning_rate=0.1 ...............\n",
      "[CV]  n_estimators=21, subsample=0.8, learning_rate=0.1, score=0.7761708611966665, total=   0.2s\n",
      "[CV] n_estimators=22, subsample=0.6, learning_rate=0.1 ...............\n",
      "[CV]  n_estimators=22, subsample=0.6, learning_rate=0.1, score=0.7878802131024724, total=   0.2s\n",
      "[CV] n_estimators=22, subsample=0.6, learning_rate=0.1 ...............\n",
      "[CV]  n_estimators=22, subsample=0.6, learning_rate=0.1, score=0.7789805488498571, total=   0.2s\n",
      "[CV] n_estimators=22, subsample=0.7, learning_rate=0.1 ...............\n",
      "[CV]  n_estimators=22, subsample=0.7, learning_rate=0.1, score=0.786244623879686, total=   0.3s\n",
      "[CV] n_estimators=22, subsample=0.7, learning_rate=0.1 ...............\n",
      "[CV]  n_estimators=22, subsample=0.7, learning_rate=0.1, score=0.7758292867911615, total=   0.2s\n",
      "[CV] n_estimators=22, subsample=0.8, learning_rate=0.1 ...............\n",
      "[CV]  n_estimators=22, subsample=0.8, learning_rate=0.1, score=0.7857362394443057, total=   0.3s\n",
      "[CV] n_estimators=22, subsample=0.8, learning_rate=0.1 ...............\n",
      "[CV]  n_estimators=22, subsample=0.8, learning_rate=0.1, score=0.7769971188619736, total=   0.3s\n",
      "[CV] n_estimators=23, subsample=0.6, learning_rate=0.1 ...............\n",
      "[CV]  n_estimators=23, subsample=0.6, learning_rate=0.1, score=0.7851395941433817, total=   0.2s\n",
      "[CV] n_estimators=23, subsample=0.6, learning_rate=0.1 ...............\n",
      "[CV]  n_estimators=23, subsample=0.6, learning_rate=0.1, score=0.7771904279623002, total=   0.2s\n",
      "[CV] n_estimators=23, subsample=0.7, learning_rate=0.1 ...............\n",
      "[CV]  n_estimators=23, subsample=0.7, learning_rate=0.1, score=0.7879095563139932, total=   0.3s\n",
      "[CV] n_estimators=23, subsample=0.7, learning_rate=0.1 ...............\n",
      "[CV]  n_estimators=23, subsample=0.7, learning_rate=0.1, score=0.7774557423901884, total=   0.2s\n",
      "[CV] n_estimators=23, subsample=0.8, learning_rate=0.1 ...............\n",
      "[CV]  n_estimators=23, subsample=0.8, learning_rate=0.1, score=0.7852426306686275, total=   0.2s\n",
      "[CV] n_estimators=23, subsample=0.8, learning_rate=0.1 ...............\n",
      "[CV]  n_estimators=23, subsample=0.8, learning_rate=0.1, score=0.7767937280908646, total=   0.3s\n",
      "[CV] n_estimators=24, subsample=0.6, learning_rate=0.1 ...............\n",
      "[CV]  n_estimators=24, subsample=0.6, learning_rate=0.1, score=0.7847747116549664, total=   0.2s\n",
      "[CV] n_estimators=24, subsample=0.6, learning_rate=0.1 ...............\n",
      "[CV]  n_estimators=24, subsample=0.6, learning_rate=0.1, score=0.7789116420174441, total=   0.2s\n",
      "[CV] n_estimators=24, subsample=0.7, learning_rate=0.1 ...............\n",
      "[CV]  n_estimators=24, subsample=0.7, learning_rate=0.1, score=0.7855737071875839, total=   0.3s\n",
      "[CV] n_estimators=24, subsample=0.7, learning_rate=0.1 ...............\n",
      "[CV]  n_estimators=24, subsample=0.7, learning_rate=0.1, score=0.7776199626330735, total=   0.2s\n",
      "[CV] n_estimators=24, subsample=0.8, learning_rate=0.1 ...............\n",
      "[CV]  n_estimators=24, subsample=0.8, learning_rate=0.1, score=0.7847979503685821, total=   0.3s\n",
      "[CV] n_estimators=24, subsample=0.8, learning_rate=0.1 ...............\n",
      "[CV]  n_estimators=24, subsample=0.8, learning_rate=0.1, score=0.7775233774522046, total=   0.3s\n",
      "[CV] n_estimators=25, subsample=0.6, learning_rate=0.1 ...............\n",
      "[CV]  n_estimators=25, subsample=0.6, learning_rate=0.1, score=0.7892897740410851, total=   0.3s\n",
      "[CV] n_estimators=25, subsample=0.6, learning_rate=0.1 ...............\n",
      "[CV]  n_estimators=25, subsample=0.6, learning_rate=0.1, score=0.7757083067417704, total=   0.3s\n",
      "[CV] n_estimators=25, subsample=0.7, learning_rate=0.1 ...............\n",
      "[CV]  n_estimators=25, subsample=0.7, learning_rate=0.1, score=0.7849226763598696, total=   0.3s\n",
      "[CV] n_estimators=25, subsample=0.7, learning_rate=0.1 ...............\n",
      "[CV]  n_estimators=25, subsample=0.7, learning_rate=0.1, score=0.775618242274573, total=   0.3s\n",
      "[CV] n_estimators=25, subsample=0.8, learning_rate=0.1 ...............\n",
      "[CV]  n_estimators=25, subsample=0.8, learning_rate=0.1, score=0.7883069036321763, total=   0.4s\n",
      "[CV] n_estimators=25, subsample=0.8, learning_rate=0.1 ...............\n",
      "[CV]  n_estimators=25, subsample=0.8, learning_rate=0.1, score=0.7776843835844501, total=   0.3s\n",
      "[CV] n_estimators=26, subsample=0.6, learning_rate=0.1 ...............\n",
      "[CV]  n_estimators=26, subsample=0.6, learning_rate=0.1, score=0.7867676683592775, total=   0.3s\n",
      "[CV] n_estimators=26, subsample=0.6, learning_rate=0.1 ...............\n",
      "[CV]  n_estimators=26, subsample=0.6, learning_rate=0.1, score=0.7779598259293173, total=   0.3s\n",
      "[CV] n_estimators=26, subsample=0.7, learning_rate=0.1 ...............\n",
      "[CV]  n_estimators=26, subsample=0.7, learning_rate=0.1, score=0.7864443612012912, total=   0.3s\n",
      "[CV] n_estimators=26, subsample=0.7, learning_rate=0.1 ...............\n",
      "[CV]  n_estimators=26, subsample=0.7, learning_rate=0.1, score=0.7776187833550691, total=   0.3s\n",
      "[CV] n_estimators=26, subsample=0.8, learning_rate=0.1 ...............\n",
      "[CV]  n_estimators=26, subsample=0.8, learning_rate=0.1, score=0.7873170500476336, total=   0.3s\n",
      "[CV] n_estimators=26, subsample=0.8, learning_rate=0.1 ...............\n",
      "[CV]  n_estimators=26, subsample=0.8, learning_rate=0.1, score=0.7793731096867282, total=   0.4s\n",
      "[CV] n_estimators=27, subsample=0.6, learning_rate=0.1 ...............\n",
      "[CV]  n_estimators=27, subsample=0.6, learning_rate=0.1, score=0.7872666648168187, total=   0.3s\n",
      "[CV] n_estimators=27, subsample=0.6, learning_rate=0.1 ...............\n",
      "[CV]  n_estimators=27, subsample=0.6, learning_rate=0.1, score=0.7764360137628681, total=   0.2s\n",
      "[CV] n_estimators=27, subsample=0.7, learning_rate=0.1 ...............\n",
      "[CV]  n_estimators=27, subsample=0.7, learning_rate=0.1, score=0.7862157431301277, total=   0.3s\n",
      "[CV] n_estimators=27, subsample=0.7, learning_rate=0.1 ...............\n",
      "[CV]  n_estimators=27, subsample=0.7, learning_rate=0.1, score=0.779844659026795, total=   0.2s\n",
      "[CV] n_estimators=27, subsample=0.8, learning_rate=0.1 ...............\n",
      "[CV]  n_estimators=27, subsample=0.8, learning_rate=0.1, score=0.785010914102315, total=   0.3s\n",
      "[CV] n_estimators=27, subsample=0.8, learning_rate=0.1 ...............\n",
      "[CV]  n_estimators=27, subsample=0.8, learning_rate=0.1, score=0.7816833152973167, total=   0.3s\n",
      "[CV] n_estimators=28, subsample=0.6, learning_rate=0.1 ...............\n",
      "[CV]  n_estimators=28, subsample=0.6, learning_rate=0.1, score=0.7848499542162657, total=   0.3s\n",
      "[CV] n_estimators=28, subsample=0.6, learning_rate=0.1 ...............\n",
      "[CV]  n_estimators=28, subsample=0.6, learning_rate=0.1, score=0.776339220474116, total=   0.2s\n",
      "[CV] n_estimators=28, subsample=0.7, learning_rate=0.1 ...............\n",
      "[CV]  n_estimators=28, subsample=0.7, learning_rate=0.1, score=0.7865624046172202, total=   0.3s\n",
      "[CV] n_estimators=28, subsample=0.7, learning_rate=0.1 ...............\n"
     ]
    },
    {
     "name": "stdout",
     "output_type": "stream",
     "text": [
      "[CV]  n_estimators=28, subsample=0.7, learning_rate=0.1, score=0.7788624591877317, total=   0.3s\n",
      "[CV] n_estimators=28, subsample=0.8, learning_rate=0.1 ...............\n",
      "[CV]  n_estimators=28, subsample=0.8, learning_rate=0.1, score=0.7867229020413071, total=   0.3s\n",
      "[CV] n_estimators=28, subsample=0.8, learning_rate=0.1 ...............\n",
      "[CV]  n_estimators=28, subsample=0.8, learning_rate=0.1, score=0.7773432253947112, total=   0.3s\n",
      "[CV] n_estimators=29, subsample=0.6, learning_rate=0.1 ...............\n",
      "[CV]  n_estimators=29, subsample=0.6, learning_rate=0.1, score=0.7871234403470315, total=   0.3s\n",
      "[CV] n_estimators=29, subsample=0.6, learning_rate=0.1 ...............\n",
      "[CV]  n_estimators=29, subsample=0.6, learning_rate=0.1, score=0.7770242653791725, total=   0.3s\n",
      "[CV] n_estimators=29, subsample=0.7, learning_rate=0.1 ...............\n",
      "[CV]  n_estimators=29, subsample=0.7, learning_rate=0.1, score=0.7862193734565333, total=   0.3s\n",
      "[CV] n_estimators=29, subsample=0.7, learning_rate=0.1 ...............\n",
      "[CV]  n_estimators=29, subsample=0.7, learning_rate=0.1, score=0.7778125086711618, total=   0.3s\n",
      "[CV] n_estimators=29, subsample=0.8, learning_rate=0.1 ...............\n",
      "[CV]  n_estimators=29, subsample=0.8, learning_rate=0.1, score=0.787228627320403, total=   0.3s\n",
      "[CV] n_estimators=29, subsample=0.8, learning_rate=0.1 ...............\n",
      "[CV]  n_estimators=29, subsample=0.8, learning_rate=0.1, score=0.7774469093667046, total=   0.3s\n",
      "[CV] n_estimators=30, subsample=0.6, learning_rate=0.1 ...............\n",
      "[CV]  n_estimators=30, subsample=0.6, learning_rate=0.1, score=0.7851654226439875, total=   0.3s\n",
      "[CV] n_estimators=30, subsample=0.6, learning_rate=0.1 ...............\n",
      "[CV]  n_estimators=30, subsample=0.6, learning_rate=0.1, score=0.777427208487102, total=   0.3s\n",
      "[CV] n_estimators=30, subsample=0.7, learning_rate=0.1 ...............\n",
      "[CV]  n_estimators=30, subsample=0.7, learning_rate=0.1, score=0.7879877586318524, total=   0.3s\n",
      "[CV] n_estimators=30, subsample=0.7, learning_rate=0.1 ...............\n",
      "[CV]  n_estimators=30, subsample=0.7, learning_rate=0.1, score=0.7791885873636893, total=   0.3s\n",
      "[CV] n_estimators=30, subsample=0.8, learning_rate=0.1 ...............\n",
      "[CV]  n_estimators=30, subsample=0.8, learning_rate=0.1, score=0.7855694525375289, total=   0.3s\n",
      "[CV] n_estimators=30, subsample=0.8, learning_rate=0.1 ...............\n",
      "[CV]  n_estimators=30, subsample=0.8, learning_rate=0.1, score=0.7786731041371847, total=   0.4s\n",
      "[CV] n_estimators=31, subsample=0.6, learning_rate=0.1 ...............\n",
      "[CV]  n_estimators=31, subsample=0.6, learning_rate=0.1, score=0.7877298435953642, total=   0.3s\n",
      "[CV] n_estimators=31, subsample=0.6, learning_rate=0.1 ...............\n",
      "[CV]  n_estimators=31, subsample=0.6, learning_rate=0.1, score=0.7773495842466958, total=   0.3s\n",
      "[CV] n_estimators=31, subsample=0.7, learning_rate=0.1 ...............\n",
      "[CV]  n_estimators=31, subsample=0.7, learning_rate=0.1, score=0.7877274156700611, total=   0.4s\n",
      "[CV] n_estimators=31, subsample=0.7, learning_rate=0.1 ...............\n",
      "[CV]  n_estimators=31, subsample=0.7, learning_rate=0.1, score=0.779177442030393, total=   0.4s\n",
      "[CV] n_estimators=31, subsample=0.8, learning_rate=0.1 ...............\n",
      "[CV]  n_estimators=31, subsample=0.8, learning_rate=0.1, score=0.7876582082373724, total=   0.4s\n",
      "[CV] n_estimators=31, subsample=0.8, learning_rate=0.1 ...............\n",
      "[CV]  n_estimators=31, subsample=0.8, learning_rate=0.1, score=0.7795126344608155, total=   0.4s\n",
      "[CV] n_estimators=32, subsample=0.6, learning_rate=0.1 ...............\n",
      "[CV]  n_estimators=32, subsample=0.6, learning_rate=0.1, score=0.7877715807874802, total=   0.3s\n",
      "[CV] n_estimators=32, subsample=0.6, learning_rate=0.1 ...............\n",
      "[CV]  n_estimators=32, subsample=0.6, learning_rate=0.1, score=0.7770911373789506, total=   0.4s\n",
      "[CV] n_estimators=32, subsample=0.7, learning_rate=0.1 ...............\n",
      "[CV]  n_estimators=32, subsample=0.7, learning_rate=0.1, score=0.7870616785519391, total=   0.4s\n",
      "[CV] n_estimators=32, subsample=0.7, learning_rate=0.1 ...............\n",
      "[CV]  n_estimators=32, subsample=0.7, learning_rate=0.1, score=0.7777179814460261, total=   0.4s\n",
      "[CV] n_estimators=32, subsample=0.8, learning_rate=0.1 ...............\n",
      "[CV]  n_estimators=32, subsample=0.8, learning_rate=0.1, score=0.7880297964242441, total=   0.4s\n",
      "[CV] n_estimators=32, subsample=0.8, learning_rate=0.1 ...............\n",
      "[CV]  n_estimators=32, subsample=0.8, learning_rate=0.1, score=0.7778439792077102, total=   0.4s\n",
      "[CV] n_estimators=33, subsample=0.6, learning_rate=0.1 ...............\n",
      "[CV]  n_estimators=33, subsample=0.6, learning_rate=0.1, score=0.7880767594365363, total=   0.3s\n",
      "[CV] n_estimators=33, subsample=0.6, learning_rate=0.1 ...............\n",
      "[CV]  n_estimators=33, subsample=0.6, learning_rate=0.1, score=0.7769108697059667, total=   0.4s\n",
      "[CV] n_estimators=33, subsample=0.7, learning_rate=0.1 ...............\n",
      "[CV]  n_estimators=33, subsample=0.7, learning_rate=0.1, score=0.7875193540331308, total=   0.4s\n",
      "[CV] n_estimators=33, subsample=0.7, learning_rate=0.1 ...............\n",
      "[CV]  n_estimators=33, subsample=0.7, learning_rate=0.1, score=0.7783121063292544, total=   0.3s\n",
      "[CV] n_estimators=33, subsample=0.8, learning_rate=0.1 ...............\n",
      "[CV]  n_estimators=33, subsample=0.8, learning_rate=0.1, score=0.7877221436036885, total=   0.3s\n",
      "[CV] n_estimators=33, subsample=0.8, learning_rate=0.1 ...............\n",
      "[CV]  n_estimators=33, subsample=0.8, learning_rate=0.1, score=0.7777821017971273, total=   0.4s\n",
      "[CV] n_estimators=34, subsample=0.6, learning_rate=0.1 ...............\n",
      "[CV]  n_estimators=34, subsample=0.6, learning_rate=0.1, score=0.7862470980511852, total=   0.3s\n",
      "[CV] n_estimators=34, subsample=0.6, learning_rate=0.1 ...............\n",
      "[CV]  n_estimators=34, subsample=0.6, learning_rate=0.1, score=0.7763069868753295, total=   0.3s\n",
      "[CV] n_estimators=34, subsample=0.7, learning_rate=0.1 ...............\n",
      "[CV]  n_estimators=34, subsample=0.7, learning_rate=0.1, score=0.788213208838573, total=   0.4s\n",
      "[CV] n_estimators=34, subsample=0.7, learning_rate=0.1 ...............\n",
      "[CV]  n_estimators=34, subsample=0.7, learning_rate=0.1, score=0.7793936198747652, total=   0.3s\n",
      "[CV] n_estimators=34, subsample=0.8, learning_rate=0.1 ...............\n",
      "[CV]  n_estimators=34, subsample=0.8, learning_rate=0.1, score=0.7876278013633379, total=   0.4s\n",
      "[CV] n_estimators=34, subsample=0.8, learning_rate=0.1 ...............\n",
      "[CV]  n_estimators=34, subsample=0.8, learning_rate=0.1, score=0.7808097940194418, total=   0.5s\n",
      "[CV] n_estimators=35, subsample=0.6, learning_rate=0.1 ...............\n",
      "[CV]  n_estimators=35, subsample=0.6, learning_rate=0.1, score=0.7876895400353321, total=   0.3s\n",
      "[CV] n_estimators=35, subsample=0.6, learning_rate=0.1 ...............\n",
      "[CV]  n_estimators=35, subsample=0.6, learning_rate=0.1, score=0.7755962059620596, total=   0.3s\n",
      "[CV] n_estimators=35, subsample=0.7, learning_rate=0.1 ...............\n",
      "[CV]  n_estimators=35, subsample=0.7, learning_rate=0.1, score=0.787086605251718, total=   0.4s\n",
      "[CV] n_estimators=35, subsample=0.7, learning_rate=0.1 ...............\n",
      "[CV]  n_estimators=35, subsample=0.7, learning_rate=0.1, score=0.7753001840598611, total=   0.3s\n",
      "[CV] n_estimators=35, subsample=0.8, learning_rate=0.1 ...............\n",
      "[CV]  n_estimators=35, subsample=0.8, learning_rate=0.1, score=0.7880650822719832, total=   0.4s\n",
      "[CV] n_estimators=35, subsample=0.8, learning_rate=0.1 ...............\n",
      "[CV]  n_estimators=35, subsample=0.8, learning_rate=0.1, score=0.7797723530989575, total=   0.4s\n",
      "[CV] n_estimators=36, subsample=0.6, learning_rate=0.1 ...............\n",
      "[CV]  n_estimators=36, subsample=0.6, learning_rate=0.1, score=0.7870164728951045, total=   0.4s\n",
      "[CV] n_estimators=36, subsample=0.6, learning_rate=0.1 ...............\n",
      "[CV]  n_estimators=36, subsample=0.6, learning_rate=0.1, score=0.7781226587863149, total=   0.4s\n",
      "[CV] n_estimators=36, subsample=0.7, learning_rate=0.1 ...............\n",
      "[CV]  n_estimators=36, subsample=0.7, learning_rate=0.1, score=0.787284631464062, total=   0.4s\n",
      "[CV] n_estimators=36, subsample=0.7, learning_rate=0.1 ...............\n",
      "[CV]  n_estimators=36, subsample=0.7, learning_rate=0.1, score=0.7783093315574795, total=   0.4s\n",
      "[CV] n_estimators=36, subsample=0.8, learning_rate=0.1 ...............\n"
     ]
    },
    {
     "name": "stdout",
     "output_type": "stream",
     "text": [
      "[CV]  n_estimators=36, subsample=0.8, learning_rate=0.1, score=0.7882729358010303, total=   0.4s\n",
      "[CV] n_estimators=36, subsample=0.8, learning_rate=0.1 ...............\n",
      "[CV]  n_estimators=36, subsample=0.8, learning_rate=0.1, score=0.7785801955289178, total=   0.4s\n",
      "[CV] n_estimators=37, subsample=0.6, learning_rate=0.1 ...............\n",
      "[CV]  n_estimators=37, subsample=0.6, learning_rate=0.1, score=0.7882697679365872, total=   0.4s\n",
      "[CV] n_estimators=37, subsample=0.6, learning_rate=0.1 ...............\n",
      "[CV]  n_estimators=37, subsample=0.6, learning_rate=0.1, score=0.7789084741530009, total=   0.4s\n",
      "[CV] n_estimators=37, subsample=0.7, learning_rate=0.1 ...............\n",
      "[CV]  n_estimators=37, subsample=0.7, learning_rate=0.1, score=0.7857897000471712, total=   0.4s\n",
      "[CV] n_estimators=37, subsample=0.7, learning_rate=0.1 ...............\n",
      "[CV]  n_estimators=37, subsample=0.7, learning_rate=0.1, score=0.7782846129655836, total=   0.4s\n",
      "[CV] n_estimators=37, subsample=0.8, learning_rate=0.1 ...............\n",
      "[CV]  n_estimators=37, subsample=0.8, learning_rate=0.1, score=0.788856215951238, total=   0.4s\n",
      "[CV] n_estimators=37, subsample=0.8, learning_rate=0.1 ...............\n",
      "[CV]  n_estimators=37, subsample=0.8, learning_rate=0.1, score=0.7795240341481913, total=   0.4s\n",
      "[CV] n_estimators=38, subsample=0.6, learning_rate=0.1 ...............\n",
      "[CV]  n_estimators=38, subsample=0.6, learning_rate=0.1, score=0.7869878233765274, total=   0.4s\n",
      "[CV] n_estimators=38, subsample=0.6, learning_rate=0.1 ...............\n",
      "[CV]  n_estimators=38, subsample=0.6, learning_rate=0.1, score=0.7763123283109965, total=   0.4s\n",
      "[CV] n_estimators=38, subsample=0.7, learning_rate=0.1 ...............\n",
      "[CV]  n_estimators=38, subsample=0.7, learning_rate=0.1, score=0.7885852826105053, total=   0.4s\n",
      "[CV] n_estimators=38, subsample=0.7, learning_rate=0.1 ...............\n",
      "[CV]  n_estimators=38, subsample=0.7, learning_rate=0.1, score=0.7769717990695265, total=   0.4s\n",
      "[CV] n_estimators=38, subsample=0.8, learning_rate=0.1 ...............\n",
      "[CV]  n_estimators=38, subsample=0.8, learning_rate=0.1, score=0.7872219678681429, total=   0.4s\n",
      "[CV] n_estimators=38, subsample=0.8, learning_rate=0.1 ...............\n",
      "[CV]  n_estimators=38, subsample=0.8, learning_rate=0.1, score=0.7782879426917135, total=   0.5s\n",
      "[CV] n_estimators=39, subsample=0.6, learning_rate=0.1 ...............\n",
      "[CV]  n_estimators=39, subsample=0.6, learning_rate=0.1, score=0.7871236947011109, total=   0.5s\n",
      "[CV] n_estimators=39, subsample=0.6, learning_rate=0.1 ...............\n",
      "[CV]  n_estimators=39, subsample=0.6, learning_rate=0.1, score=0.7766194261771969, total=   0.5s\n",
      "[CV] n_estimators=39, subsample=0.7, learning_rate=0.1 ...............\n",
      "[CV]  n_estimators=39, subsample=0.7, learning_rate=0.1, score=0.7887583589999723, total=   0.5s\n",
      "[CV] n_estimators=39, subsample=0.7, learning_rate=0.1 ...............\n",
      "[CV]  n_estimators=39, subsample=0.7, learning_rate=0.1, score=0.7800825263372088, total=   0.5s\n",
      "[CV] n_estimators=39, subsample=0.8, learning_rate=0.1 ...............\n",
      "[CV]  n_estimators=39, subsample=0.8, learning_rate=0.1, score=0.7879290490857127, total=   0.5s\n",
      "[CV] n_estimators=39, subsample=0.8, learning_rate=0.1 ...............\n",
      "[CV]  n_estimators=39, subsample=0.8, learning_rate=0.1, score=0.7791871074854093, total=   0.4s\n",
      "[CV] n_estimators=20, subsample=0.6, learning_rate=0.2 ...............\n",
      "[CV]  n_estimators=20, subsample=0.6, learning_rate=0.2, score=0.7826893088043508, total=   0.2s\n",
      "[CV] n_estimators=20, subsample=0.6, learning_rate=0.2 ...............\n",
      "[CV]  n_estimators=20, subsample=0.6, learning_rate=0.2, score=0.7743004106662227, total=   0.2s\n",
      "[CV] n_estimators=20, subsample=0.7, learning_rate=0.2 ...............\n",
      "[CV]  n_estimators=20, subsample=0.7, learning_rate=0.2, score=0.7851850310311976, total=   0.2s\n",
      "[CV] n_estimators=20, subsample=0.7, learning_rate=0.2 ...............\n",
      "[CV]  n_estimators=20, subsample=0.7, learning_rate=0.2, score=0.7789281981557017, total=   0.2s\n",
      "[CV] n_estimators=20, subsample=0.8, learning_rate=0.2 ...............\n",
      "[CV]  n_estimators=20, subsample=0.8, learning_rate=0.2, score=0.7882720340002035, total=   0.2s\n",
      "[CV] n_estimators=20, subsample=0.8, learning_rate=0.2 ...............\n",
      "[CV]  n_estimators=20, subsample=0.8, learning_rate=0.2, score=0.778943783123838, total=   0.2s\n",
      "[CV] n_estimators=21, subsample=0.6, learning_rate=0.2 ...............\n",
      "[CV]  n_estimators=21, subsample=0.6, learning_rate=0.2, score=0.7845624416141772, total=   0.2s\n",
      "[CV] n_estimators=21, subsample=0.6, learning_rate=0.2 ...............\n",
      "[CV]  n_estimators=21, subsample=0.6, learning_rate=0.2, score=0.775699149994913, total=   0.2s\n",
      "[CV] n_estimators=21, subsample=0.7, learning_rate=0.2 ...............\n",
      "[CV]  n_estimators=21, subsample=0.7, learning_rate=0.2, score=0.7855784936688956, total=   0.2s\n",
      "[CV] n_estimators=21, subsample=0.7, learning_rate=0.2 ...............\n",
      "[CV]  n_estimators=21, subsample=0.7, learning_rate=0.2, score=0.7765280668165042, total=   0.2s\n",
      "[CV] n_estimators=21, subsample=0.8, learning_rate=0.2 ...............\n",
      "[CV]  n_estimators=21, subsample=0.8, learning_rate=0.2, score=0.7862197203030051, total=   0.2s\n",
      "[CV] n_estimators=21, subsample=0.8, learning_rate=0.2 ...............\n",
      "[CV]  n_estimators=21, subsample=0.8, learning_rate=0.2, score=0.7754233145573777, total=   0.2s\n",
      "[CV] n_estimators=22, subsample=0.6, learning_rate=0.2 ...............\n",
      "[CV]  n_estimators=22, subsample=0.6, learning_rate=0.2, score=0.7841721699640204, total=   0.2s\n",
      "[CV] n_estimators=22, subsample=0.6, learning_rate=0.2 ...............\n",
      "[CV]  n_estimators=22, subsample=0.6, learning_rate=0.2, score=0.7726416752222128, total=   0.2s\n",
      "[CV] n_estimators=22, subsample=0.7, learning_rate=0.2 ...............\n",
      "[CV]  n_estimators=22, subsample=0.7, learning_rate=0.2, score=0.7809491338087441, total=   0.2s\n",
      "[CV] n_estimators=22, subsample=0.7, learning_rate=0.2 ...............\n",
      "[CV]  n_estimators=22, subsample=0.7, learning_rate=0.2, score=0.7758413570483828, total=   0.2s\n",
      "[CV] n_estimators=22, subsample=0.8, learning_rate=0.2 ...............\n",
      "[CV]  n_estimators=22, subsample=0.8, learning_rate=0.2, score=0.7850130645504407, total=   0.3s\n",
      "[CV] n_estimators=22, subsample=0.8, learning_rate=0.2 ...............\n",
      "[CV]  n_estimators=22, subsample=0.8, learning_rate=0.2, score=0.7748429479175338, total=   0.3s\n",
      "[CV] n_estimators=23, subsample=0.6, learning_rate=0.2 ...............\n",
      "[CV]  n_estimators=23, subsample=0.6, learning_rate=0.2, score=0.7858492882710397, total=   0.2s\n",
      "[CV] n_estimators=23, subsample=0.6, learning_rate=0.2 ...............\n",
      "[CV]  n_estimators=23, subsample=0.6, learning_rate=0.2, score=0.7769511038967045, total=   0.2s\n",
      "[CV] n_estimators=23, subsample=0.7, learning_rate=0.2 ...............\n",
      "[CV]  n_estimators=23, subsample=0.7, learning_rate=0.2, score=0.7872898804073365, total=   0.2s\n",
      "[CV] n_estimators=23, subsample=0.7, learning_rate=0.2 ...............\n",
      "[CV]  n_estimators=23, subsample=0.7, learning_rate=0.2, score=0.7749969939972436, total=   0.2s\n",
      "[CV] n_estimators=23, subsample=0.8, learning_rate=0.2 ...............\n",
      "[CV]  n_estimators=23, subsample=0.8, learning_rate=0.2, score=0.7843942904446111, total=   0.2s\n",
      "[CV] n_estimators=23, subsample=0.8, learning_rate=0.2 ...............\n",
      "[CV]  n_estimators=23, subsample=0.8, learning_rate=0.2, score=0.7760065947075854, total=   0.2s\n",
      "[CV] n_estimators=24, subsample=0.6, learning_rate=0.2 ...............\n",
      "[CV]  n_estimators=24, subsample=0.6, learning_rate=0.2, score=0.7853930001757355, total=   0.2s\n",
      "[CV] n_estimators=24, subsample=0.6, learning_rate=0.2 ...............\n",
      "[CV]  n_estimators=24, subsample=0.6, learning_rate=0.2, score=0.7741798699556961, total=   0.2s\n",
      "[CV] n_estimators=24, subsample=0.7, learning_rate=0.2 ...............\n",
      "[CV]  n_estimators=24, subsample=0.7, learning_rate=0.2, score=0.784436050759825, total=   0.2s\n",
      "[CV] n_estimators=24, subsample=0.7, learning_rate=0.2 ...............\n",
      "[CV]  n_estimators=24, subsample=0.7, learning_rate=0.2, score=0.7716204898397107, total=   0.2s\n",
      "[CV] n_estimators=24, subsample=0.8, learning_rate=0.2 ...............\n",
      "[CV]  n_estimators=24, subsample=0.8, learning_rate=0.2, score=0.7837268190941294, total=   0.2s\n",
      "[CV] n_estimators=24, subsample=0.8, learning_rate=0.2 ...............\n"
     ]
    },
    {
     "name": "stdout",
     "output_type": "stream",
     "text": [
      "[CV]  n_estimators=24, subsample=0.8, learning_rate=0.2, score=0.7753102194844474, total=   0.2s\n",
      "[CV] n_estimators=25, subsample=0.6, learning_rate=0.2 ...............\n",
      "[CV]  n_estimators=25, subsample=0.6, learning_rate=0.2, score=0.7852408964362682, total=   0.2s\n",
      "[CV] n_estimators=25, subsample=0.6, learning_rate=0.2 ...............\n",
      "[CV]  n_estimators=25, subsample=0.6, learning_rate=0.2, score=0.7774710730042456, total=   0.2s\n",
      "[CV] n_estimators=25, subsample=0.7, learning_rate=0.2 ...............\n",
      "[CV]  n_estimators=25, subsample=0.7, learning_rate=0.2, score=0.7854721042944218, total=   0.3s\n",
      "[CV] n_estimators=25, subsample=0.7, learning_rate=0.2 ...............\n",
      "[CV]  n_estimators=25, subsample=0.7, learning_rate=0.2, score=0.771846633739375, total=   0.3s\n",
      "[CV] n_estimators=25, subsample=0.8, learning_rate=0.2 ...............\n",
      "[CV]  n_estimators=25, subsample=0.8, learning_rate=0.2, score=0.7851423457920585, total=   0.3s\n",
      "[CV] n_estimators=25, subsample=0.8, learning_rate=0.2 ...............\n",
      "[CV]  n_estimators=25, subsample=0.8, learning_rate=0.2, score=0.7734458503288104, total=   0.3s\n",
      "[CV] n_estimators=26, subsample=0.6, learning_rate=0.2 ...............\n",
      "[CV]  n_estimators=26, subsample=0.6, learning_rate=0.2, score=0.7846815024464239, total=   0.2s\n",
      "[CV] n_estimators=26, subsample=0.6, learning_rate=0.2 ...............\n",
      "[CV]  n_estimators=26, subsample=0.6, learning_rate=0.2, score=0.7750835437535262, total=   0.2s\n",
      "[CV] n_estimators=26, subsample=0.7, learning_rate=0.2 ...............\n",
      "[CV]  n_estimators=26, subsample=0.7, learning_rate=0.2, score=0.7863844261309508, total=   0.2s\n",
      "[CV] n_estimators=26, subsample=0.7, learning_rate=0.2 ...............\n",
      "[CV]  n_estimators=26, subsample=0.7, learning_rate=0.2, score=0.775523298833671, total=   0.3s\n",
      "[CV] n_estimators=26, subsample=0.8, learning_rate=0.2 ...............\n",
      "[CV]  n_estimators=26, subsample=0.8, learning_rate=0.2, score=0.7849284571344007, total=   0.3s\n",
      "[CV] n_estimators=26, subsample=0.8, learning_rate=0.2 ...............\n",
      "[CV]  n_estimators=26, subsample=0.8, learning_rate=0.2, score=0.7732294412534568, total=   0.3s\n",
      "[CV] n_estimators=27, subsample=0.6, learning_rate=0.2 ...............\n",
      "[CV]  n_estimators=27, subsample=0.6, learning_rate=0.2, score=0.7813139931740614, total=   0.2s\n",
      "[CV] n_estimators=27, subsample=0.6, learning_rate=0.2 ...............\n",
      "[CV]  n_estimators=27, subsample=0.6, learning_rate=0.2, score=0.7744083724113692, total=   0.2s\n",
      "[CV] n_estimators=27, subsample=0.7, learning_rate=0.2 ...............\n",
      "[CV]  n_estimators=27, subsample=0.7, learning_rate=0.2, score=0.7883163147331131, total=   0.3s\n",
      "[CV] n_estimators=27, subsample=0.7, learning_rate=0.2 ...............\n",
      "[CV]  n_estimators=27, subsample=0.7, learning_rate=0.2, score=0.7752742630668628, total=   0.2s\n",
      "[CV] n_estimators=27, subsample=0.8, learning_rate=0.2 ...............\n",
      "[CV]  n_estimators=27, subsample=0.8, learning_rate=0.2, score=0.7846994228474709, total=   0.3s\n",
      "[CV] n_estimators=27, subsample=0.8, learning_rate=0.2 ...............\n",
      "[CV]  n_estimators=27, subsample=0.8, learning_rate=0.2, score=0.7756726971706577, total=   0.3s\n",
      "[CV] n_estimators=28, subsample=0.6, learning_rate=0.2 ...............\n",
      "[CV]  n_estimators=28, subsample=0.6, learning_rate=0.2, score=0.7869105228594948, total=   0.3s\n",
      "[CV] n_estimators=28, subsample=0.6, learning_rate=0.2 ...............\n",
      "[CV]  n_estimators=28, subsample=0.6, learning_rate=0.2, score=0.7759284155128241, total=   0.2s\n",
      "[CV] n_estimators=28, subsample=0.7, learning_rate=0.2 ...............\n",
      "[CV]  n_estimators=28, subsample=0.7, learning_rate=0.2, score=0.7836590915397208, total=   0.3s\n",
      "[CV] n_estimators=28, subsample=0.7, learning_rate=0.2 ...............\n",
      "[CV]  n_estimators=28, subsample=0.7, learning_rate=0.2, score=0.774179291878243, total=   0.3s\n",
      "[CV] n_estimators=28, subsample=0.8, learning_rate=0.2 ...............\n",
      "[CV]  n_estimators=28, subsample=0.8, learning_rate=0.2, score=0.7857264583737986, total=   0.4s\n",
      "[CV] n_estimators=28, subsample=0.8, learning_rate=0.2 ...............\n",
      "[CV]  n_estimators=28, subsample=0.8, learning_rate=0.2, score=0.779904871574313, total=   0.3s\n",
      "[CV] n_estimators=29, subsample=0.6, learning_rate=0.2 ...............\n",
      "[CV]  n_estimators=29, subsample=0.6, learning_rate=0.2, score=0.7801169797534152, total=   0.3s\n",
      "[CV] n_estimators=29, subsample=0.6, learning_rate=0.2 ...............\n",
      "[CV]  n_estimators=29, subsample=0.6, learning_rate=0.2, score=0.7763408390909847, total=   0.3s\n",
      "[CV] n_estimators=29, subsample=0.7, learning_rate=0.2 ...............\n",
      "[CV]  n_estimators=29, subsample=0.7, learning_rate=0.2, score=0.7864070867671135, total=   0.3s\n",
      "[CV] n_estimators=29, subsample=0.7, learning_rate=0.2 ...............\n",
      "[CV]  n_estimators=29, subsample=0.7, learning_rate=0.2, score=0.7745999472793362, total=   0.3s\n",
      "[CV] n_estimators=29, subsample=0.8, learning_rate=0.2 ...............\n",
      "[CV]  n_estimators=29, subsample=0.8, learning_rate=0.2, score=0.7884410176013024, total=   0.3s\n",
      "[CV] n_estimators=29, subsample=0.8, learning_rate=0.2 ...............\n",
      "[CV]  n_estimators=29, subsample=0.8, learning_rate=0.2, score=0.7718800466161658, total=   0.3s\n",
      "[CV] n_estimators=30, subsample=0.6, learning_rate=0.2 ...............\n",
      "[CV]  n_estimators=30, subsample=0.6, learning_rate=0.2, score=0.7852473246575469, total=   0.3s\n",
      "[CV] n_estimators=30, subsample=0.6, learning_rate=0.2 ...............\n",
      "[CV]  n_estimators=30, subsample=0.6, learning_rate=0.2, score=0.7775140357205619, total=   0.3s\n",
      "[CV] n_estimators=30, subsample=0.7, learning_rate=0.2 ...............\n",
      "[CV]  n_estimators=30, subsample=0.7, learning_rate=0.2, score=0.785407683343045, total=   0.3s\n",
      "[CV] n_estimators=30, subsample=0.7, learning_rate=0.2 ...............\n",
      "[CV]  n_estimators=30, subsample=0.7, learning_rate=0.2, score=0.7727989122894642, total=   0.3s\n",
      "[CV] n_estimators=30, subsample=0.8, learning_rate=0.2 ...............\n",
      "[CV]  n_estimators=30, subsample=0.8, learning_rate=0.2, score=0.7861770350638659, total=   0.3s\n",
      "[CV] n_estimators=30, subsample=0.8, learning_rate=0.2 ...............\n",
      "[CV]  n_estimators=30, subsample=0.8, learning_rate=0.2, score=0.7751121470259071, total=   0.3s\n",
      "[CV] n_estimators=31, subsample=0.6, learning_rate=0.2 ...............\n",
      "[CV]  n_estimators=31, subsample=0.6, learning_rate=0.2, score=0.7830762738514757, total=   0.3s\n",
      "[CV] n_estimators=31, subsample=0.6, learning_rate=0.2 ...............\n",
      "[CV]  n_estimators=31, subsample=0.6, learning_rate=0.2, score=0.777611037117197, total=   0.3s\n",
      "[CV] n_estimators=31, subsample=0.7, learning_rate=0.2 ...............\n",
      "[CV]  n_estimators=31, subsample=0.7, learning_rate=0.2, score=0.7810891672909903, total=   0.3s\n",
      "[CV] n_estimators=31, subsample=0.7, learning_rate=0.2 ...............\n",
      "[CV]  n_estimators=31, subsample=0.7, learning_rate=0.2, score=0.7753879362172461, total=   0.3s\n",
      "[CV] n_estimators=31, subsample=0.8, learning_rate=0.2 ...............\n",
      "[CV]  n_estimators=31, subsample=0.8, learning_rate=0.2, score=0.7858599942654716, total=   0.3s\n",
      "[CV] n_estimators=31, subsample=0.8, learning_rate=0.2 ...............\n",
      "[CV]  n_estimators=31, subsample=0.8, learning_rate=0.2, score=0.7747381771599285, total=   0.3s\n",
      "[CV] n_estimators=32, subsample=0.6, learning_rate=0.2 ...............\n",
      "[CV]  n_estimators=32, subsample=0.6, learning_rate=0.2, score=0.7817116410925202, total=   0.3s\n",
      "[CV] n_estimators=32, subsample=0.6, learning_rate=0.2 ...............\n",
      "[CV]  n_estimators=32, subsample=0.6, learning_rate=0.2, score=0.7743144695098827, total=   0.3s\n",
      "[CV] n_estimators=32, subsample=0.7, learning_rate=0.2 ...............\n",
      "[CV]  n_estimators=32, subsample=0.7, learning_rate=0.2, score=0.7824974564592061, total=   0.3s\n",
      "[CV] n_estimators=32, subsample=0.7, learning_rate=0.2 ...............\n",
      "[CV]  n_estimators=32, subsample=0.7, learning_rate=0.2, score=0.7744037940379404, total=   0.3s\n",
      "[CV] n_estimators=32, subsample=0.8, learning_rate=0.2 ...............\n",
      "[CV]  n_estimators=32, subsample=0.8, learning_rate=0.2, score=0.7846737562085518, total=   0.3s\n",
      "[CV] n_estimators=32, subsample=0.8, learning_rate=0.2 ...............\n",
      "[CV]  n_estimators=32, subsample=0.8, learning_rate=0.2, score=0.7762524626099503, total=   0.4s\n",
      "[CV] n_estimators=33, subsample=0.6, learning_rate=0.2 ...............\n"
     ]
    },
    {
     "name": "stdout",
     "output_type": "stream",
     "text": [
      "[CV]  n_estimators=33, subsample=0.6, learning_rate=0.2, score=0.781929391307565, total=   0.3s\n",
      "[CV] n_estimators=33, subsample=0.6, learning_rate=0.2 ...............\n",
      "[CV]  n_estimators=33, subsample=0.6, learning_rate=0.2, score=0.7763626210494188, total=   0.3s\n",
      "[CV] n_estimators=33, subsample=0.7, learning_rate=0.2 ...............\n",
      "[CV]  n_estimators=33, subsample=0.7, learning_rate=0.2, score=0.7869430339354587, total=   0.3s\n",
      "[CV] n_estimators=33, subsample=0.7, learning_rate=0.2 ...............\n",
      "[CV]  n_estimators=33, subsample=0.7, learning_rate=0.2, score=0.7755662384268893, total=   0.3s\n",
      "[CV] n_estimators=33, subsample=0.8, learning_rate=0.2 ...............\n",
      "[CV]  n_estimators=33, subsample=0.8, learning_rate=0.2, score=0.7835032418583571, total=   0.3s\n",
      "[CV] n_estimators=33, subsample=0.8, learning_rate=0.2 ...............\n",
      "[CV]  n_estimators=33, subsample=0.8, learning_rate=0.2, score=0.7757428064041734, total=   0.3s\n",
      "[CV] n_estimators=34, subsample=0.6, learning_rate=0.2 ...............\n",
      "[CV]  n_estimators=34, subsample=0.6, learning_rate=0.2, score=0.7848123098125177, total=   0.3s\n",
      "[CV] n_estimators=34, subsample=0.6, learning_rate=0.2 ...............\n",
      "[CV]  n_estimators=34, subsample=0.6, learning_rate=0.2, score=0.7711690575950129, total=   0.3s\n",
      "[CV] n_estimators=34, subsample=0.7, learning_rate=0.2 ...............\n",
      "[CV]  n_estimators=34, subsample=0.7, learning_rate=0.2, score=0.783811888972132, total=   0.3s\n",
      "[CV] n_estimators=34, subsample=0.7, learning_rate=0.2 ...............\n",
      "[CV]  n_estimators=34, subsample=0.7, learning_rate=0.2, score=0.7715050593338698, total=   0.4s\n",
      "[CV] n_estimators=34, subsample=0.8, learning_rate=0.2 ...............\n",
      "[CV]  n_estimators=34, subsample=0.8, learning_rate=0.2, score=0.784491638687718, total=   0.4s\n",
      "[CV] n_estimators=34, subsample=0.8, learning_rate=0.2 ...............\n",
      "[CV]  n_estimators=34, subsample=0.8, learning_rate=0.2, score=0.7767442215377784, total=   0.4s\n",
      "[CV] n_estimators=35, subsample=0.6, learning_rate=0.2 ...............\n",
      "[CV]  n_estimators=35, subsample=0.6, learning_rate=0.2, score=0.7827523654929383, total=   0.3s\n",
      "[CV] n_estimators=35, subsample=0.6, learning_rate=0.2 ...............\n",
      "[CV]  n_estimators=35, subsample=0.6, learning_rate=0.2, score=0.7741649324343073, total=   0.3s\n",
      "[CV] n_estimators=35, subsample=0.7, learning_rate=0.2 ...............\n",
      "[CV]  n_estimators=35, subsample=0.7, learning_rate=0.2, score=0.787424433715327, total=   0.3s\n",
      "[CV] n_estimators=35, subsample=0.7, learning_rate=0.2 ...............\n",
      "[CV]  n_estimators=35, subsample=0.7, learning_rate=0.2, score=0.7712035572574155, total=   0.4s\n",
      "[CV] n_estimators=35, subsample=0.8, learning_rate=0.2 ...............\n",
      "[CV]  n_estimators=35, subsample=0.8, learning_rate=0.2, score=0.7836854749946818, total=   0.4s\n",
      "[CV] n_estimators=35, subsample=0.8, learning_rate=0.2 ...............\n",
      "[CV]  n_estimators=35, subsample=0.8, learning_rate=0.2, score=0.775382733520168, total=   0.4s\n",
      "[CV] n_estimators=36, subsample=0.6, learning_rate=0.2 ...............\n",
      "[CV]  n_estimators=36, subsample=0.6, learning_rate=0.2, score=0.7841172526059732, total=   0.3s\n",
      "[CV] n_estimators=36, subsample=0.6, learning_rate=0.2 ...............\n",
      "[CV]  n_estimators=36, subsample=0.6, learning_rate=0.2, score=0.7733435537427046, total=   0.3s\n",
      "[CV] n_estimators=36, subsample=0.7, learning_rate=0.2 ...............\n",
      "[CV]  n_estimators=36, subsample=0.7, learning_rate=0.2, score=0.7853744554510391, total=   0.4s\n",
      "[CV] n_estimators=36, subsample=0.7, learning_rate=0.2 ...............\n",
      "[CV]  n_estimators=36, subsample=0.7, learning_rate=0.2, score=0.7728515173376991, total=   0.4s\n",
      "[CV] n_estimators=36, subsample=0.8, learning_rate=0.2 ...............\n",
      "[CV]  n_estimators=36, subsample=0.8, learning_rate=0.2, score=0.7867044266859051, total=   0.4s\n",
      "[CV] n_estimators=36, subsample=0.8, learning_rate=0.2 ...............\n",
      "[CV]  n_estimators=36, subsample=0.8, learning_rate=0.2, score=0.7756456893920476, total=   0.4s\n",
      "[CV] n_estimators=37, subsample=0.6, learning_rate=0.2 ...............\n",
      "[CV]  n_estimators=37, subsample=0.6, learning_rate=0.2, score=0.7844546186076194, total=   0.3s\n",
      "[CV] n_estimators=37, subsample=0.6, learning_rate=0.2 ...............\n",
      "[CV]  n_estimators=37, subsample=0.6, learning_rate=0.2, score=0.7738830618681614, total=   0.4s\n",
      "[CV] n_estimators=37, subsample=0.7, learning_rate=0.2 ...............\n",
      "[CV]  n_estimators=37, subsample=0.7, learning_rate=0.2, score=0.7811968284358611, total=   0.4s\n",
      "[CV] n_estimators=37, subsample=0.7, learning_rate=0.2 ...............\n",
      "[CV]  n_estimators=37, subsample=0.7, learning_rate=0.2, score=0.7746582868559061, total=   0.4s\n",
      "[CV] n_estimators=37, subsample=0.8, learning_rate=0.2 ...............\n",
      "[CV]  n_estimators=37, subsample=0.8, learning_rate=0.2, score=0.7835263418333842, total=   0.4s\n",
      "[CV] n_estimators=37, subsample=0.8, learning_rate=0.2 ...............\n",
      "[CV]  n_estimators=37, subsample=0.8, learning_rate=0.2, score=0.7742880166856275, total=   0.4s\n",
      "[CV] n_estimators=38, subsample=0.6, learning_rate=0.2 ...............\n",
      "[CV]  n_estimators=38, subsample=0.6, learning_rate=0.2, score=0.7846027220511111, total=   0.4s\n",
      "[CV] n_estimators=38, subsample=0.6, learning_rate=0.2 ...............\n",
      "[CV]  n_estimators=38, subsample=0.6, learning_rate=0.2, score=0.7730675564434825, total=   0.3s\n",
      "[CV] n_estimators=38, subsample=0.7, learning_rate=0.2 ...............\n",
      "[CV]  n_estimators=38, subsample=0.7, learning_rate=0.2, score=0.7850934173164257, total=   0.4s\n",
      "[CV] n_estimators=38, subsample=0.7, learning_rate=0.2 ...............\n",
      "[CV]  n_estimators=38, subsample=0.7, learning_rate=0.2, score=0.7759113506664077, total=   0.4s\n",
      "[CV] n_estimators=38, subsample=0.8, learning_rate=0.2 ...............\n",
      "[CV]  n_estimators=38, subsample=0.8, learning_rate=0.2, score=0.7840848571454999, total=   0.4s\n",
      "[CV] n_estimators=38, subsample=0.8, learning_rate=0.2 ...............\n",
      "[CV]  n_estimators=38, subsample=0.8, learning_rate=0.2, score=0.7765400445813332, total=   0.4s\n",
      "[CV] n_estimators=39, subsample=0.6, learning_rate=0.2 ...............\n",
      "[CV]  n_estimators=39, subsample=0.6, learning_rate=0.2, score=0.7819530924831433, total=   0.3s\n",
      "[CV] n_estimators=39, subsample=0.6, learning_rate=0.2 ...............\n",
      "[CV]  n_estimators=39, subsample=0.6, learning_rate=0.2, score=0.7721650388005586, total=   0.3s\n",
      "[CV] n_estimators=39, subsample=0.7, learning_rate=0.2 ...............\n",
      "[CV]  n_estimators=39, subsample=0.7, learning_rate=0.2, score=0.7800158624453138, total=   0.4s\n",
      "[CV] n_estimators=39, subsample=0.7, learning_rate=0.2 ...............\n",
      "[CV]  n_estimators=39, subsample=0.7, learning_rate=0.2, score=0.7717042879473164, total=   0.4s\n",
      "[CV] n_estimators=39, subsample=0.8, learning_rate=0.2 ...............\n",
      "[CV]  n_estimators=39, subsample=0.8, learning_rate=0.2, score=0.7813560540895511, total=   0.4s\n",
      "[CV] n_estimators=39, subsample=0.8, learning_rate=0.2 ...............\n",
      "[CV]  n_estimators=39, subsample=0.8, learning_rate=0.2, score=0.7729882904631096, total=   0.4s\n"
     ]
    },
    {
     "name": "stderr",
     "output_type": "stream",
     "text": [
      "[Parallel(n_jobs=1)]: Done 240 out of 240 | elapsed:  1.7min finished\n"
     ]
    },
    {
     "data": {
      "text/plain": [
       "GridSearchCV(cv=2, error_score='raise',\n",
       "       estimator=GradientBoostingClassifier(criterion='friedman_mse', init=None,\n",
       "              learning_rate=0.1, loss='deviance', max_depth=8,\n",
       "              max_features='sqrt', max_leaf_nodes=None,\n",
       "              min_impurity_decrease=0.0, min_impurity_split=None,\n",
       "              min_samples_leaf=50, min_samples_split=500,\n",
       "              min_weight_fraction_leaf=0.0, n_estimators=100,\n",
       "              presort='auto', random_state=None, subsample=1.0, verbose=0,\n",
       "              warm_start=False),\n",
       "       fit_params=None, iid=False, n_jobs=1,\n",
       "       param_grid={'n_estimators': range(20, 40), 'subsample': [0.6, 0.7, 0.8], 'learning_rate': [0.1, 0.2]},\n",
       "       pre_dispatch='2*n_jobs', refit=True, return_train_score='warn',\n",
       "       scoring='roc_auc', verbose=3)"
      ]
     },
     "execution_count": 94,
     "metadata": {},
     "output_type": "execute_result"
    }
   ],
   "source": [
    "grid_search_gbm.fit(X_train, y_train)"
   ]
  },
  {
   "cell_type": "code",
   "execution_count": 95,
   "metadata": {},
   "outputs": [
    {
     "data": {
      "text/plain": [
       "{'learning_rate': 0.1, 'n_estimators': 39, 'subsample': 0.7}"
      ]
     },
     "execution_count": 95,
     "metadata": {},
     "output_type": "execute_result"
    }
   ],
   "source": [
    "grid_search_gbm.best_params_"
   ]
  },
  {
   "cell_type": "code",
   "execution_count": 96,
   "metadata": {},
   "outputs": [
    {
     "data": {
      "text/plain": [
       "0.7844204426685906"
      ]
     },
     "execution_count": 96,
     "metadata": {},
     "output_type": "execute_result"
    }
   ],
   "source": [
    "grid_search_gbm.best_score_"
   ]
  },
  {
   "cell_type": "markdown",
   "metadata": {},
   "source": [
    "#### Let's Plot the ROC Curves"
   ]
  },
  {
   "cell_type": "code",
   "execution_count": 97,
   "metadata": {
    "collapsed": true
   },
   "outputs": [],
   "source": [
    "from sklearn.metrics import roc_auc_score\n",
    "from sklearn.metrics import roc_curve"
   ]
  },
  {
   "cell_type": "code",
   "execution_count": 99,
   "metadata": {
    "collapsed": true
   },
   "outputs": [],
   "source": [
    "#ROC of simple models\n",
    "logit_roc_auc = roc_auc_score(y_test, logitmodel.predict(X_test))\n",
    "fpr_log, tpr_log, thresholds = roc_curve(y_test, logitmodel.predict_proba(X_test)[:,1])\n",
    "\n",
    "dtree_roc_auc = roc_auc_score(y_test, dtree_model.predict(X_test))\n",
    "fpr_dtree, tpr_dtree, thresholds = roc_curve(y_test, dtree_model.predict_proba(X_test)[:,1])\n",
    "\n",
    "rf_roc_auc = roc_auc_score(y_test, rforest_model.predict(X_test))\n",
    "fpr_rf, tpr_rf, thresholds = roc_curve(y_test, rforest_model.predict_proba(X_test)[:,1])"
   ]
  },
  {
   "cell_type": "code",
   "execution_count": 101,
   "metadata": {
    "collapsed": true
   },
   "outputs": [],
   "source": [
    "#ROC of Boosted Models\n",
    "\n",
    "baglog_roc_auc = roc_auc_score(y_test, bag_classifier_logit.predict(X_test))\n",
    "fpr_baglog, tpr_baglog, thresholds = roc_curve(y_test, bag_classifier_logit.predict_proba(X_test)[:,1])\n",
    "\n",
    "bagdt_roc_auc = roc_auc_score(y_test, bag_classifier_dtree.predict(X_test))\n",
    "fpr_bagdt, tpr_bagdt, thresholds = roc_curve(y_test, bag_classifier_dtree.predict_proba(X_test)[:,1])\n",
    "\n",
    "adamodel_roc_auc = roc_auc_score(y_test, ada_model.predict(X_test))\n",
    "fpr_ada, tpr_ada, thresholds = roc_curve(y_test, ada_model.predict_proba(X_test)[:,1])\n",
    "\n",
    "ada_log_roc_auc = roc_auc_score(y_test, ada_model_logit.predict(X_test))\n",
    "fpr_adalog, tpr_adalog, thresholds = roc_curve(y_test, ada_model_logit.predict_proba(X_test)[:,1])\n",
    "\n",
    "adadt_roc_auc = roc_auc_score(y_test, ada_model_dtree.predict(X_test))\n",
    "fpr_adadt, tpr_adadt, thresholds = roc_curve(y_test, ada_model_dtree.predict_proba(X_test)[:,1])\n",
    "\n",
    "gbm_roc_auc = roc_auc_score(y_test, gbm_model.predict(X_test))\n",
    "fpr_gbm, tpr_gbm, thresholds = roc_curve(y_test, gbm_model.predict_proba(X_test)[:,1])"
   ]
  },
  {
   "cell_type": "code",
   "execution_count": 106,
   "metadata": {},
   "outputs": [
    {
     "data": {
      "image/png": "[encoded data removed]",
      "text/plain": [
       "<Figure size 720x504 with 1 Axes>"
      ]
     },
     "metadata": {},
     "output_type": "display_data"
    }
   ],
   "source": [
    "plt.figure(figsize=(10,7))\n",
    "plt.plot(fpr_log, tpr_log, label='Logistic Classifier (area = %0.2f)' % logit_roc_auc)\n",
    "plt.plot(fpr_dtree, tpr_dtree, label='Decision Tree Classifier (area = %0.2f)' % dtree_roc_auc)\n",
    "plt.plot(fpr_rf, tpr_rf, label='Random Forest Classifier (area = %0.2f)' % rf_roc_auc)\n",
    "plt.plot(fpr_baglog, tpr_baglog, label='Bagged Logit Classifier (area = %0.2f)' % baglog_roc_auc)\n",
    "plt.plot(fpr_bagdt, tpr_bagdt, label='Bagged DT Classifier (area = %0.2f)' % bagdt_roc_auc)\n",
    "plt.plot(fpr_ada, tpr_ada, label='AdaBoost Model (area = %0.2f)' % adamodel_roc_auc)\n",
    "plt.plot(fpr_adalog, tpr_adalog, label='AdaBoost Logit Classifier (area = %0.2f)' % ada_log_roc_auc)\n",
    "plt.plot(fpr_adadt, tpr_adadt, label='Bagged DT Classifier (area = %0.2f)' % adadt_roc_auc)\n",
    "plt.plot(fpr_gbm, tpr_gbm, label='Gradient Boosting Machine Classifier (area = %0.2f)' % gbm_roc_auc)\n",
    "plt.plot([0, 1], [0, 1],'r--')\n",
    "plt.xlim([0.0, 1.0])\n",
    "plt.ylim([0.0, 1.05])\n",
    "plt.xlabel('False Positive Rate')\n",
    "plt.ylabel('True Positive Rate')\n",
    "plt.title('Receiver operating characteristic')\n",
    "plt.legend(loc=\"lower right\")\n",
    "plt.savefig('ROC')\n",
    "plt.show()"
   ]
  },
  {
   "cell_type": "markdown",
   "metadata": {
    "collapsed": true
   },
   "source": [
    "Remarks:\n",
    "\n",
    "* Ensemble models typically tend to have high accuracy on training dataset (unless the data is very noisy). The results and operational aspect from ensembles are difficult to interpret intuitively, but tree methods like RF do classify remarkably well on many diverse datasets. \n",
    "\n",
    "\n",
    "* In this case, none of the 9 the models have a high accuracy rate as per the ROC AUC. What are the reasons for this and how do we improve model performance? \n",
    "\n",
    "1> We did not perform feature scaling which affects model accuracy since most of them work on euclidean distances. \n",
    "\n",
    "2> The model performs better when it's trained on proportionally split train/test datasets. \n",
    "\n",
    "3> I'll leave you to guess additional tweaks we can make to improve model performance. (Hint: let's go back to basics and think simpler models.) \n",
    "\n",
    "Let us do these and more in a new post. \n"
   ]
  },
  {
   "cell_type": "code",
   "execution_count": null,
   "metadata": {
    "collapsed": true
   },
   "outputs": [],
   "source": []
  }
 ],
 "metadata": {
  "kernelspec": {
   "display_name": "Python 3",
   "language": "python",
   "name": "python3"
  },
  "language_info": {
   "codemirror_mode": {
    "name": "ipython",
    "version": 3
   },
   "file_extension": ".py",
   "mimetype": "text/x-python",
   "name": "python",
   "nbconvert_exporter": "python",
   "pygments_lexer": "ipython3",
   "version": "3.5.5"
  },
  "varInspector": {
   "cols": {
    "lenName": 16,
    "lenType": 16,
    "lenVar": "60"
   },
   "kernels_config": {
    "python": {
     "delete_cmd_postfix": "",
     "delete_cmd_prefix": "del ",
     "library": "var_list.py",
     "varRefreshCmd": "print(var_dic_list())"
    },
    "r": {
     "delete_cmd_postfix": ") ",
     "delete_cmd_prefix": "rm(",
     "library": "var_list.r",
     "varRefreshCmd": "cat(var_dic_list()) "
    }
   },
   "types_to_exclude": [
    "module",
    "function",
    "builtin_function_or_method",
    "instance",
    "_Feature"
   ],
   "window_display": true
  }
 },
 "nbformat": 4,
 "nbformat_minor": 2
}
