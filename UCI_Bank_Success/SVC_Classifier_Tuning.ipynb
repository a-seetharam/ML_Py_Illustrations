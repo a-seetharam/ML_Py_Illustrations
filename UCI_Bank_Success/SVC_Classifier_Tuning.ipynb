{
 "cells": [
  {
   "cell_type": "markdown",
   "metadata": {
    "collapsed": true
   },
   "source": [
    "## Tuning Hyperparamters using GridSearch: An Illustration with SVC"
   ]
  },
  {
   "cell_type": "markdown",
   "metadata": {},
   "source": [
    "The Support Vector Machine (SVM) algorithm is a powerful technique that's well-suited to model a number of small to medium sized datasets which have many features, including non-linear features. The SVM algorithm can be used as a regressor and as a classifier, depending on the modeling task at hand. In this case we will use the support vector classifer (SVC) from scikit-learn libraries.   \n",
    "\n",
    "The SVM algorithm transforms data using separating hyperplanes for finding (\"grouping\") fairly homogenous classes. At the risk of oversimplification, the SVM algorithm can be thought of as a combination of incorporating the learning style of knn method, and linear (and polynomial) regression based methods. This resulting algorithm, along with kernel-based transformations, can model highly complex relationships between datapoints. SVMs have traditionally been used for binary classfication tasks, but they just as easily be used for regression and multi-class classification. \n",
    "\n",
    "Here's is a very good background note on support vector machines: https://monkeylearn.com/blog/introduction-to-support-vector-machines-svm/\n",
    "\n",
    "###### This post is grouped with other files in the UCI Bank Success dataset.\n"
   ]
  },
  {
   "cell_type": "code",
   "execution_count": 1,
   "metadata": {
    "collapsed": true
   },
   "outputs": [],
   "source": [
    "#Import the most commonly used libraries\n",
    "\n",
    "import numpy as np\n",
    "import pandas as pd\n",
    "import matplotlib.pyplot as plt\n",
    "import seaborn as sns\n",
    "%matplotlib inline"
   ]
  },
  {
   "cell_type": "code",
   "execution_count": 2,
   "metadata": {},
   "outputs": [
    {
     "data": {
      "text/html": [
       "<div>\n",
       "<style>\n",
       "    .dataframe thead tr:only-child th {\n",
       "        text-align: right;\n",
       "    }\n",
       "\n",
       "    .dataframe thead th {\n",
       "        text-align: left;\n",
       "    }\n",
       "\n",
       "    .dataframe tbody tr th {\n",
       "        vertical-align: top;\n",
       "    }\n",
       "</style>\n",
       "<table border=\"1\" class=\"dataframe\">\n",
       "  <thead>\n",
       "    <tr style=\"text-align: right;\">\n",
       "      <th></th>\n",
       "      <th>0</th>\n",
       "      <th>1</th>\n",
       "      <th>2</th>\n",
       "      <th>3</th>\n",
       "      <th>4</th>\n",
       "    </tr>\n",
       "  </thead>\n",
       "  <tbody>\n",
       "    <tr>\n",
       "      <th>age</th>\n",
       "      <td>56</td>\n",
       "      <td>57</td>\n",
       "      <td>37</td>\n",
       "      <td>40</td>\n",
       "      <td>56</td>\n",
       "    </tr>\n",
       "    <tr>\n",
       "      <th>job</th>\n",
       "      <td>housemaid</td>\n",
       "      <td>services</td>\n",
       "      <td>services</td>\n",
       "      <td>admin.</td>\n",
       "      <td>services</td>\n",
       "    </tr>\n",
       "    <tr>\n",
       "      <th>marital</th>\n",
       "      <td>married</td>\n",
       "      <td>married</td>\n",
       "      <td>married</td>\n",
       "      <td>married</td>\n",
       "      <td>married</td>\n",
       "    </tr>\n",
       "    <tr>\n",
       "      <th>education</th>\n",
       "      <td>basic.4y</td>\n",
       "      <td>high.school</td>\n",
       "      <td>high.school</td>\n",
       "      <td>basic.6y</td>\n",
       "      <td>high.school</td>\n",
       "    </tr>\n",
       "    <tr>\n",
       "      <th>default</th>\n",
       "      <td>no</td>\n",
       "      <td>unknown</td>\n",
       "      <td>no</td>\n",
       "      <td>no</td>\n",
       "      <td>no</td>\n",
       "    </tr>\n",
       "    <tr>\n",
       "      <th>housing</th>\n",
       "      <td>no</td>\n",
       "      <td>no</td>\n",
       "      <td>yes</td>\n",
       "      <td>no</td>\n",
       "      <td>no</td>\n",
       "    </tr>\n",
       "    <tr>\n",
       "      <th>loan</th>\n",
       "      <td>no</td>\n",
       "      <td>no</td>\n",
       "      <td>no</td>\n",
       "      <td>no</td>\n",
       "      <td>yes</td>\n",
       "    </tr>\n",
       "    <tr>\n",
       "      <th>contact</th>\n",
       "      <td>telephone</td>\n",
       "      <td>telephone</td>\n",
       "      <td>telephone</td>\n",
       "      <td>telephone</td>\n",
       "      <td>telephone</td>\n",
       "    </tr>\n",
       "    <tr>\n",
       "      <th>month</th>\n",
       "      <td>may</td>\n",
       "      <td>may</td>\n",
       "      <td>may</td>\n",
       "      <td>may</td>\n",
       "      <td>may</td>\n",
       "    </tr>\n",
       "    <tr>\n",
       "      <th>weekday</th>\n",
       "      <td>mon</td>\n",
       "      <td>mon</td>\n",
       "      <td>mon</td>\n",
       "      <td>mon</td>\n",
       "      <td>mon</td>\n",
       "    </tr>\n",
       "    <tr>\n",
       "      <th>duration</th>\n",
       "      <td>261</td>\n",
       "      <td>149</td>\n",
       "      <td>226</td>\n",
       "      <td>151</td>\n",
       "      <td>307</td>\n",
       "    </tr>\n",
       "    <tr>\n",
       "      <th>campaign</th>\n",
       "      <td>1</td>\n",
       "      <td>1</td>\n",
       "      <td>1</td>\n",
       "      <td>1</td>\n",
       "      <td>1</td>\n",
       "    </tr>\n",
       "    <tr>\n",
       "      <th>p_days</th>\n",
       "      <td>999</td>\n",
       "      <td>999</td>\n",
       "      <td>999</td>\n",
       "      <td>999</td>\n",
       "      <td>999</td>\n",
       "    </tr>\n",
       "    <tr>\n",
       "      <th>Previous</th>\n",
       "      <td>0</td>\n",
       "      <td>0</td>\n",
       "      <td>0</td>\n",
       "      <td>0</td>\n",
       "      <td>0</td>\n",
       "    </tr>\n",
       "    <tr>\n",
       "      <th>poutcome</th>\n",
       "      <td>nonexistent</td>\n",
       "      <td>nonexistent</td>\n",
       "      <td>nonexistent</td>\n",
       "      <td>nonexistent</td>\n",
       "      <td>nonexistent</td>\n",
       "    </tr>\n",
       "    <tr>\n",
       "      <th>emp_var_rate</th>\n",
       "      <td>1.1</td>\n",
       "      <td>1.1</td>\n",
       "      <td>1.1</td>\n",
       "      <td>1.1</td>\n",
       "      <td>1.1</td>\n",
       "    </tr>\n",
       "    <tr>\n",
       "      <th>cpi</th>\n",
       "      <td>93.994</td>\n",
       "      <td>93.994</td>\n",
       "      <td>93.994</td>\n",
       "      <td>93.994</td>\n",
       "      <td>93.994</td>\n",
       "    </tr>\n",
       "    <tr>\n",
       "      <th>cci</th>\n",
       "      <td>-36.4</td>\n",
       "      <td>-36.4</td>\n",
       "      <td>-36.4</td>\n",
       "      <td>-36.4</td>\n",
       "      <td>-36.4</td>\n",
       "    </tr>\n",
       "    <tr>\n",
       "      <th>euribor3m</th>\n",
       "      <td>4.857</td>\n",
       "      <td>4.857</td>\n",
       "      <td>4.857</td>\n",
       "      <td>4.857</td>\n",
       "      <td>4.857</td>\n",
       "    </tr>\n",
       "    <tr>\n",
       "      <th>no_emp</th>\n",
       "      <td>5191</td>\n",
       "      <td>5191</td>\n",
       "      <td>5191</td>\n",
       "      <td>5191</td>\n",
       "      <td>5191</td>\n",
       "    </tr>\n",
       "    <tr>\n",
       "      <th>yes_no</th>\n",
       "      <td>0</td>\n",
       "      <td>0</td>\n",
       "      <td>0</td>\n",
       "      <td>0</td>\n",
       "      <td>0</td>\n",
       "    </tr>\n",
       "  </tbody>\n",
       "</table>\n",
       "</div>"
      ],
      "text/plain": [
       "                        0            1            2            3            4\n",
       "age                    56           57           37           40           56\n",
       "job             housemaid     services     services       admin.     services\n",
       "marital           married      married      married      married      married\n",
       "education        basic.4y  high.school  high.school     basic.6y  high.school\n",
       "default                no      unknown           no           no           no\n",
       "housing                no           no          yes           no           no\n",
       "loan                   no           no           no           no          yes\n",
       "contact         telephone    telephone    telephone    telephone    telephone\n",
       "month                 may          may          may          may          may\n",
       "weekday               mon          mon          mon          mon          mon\n",
       "duration              261          149          226          151          307\n",
       "campaign                1            1            1            1            1\n",
       "p_days                999          999          999          999          999\n",
       "Previous                0            0            0            0            0\n",
       "poutcome      nonexistent  nonexistent  nonexistent  nonexistent  nonexistent\n",
       "emp_var_rate          1.1          1.1          1.1          1.1          1.1\n",
       "cpi                93.994       93.994       93.994       93.994       93.994\n",
       "cci                 -36.4        -36.4        -36.4        -36.4        -36.4\n",
       "euribor3m           4.857        4.857        4.857        4.857        4.857\n",
       "no_emp               5191         5191         5191         5191         5191\n",
       "yes_no                  0            0            0            0            0"
      ]
     },
     "execution_count": 2,
     "metadata": {},
     "output_type": "execute_result"
    }
   ],
   "source": [
    "df = pd.read_csv('bank_data.csv')\n",
    "df.head().T"
   ]
  },
  {
   "cell_type": "code",
   "execution_count": 3,
   "metadata": {},
   "outputs": [
    {
     "name": "stdout",
     "output_type": "stream",
     "text": [
      "<class 'pandas.core.frame.DataFrame'>\n",
      "RangeIndex: 41188 entries, 0 to 41187\n",
      "Data columns (total 21 columns):\n",
      "age             41188 non-null int64\n",
      "job             41188 non-null object\n",
      "marital         41188 non-null object\n",
      "education       41188 non-null object\n",
      "default         41188 non-null object\n",
      "housing         41188 non-null object\n",
      "loan            41188 non-null object\n",
      "contact         41188 non-null object\n",
      "month           41188 non-null object\n",
      "weekday         41188 non-null object\n",
      "duration        41188 non-null int64\n",
      "campaign        41188 non-null int64\n",
      "p_days          41188 non-null int64\n",
      "Previous        41188 non-null int64\n",
      "poutcome        41188 non-null object\n",
      "emp_var_rate    41188 non-null float64\n",
      "cpi             41188 non-null float64\n",
      "cci             41188 non-null float64\n",
      "euribor3m       41188 non-null float64\n",
      "no_emp          41188 non-null float64\n",
      "yes_no          41188 non-null int64\n",
      "dtypes: float64(5), int64(6), object(10)\n",
      "memory usage: 6.6+ MB\n"
     ]
    }
   ],
   "source": [
    "#Check datatype in the DF\n",
    "df.info()"
   ]
  },
  {
   "cell_type": "code",
   "execution_count": 4,
   "metadata": {},
   "outputs": [
    {
     "data": {
      "text/html": [
       "<div>\n",
       "<style>\n",
       "    .dataframe thead tr:only-child th {\n",
       "        text-align: right;\n",
       "    }\n",
       "\n",
       "    .dataframe thead th {\n",
       "        text-align: left;\n",
       "    }\n",
       "\n",
       "    .dataframe tbody tr th {\n",
       "        vertical-align: top;\n",
       "    }\n",
       "</style>\n",
       "<table border=\"1\" class=\"dataframe\">\n",
       "  <thead>\n",
       "    <tr style=\"text-align: right;\">\n",
       "      <th></th>\n",
       "      <th>count</th>\n",
       "      <th>mean</th>\n",
       "      <th>std</th>\n",
       "      <th>min</th>\n",
       "      <th>25%</th>\n",
       "      <th>50%</th>\n",
       "      <th>75%</th>\n",
       "      <th>max</th>\n",
       "    </tr>\n",
       "  </thead>\n",
       "  <tbody>\n",
       "    <tr>\n",
       "      <th>age</th>\n",
       "      <td>41188.0</td>\n",
       "      <td>40.024060</td>\n",
       "      <td>10.421250</td>\n",
       "      <td>17.000</td>\n",
       "      <td>32.000</td>\n",
       "      <td>38.000</td>\n",
       "      <td>47.000</td>\n",
       "      <td>98.000</td>\n",
       "    </tr>\n",
       "    <tr>\n",
       "      <th>duration</th>\n",
       "      <td>41188.0</td>\n",
       "      <td>258.285010</td>\n",
       "      <td>259.279249</td>\n",
       "      <td>0.000</td>\n",
       "      <td>102.000</td>\n",
       "      <td>180.000</td>\n",
       "      <td>319.000</td>\n",
       "      <td>4918.000</td>\n",
       "    </tr>\n",
       "    <tr>\n",
       "      <th>campaign</th>\n",
       "      <td>41188.0</td>\n",
       "      <td>2.567593</td>\n",
       "      <td>2.770014</td>\n",
       "      <td>1.000</td>\n",
       "      <td>1.000</td>\n",
       "      <td>2.000</td>\n",
       "      <td>3.000</td>\n",
       "      <td>56.000</td>\n",
       "    </tr>\n",
       "    <tr>\n",
       "      <th>p_days</th>\n",
       "      <td>41188.0</td>\n",
       "      <td>962.475454</td>\n",
       "      <td>186.910907</td>\n",
       "      <td>0.000</td>\n",
       "      <td>999.000</td>\n",
       "      <td>999.000</td>\n",
       "      <td>999.000</td>\n",
       "      <td>999.000</td>\n",
       "    </tr>\n",
       "    <tr>\n",
       "      <th>Previous</th>\n",
       "      <td>41188.0</td>\n",
       "      <td>0.172963</td>\n",
       "      <td>0.494901</td>\n",
       "      <td>0.000</td>\n",
       "      <td>0.000</td>\n",
       "      <td>0.000</td>\n",
       "      <td>0.000</td>\n",
       "      <td>7.000</td>\n",
       "    </tr>\n",
       "    <tr>\n",
       "      <th>emp_var_rate</th>\n",
       "      <td>41188.0</td>\n",
       "      <td>0.081886</td>\n",
       "      <td>1.570960</td>\n",
       "      <td>-3.400</td>\n",
       "      <td>-1.800</td>\n",
       "      <td>1.100</td>\n",
       "      <td>1.400</td>\n",
       "      <td>1.400</td>\n",
       "    </tr>\n",
       "    <tr>\n",
       "      <th>cpi</th>\n",
       "      <td>41188.0</td>\n",
       "      <td>93.575664</td>\n",
       "      <td>0.578840</td>\n",
       "      <td>92.201</td>\n",
       "      <td>93.075</td>\n",
       "      <td>93.749</td>\n",
       "      <td>93.994</td>\n",
       "      <td>94.767</td>\n",
       "    </tr>\n",
       "    <tr>\n",
       "      <th>cci</th>\n",
       "      <td>41188.0</td>\n",
       "      <td>-40.502600</td>\n",
       "      <td>4.628198</td>\n",
       "      <td>-50.800</td>\n",
       "      <td>-42.700</td>\n",
       "      <td>-41.800</td>\n",
       "      <td>-36.400</td>\n",
       "      <td>-26.900</td>\n",
       "    </tr>\n",
       "    <tr>\n",
       "      <th>euribor3m</th>\n",
       "      <td>41188.0</td>\n",
       "      <td>3.621291</td>\n",
       "      <td>1.734447</td>\n",
       "      <td>0.634</td>\n",
       "      <td>1.344</td>\n",
       "      <td>4.857</td>\n",
       "      <td>4.961</td>\n",
       "      <td>5.045</td>\n",
       "    </tr>\n",
       "    <tr>\n",
       "      <th>no_emp</th>\n",
       "      <td>41188.0</td>\n",
       "      <td>5167.035911</td>\n",
       "      <td>72.251528</td>\n",
       "      <td>4963.600</td>\n",
       "      <td>5099.100</td>\n",
       "      <td>5191.000</td>\n",
       "      <td>5228.100</td>\n",
       "      <td>5228.100</td>\n",
       "    </tr>\n",
       "    <tr>\n",
       "      <th>yes_no</th>\n",
       "      <td>41188.0</td>\n",
       "      <td>0.112654</td>\n",
       "      <td>0.316173</td>\n",
       "      <td>0.000</td>\n",
       "      <td>0.000</td>\n",
       "      <td>0.000</td>\n",
       "      <td>0.000</td>\n",
       "      <td>1.000</td>\n",
       "    </tr>\n",
       "  </tbody>\n",
       "</table>\n",
       "</div>"
      ],
      "text/plain": [
       "                count         mean         std       min       25%       50%  \\\n",
       "age           41188.0    40.024060   10.421250    17.000    32.000    38.000   \n",
       "duration      41188.0   258.285010  259.279249     0.000   102.000   180.000   \n",
       "campaign      41188.0     2.567593    2.770014     1.000     1.000     2.000   \n",
       "p_days        41188.0   962.475454  186.910907     0.000   999.000   999.000   \n",
       "Previous      41188.0     0.172963    0.494901     0.000     0.000     0.000   \n",
       "emp_var_rate  41188.0     0.081886    1.570960    -3.400    -1.800     1.100   \n",
       "cpi           41188.0    93.575664    0.578840    92.201    93.075    93.749   \n",
       "cci           41188.0   -40.502600    4.628198   -50.800   -42.700   -41.800   \n",
       "euribor3m     41188.0     3.621291    1.734447     0.634     1.344     4.857   \n",
       "no_emp        41188.0  5167.035911   72.251528  4963.600  5099.100  5191.000   \n",
       "yes_no        41188.0     0.112654    0.316173     0.000     0.000     0.000   \n",
       "\n",
       "                   75%       max  \n",
       "age             47.000    98.000  \n",
       "duration       319.000  4918.000  \n",
       "campaign         3.000    56.000  \n",
       "p_days         999.000   999.000  \n",
       "Previous         0.000     7.000  \n",
       "emp_var_rate     1.400     1.400  \n",
       "cpi             93.994    94.767  \n",
       "cci            -36.400   -26.900  \n",
       "euribor3m        4.961     5.045  \n",
       "no_emp        5228.100  5228.100  \n",
       "yes_no           0.000     1.000  "
      ]
     },
     "execution_count": 4,
     "metadata": {},
     "output_type": "execute_result"
    }
   ],
   "source": [
    "#quick check for unusual values in numerical features\n",
    "df.describe().T"
   ]
  },
  {
   "cell_type": "code",
   "execution_count": 5,
   "metadata": {
    "collapsed": true
   },
   "outputs": [],
   "source": [
    "#extracting column names for prccessing categorical features\n",
    "bank_feats = df.columns.values.tolist()"
   ]
  },
  {
   "cell_type": "code",
   "execution_count": 6,
   "metadata": {
    "collapsed": true
   },
   "outputs": [],
   "source": [
    "#Separating the dependent and independent variables \n",
    "\n",
    "X = df.iloc[:, :-1]\n",
    "y = df.iloc[:, -1:]"
   ]
  },
  {
   "cell_type": "code",
   "execution_count": 7,
   "metadata": {},
   "outputs": [
    {
     "data": {
      "text/plain": [
       "(41188, 20)"
      ]
     },
     "execution_count": 7,
     "metadata": {},
     "output_type": "execute_result"
    }
   ],
   "source": [
    "#check for df shape\n",
    "X.shape"
   ]
  },
  {
   "cell_type": "code",
   "execution_count": 8,
   "metadata": {
    "collapsed": true
   },
   "outputs": [],
   "source": [
    "#extract labels from the categorical features\n",
    "\n",
    "marital_labels = np.unique(X[\"marital\"])\n",
    "job_labels = np.unique(X[\"job\"])\n",
    "edu_labels = np.unique(X[\"education\"])\n",
    "default_labels = np.unique(X['default'])\n",
    "housing_labels = np.unique(X['housing'])\n",
    "loan_labels = np.unique(X['loan'])\n",
    "contact_labels = np.unique(X['contact'])\n",
    "month_labels = np.unique(X['month'])\n",
    "wk_labels = np.unique(X[\"weekday\"])\n",
    "campaign_labels = np.unique(X['campaign'])\n",
    "poutcome_labels = np.unique(X['poutcome'])"
   ]
  },
  {
   "cell_type": "code",
   "execution_count": 9,
   "metadata": {
    "collapsed": true
   },
   "outputs": [],
   "source": [
    "#initiate functions from the label encoding libraries\n",
    "from sklearn.preprocessing import OneHotEncoder, LabelEncoder\n",
    "labelencoder_X = LabelEncoder()\n",
    "onehotencoder = OneHotEncoder(categorical_features=[0])"
   ]
  },
  {
   "cell_type": "code",
   "execution_count": 10,
   "metadata": {
    "collapsed": true
   },
   "outputs": [],
   "source": [
    "#Label encoding for categorical variables\n",
    "\n",
    "mar = pd.DataFrame(labelencoder_X.fit_transform(X[\"marital\"]))\n",
    "job = pd.DataFrame(labelencoder_X.fit_transform(X[\"job\"]))\n",
    "edu = pd.DataFrame(labelencoder_X.fit_transform(X[\"education\"]))\n",
    "dfl = pd.DataFrame(labelencoder_X.fit_transform(X[\"default\"]))\n",
    "hou = pd.DataFrame(labelencoder_X.fit_transform(X[\"housing\"]))\n",
    "lon = pd.DataFrame(labelencoder_X.fit_transform(X[\"loan\"]))\n",
    "con = pd.DataFrame(labelencoder_X.fit_transform(X[\"contact\"]))\n",
    "mon = pd.DataFrame(labelencoder_X.fit_transform(X[\"month\"]))\n",
    "wkd = pd.DataFrame(labelencoder_X.fit_transform(X[\"weekday\"]))\n",
    "cam = pd.DataFrame(labelencoder_X.fit_transform(X[\"campaign\"]))\n",
    "pot = pd.DataFrame(labelencoder_X.fit_transform(X[\"poutcome\"]))"
   ]
  },
  {
   "cell_type": "code",
   "execution_count": 11,
   "metadata": {
    "collapsed": true
   },
   "outputs": [],
   "source": [
    "#Create new temporary dfs for onehotencoding categorical features\n",
    "\n",
    "mar = pd.DataFrame(onehotencoder.fit_transform(mar).toarray())\n",
    "mar.columns = marital_labels\n",
    "\n",
    "job = pd.DataFrame(onehotencoder.fit_transform(job).toarray())\n",
    "job.columns = job_labels\n",
    "\n",
    "edu = pd.DataFrame(onehotencoder.fit_transform(edu).toarray())\n",
    "edu.columns = edu_labels\n",
    "\n",
    "dfl =  pd.DataFrame(onehotencoder.fit_transform(dfl).toarray())\n",
    "dfl.columns = default_labels\n",
    "\n",
    "hou = pd.DataFrame(onehotencoder.fit_transform(hou).toarray())\n",
    "hou.columns = housing_labels\n",
    "\n",
    "lon =  pd.DataFrame(onehotencoder.fit_transform(lon).toarray())\n",
    "lon.columns = loan_labels\n",
    "\n",
    "con =  pd.DataFrame(onehotencoder.fit_transform(con).toarray())\n",
    "con.columns = contact_labels\n",
    "\n",
    "mon = pd.DataFrame(onehotencoder.fit_transform(mon).toarray())\n",
    "mon.columns = month_labels\n",
    "\n",
    "wkd = pd.DataFrame(onehotencoder.fit_transform(wkd).toarray())\n",
    "wkd.columns = wk_labels\n",
    "\n",
    "cam = pd.DataFrame(onehotencoder.fit_transform(cam).toarray())\n",
    "cam.columns = campaign_labels\n",
    "\n",
    "pot = pd.DataFrame(onehotencoder.fit_transform(pot).toarray())\n",
    "pot.columns = poutcome_labels"
   ]
  },
  {
   "cell_type": "code",
   "execution_count": 12,
   "metadata": {
    "collapsed": true
   },
   "outputs": [],
   "source": [
    "#Drop and concatinate with new tables\n",
    "\n",
    "X.drop([\"job\", \"marital\", \"education\", \"default\", \"housing\", \"loan\", \"contact\", \"month\", \"weekday\", \"campaign\", \"poutcome\"], \n",
    "      axis=1, inplace=True)"
   ]
  },
  {
   "cell_type": "code",
   "execution_count": 13,
   "metadata": {
    "collapsed": true
   },
   "outputs": [],
   "source": [
    "cat_table1 = pd.DataFrame(pd.concat((mar, job, edu, dfl, hou, lon, con, mon, wkd, cam, pot), axis=1))"
   ]
  },
  {
   "cell_type": "code",
   "execution_count": 14,
   "metadata": {
    "collapsed": true
   },
   "outputs": [],
   "source": [
    "X = pd.DataFrame(pd.concat((X, cat_table1), axis=1))"
   ]
  },
  {
   "cell_type": "code",
   "execution_count": 15,
   "metadata": {},
   "outputs": [
    {
     "data": {
      "text/plain": [
       "(41188, 104)"
      ]
     },
     "execution_count": 15,
     "metadata": {},
     "output_type": "execute_result"
    }
   ],
   "source": [
    "X.shape"
   ]
  },
  {
   "cell_type": "code",
   "execution_count": 16,
   "metadata": {
    "collapsed": true
   },
   "outputs": [],
   "source": [
    "#split the dataset for training and test subsets\n",
    "from sklearn.model_selection import train_test_split\n",
    "X_train, X_test, y_train, y_test = train_test_split(X, y, test_size = 0.2)"
   ]
  },
  {
   "cell_type": "code",
   "execution_count": 17,
   "metadata": {
    "collapsed": true
   },
   "outputs": [],
   "source": [
    "#Scale the features for more accurate models and to conserve computational resources. \n",
    "#SVM models work best when features are scaled.\n",
    "\n",
    "from sklearn.preprocessing import StandardScaler\n",
    "sc = StandardScaler()\n",
    "X_train = sc.fit_transform(X_train)\n",
    "X_test = sc.transform(X_test)"
   ]
  },
  {
   "cell_type": "code",
   "execution_count": 18,
   "metadata": {},
   "outputs": [
    {
     "data": {
      "text/plain": [
       "(32950, 1)"
      ]
     },
     "execution_count": 18,
     "metadata": {},
     "output_type": "execute_result"
    }
   ],
   "source": [
    "# reshape y variables into an (ndim) array which is required for certain classifiers like the support vector machines suite\n",
    "y_train = y_train.values             #convert to numpy array\n",
    "r, c = y_train.shape           #extract shape\n",
    "y = y_train.reshape(r,)        #reshape\n",
    "y_train.shape"
   ]
  },
  {
   "cell_type": "markdown",
   "metadata": {},
   "source": [
    "For building the SVC classifier, we have almost no idea about how an SVM method will perform on this dataset, so let's start with the base configuration and work our way into it. \n",
    "\n",
    "We'll start with the base hyperparameters, except we'll set the kernal='sigmoid' as it results in faster model fit. The other important hyperparamters are:\n",
    "\n",
    "* Regularization term, 'C': the default value is 1.0, which is a reasonable starting point. Higher values of C tends to better fit the training set but may cause higher variance on the test set. Lower value of C can result in smoother decision surfaces along dimensions, but a higher value tends to improve accuracy on the training set by decreasing bias. In other words, a higher C value increases accuracy at the cost of robustness. \n",
    "\n",
    "\n",
    "* Kernel type, 'kernel': the SVM has support for fiting both linear and non-linear models and the kernels that support them too. Given the high number of features in this dataset, the rbf kernal, which is also the default, would be a good starting point. Specifying the kernel type informs our transformations (\"kernel tricks\") to capture closely related feature variables, and draw-up new decision boundaries; however, due to the complex mathematical operations involved using a more complex kernel can result in longer runtimes and the need for higher computational resources.\n",
    "\n",
    "\n",
    "* RBF kernel's sensitivity hyperparameter, 'gamma': Given how the SVM model works to find an optimal separating hyperplane, it seeks out datapoints that can act as it's \"support vectors\" (markers). The Gaussian Radial Basis Function (RBF) is one such kernel to transform the data to locate optimal support vectors to separate decision boundaries among classes. Gamma sets the sphere of influence if each training instance, the lower it is the larger the influence of each instance in the training set, and vice versa. Lower gamma tends to better fit the training data, and setting a higher value improves regularization when the model overfits training data. "
   ]
  },
  {
   "cell_type": "code",
   "execution_count": 19,
   "metadata": {
    "collapsed": true
   },
   "outputs": [],
   "source": [
    "from sklearn.svm import SVC\n",
    "svc_model = SVC(kernel = 'sigmoid', C=1.0)"
   ]
  },
  {
   "cell_type": "code",
   "execution_count": 20,
   "metadata": {},
   "outputs": [
    {
     "name": "stderr",
     "output_type": "stream",
     "text": [
      "D:\\Anaconda3\\lib\\site-packages\\sklearn\\utils\\validation.py:578: DataConversionWarning: A column-vector y was passed when a 1d array was expected. Please change the shape of y to (n_samples, ), for example using ravel().\n",
      "  y = column_or_1d(y, warn=True)\n"
     ]
    },
    {
     "name": "stdout",
     "output_type": "stream",
     "text": [
      "Wall time: 48.8 s\n"
     ]
    },
    {
     "data": {
      "text/plain": [
       "SVC(C=1.0, cache_size=200, class_weight=None, coef0=0.0,\n",
       "  decision_function_shape='ovr', degree=3, gamma='auto', kernel='sigmoid',\n",
       "  max_iter=-1, probability=False, random_state=None, shrinking=True,\n",
       "  tol=0.001, verbose=False)"
      ]
     },
     "execution_count": 20,
     "metadata": {},
     "output_type": "execute_result"
    }
   ],
   "source": [
    "%%time\n",
    "svc_model.fit(X_train, y_train)"
   ]
  },
  {
   "cell_type": "code",
   "execution_count": 21,
   "metadata": {
    "collapsed": true
   },
   "outputs": [],
   "source": [
    "y_preds = svc_model.predict(X_test)"
   ]
  },
  {
   "cell_type": "code",
   "execution_count": 22,
   "metadata": {
    "collapsed": true
   },
   "outputs": [],
   "source": [
    "#Let's examine the performance of the model\n",
    "from sklearn.metrics import classification_report, confusion_matrix"
   ]
  },
  {
   "cell_type": "code",
   "execution_count": 23,
   "metadata": {},
   "outputs": [
    {
     "name": "stdout",
     "output_type": "stream",
     "text": [
      "             precision    recall  f1-score   support\n",
      "\n",
      "          0       0.92      0.95      0.94      7276\n",
      "          1       0.51      0.37      0.43       962\n",
      "\n",
      "avg / total       0.87      0.89      0.88      8238\n",
      "\n",
      "[[6931  345]\n",
      " [ 602  360]]\n"
     ]
    }
   ],
   "source": [
    "print(classification_report(y_test, y_preds))\n",
    "print(confusion_matrix(y_test, y_preds))"
   ]
  },
  {
   "cell_type": "code",
   "execution_count": 24,
   "metadata": {
    "collapsed": true
   },
   "outputs": [],
   "source": [
    "svc_cm = confusion_matrix(y_preds, y_test, [1,0])"
   ]
  },
  {
   "cell_type": "code",
   "execution_count": 25,
   "metadata": {},
   "outputs": [
    {
     "data": {
      "text/plain": [
       "Text(0.5,1,'Support Vector Classifier')"
      ]
     },
     "execution_count": 25,
     "metadata": {},
     "output_type": "execute_result"
    },
    {
     "data": {
      "image/png": "[encoded data removed]",
      "text/plain": [
       "<matplotlib.figure.Figure at 0x1883ee917f0>"
      ]
     },
     "metadata": {},
     "output_type": "display_data"
    }
   ],
   "source": [
    "plt.figure(figsize=(7,7))\n",
    "sns.heatmap(svc_cm, annot=True, fmt='.2f',xticklabels = [\"Client_Accepted\", \"Offer_Rejected\"] , yticklabels = [\"Client_Accepted\", \"Offer_Rejected\"] )\n",
    "plt.ylabel('Predicted class')\n",
    "plt.xlabel('True Class')\n",
    "plt.title('Support Vector Classifier')"
   ]
  },
  {
   "cell_type": "markdown",
   "metadata": {},
   "source": [
    "### Tune the model using GridSearch"
   ]
  },
  {
   "cell_type": "code",
   "execution_count": 26,
   "metadata": {},
   "outputs": [
    {
     "name": "stderr",
     "output_type": "stream",
     "text": [
      "D:\\Anaconda3\\lib\\site-packages\\sklearn\\cross_validation.py:41: DeprecationWarning: This module was deprecated in version 0.18 in favor of the model_selection module into which all the refactored classes and functions are moved. Also note that the interface of the new CV iterators are different from that of this module. This module will be removed in 0.20.\n",
      "  \"This module will be removed in 0.20.\", DeprecationWarning)\n",
      "D:\\Anaconda3\\lib\\site-packages\\sklearn\\grid_search.py:42: DeprecationWarning: This module was deprecated in version 0.18 in favor of the model_selection module into which all the refactored classes and functions are moved. This module will be removed in 0.20.\n",
      "  DeprecationWarning)\n"
     ]
    }
   ],
   "source": [
    "from sklearn.grid_search import GridSearchCV"
   ]
  },
  {
   "cell_type": "markdown",
   "metadata": {},
   "source": [
    "For the purpose of this illustration, let's construct a fairly simple, yet practical set of hyperparameters. \n",
    "In our grid parameters, let's try out 4 different values for C (0.1, 1, 10, 100) and gamma (1, 0.1, 0.001, 0.005). \n",
    "\n",
    "Let's examine the efficacy of two kernal types: 'rbf', and 'sigmoid'."
   ]
  },
  {
   "cell_type": "code",
   "execution_count": 27,
   "metadata": {},
   "outputs": [],
   "source": [
    "grid_params = {'C':[0.1, 1, 10, 100], 'gamma':[1, 0.1, 0.001, 0.005], 'kernel': ['rbf','sigmoid']}"
   ]
  },
  {
   "cell_type": "code",
   "execution_count": 28,
   "metadata": {
    "collapsed": true
   },
   "outputs": [],
   "source": [
    "grid = GridSearchCV(SVC(),grid_params,refit=True,verbose=3)"
   ]
  },
  {
   "cell_type": "markdown",
   "metadata": {},
   "source": [
    "There's a chance that the grid fit function may throw up an error. \n",
    "One of the possible errors, which I encountered, was \"too many indices in the array\" which pertained to the 'y_train' dataset.  \n",
    "\n",
    "Upon examining the array shapes of X_train[n, i] and y_train[n, 1], both had same no. of rows but y_train had an \n",
    "unnecessary column. The y_train array was reshaped into a 1d array using.\n",
    "\n",
    "c, r = y_train.shape\n",
    "\n",
    "y_train = y_train.reshape(c,)\n",
    "\n",
    "(Ref: https://stackoverflow.com/questions/42928855/gridsearchcv-error-too-many-indices-in-the-array)"
   ]
  },
  {
   "cell_type": "code",
   "execution_count": 1,
   "metadata": {},
   "outputs": [],
   "source": [
    "###### Warning: Running the grid.fit can take a couple of hours, depending on your system. "
   ]
  },
  {
   "cell_type": "code",
   "execution_count": 29,
   "metadata": {},
   "outputs": [
    {
     "name": "stdout",
     "output_type": "stream",
     "text": [
      "Fitting 3 folds for each of 32 candidates, totalling 96 fits\n",
      "[CV] C=0.1, gamma=1, kernel=rbf ......................................\n",
      "[CV] ............. C=0.1, gamma=1, kernel=rbf, score=0.888383 - 4.6min\n",
      "[CV] C=0.1, gamma=1, kernel=rbf ......................................\n"
     ]
    },
    {
     "name": "stderr",
     "output_type": "stream",
     "text": [
      "[Parallel(n_jobs=1)]: Done   1 out of   1 | elapsed:  4.6min remaining:    0.0s\n"
     ]
    },
    {
     "name": "stdout",
     "output_type": "stream",
     "text": [
      "[CV] ............. C=0.1, gamma=1, kernel=rbf, score=0.888373 - 4.6min\n",
      "[CV] C=0.1, gamma=1, kernel=rbf ......................................\n"
     ]
    },
    {
     "name": "stderr",
     "output_type": "stream",
     "text": [
      "[Parallel(n_jobs=1)]: Done   2 out of   2 | elapsed:  9.2min remaining:    0.0s\n"
     ]
    },
    {
     "name": "stdout",
     "output_type": "stream",
     "text": [
      "[CV] ............. C=0.1, gamma=1, kernel=rbf, score=0.888373 - 4.6min\n",
      "[CV] C=0.1, gamma=1, kernel=sigmoid ..................................\n",
      "[CV] ......... C=0.1, gamma=1, kernel=sigmoid, score=0.846413 -  28.3s\n",
      "[CV] C=0.1, gamma=1, kernel=sigmoid ..................................\n",
      "[CV] ......... C=0.1, gamma=1, kernel=sigmoid, score=0.839115 -  31.6s\n",
      "[CV] C=0.1, gamma=1, kernel=sigmoid ..................................\n",
      "[CV] ......... C=0.1, gamma=1, kernel=sigmoid, score=0.836930 -  40.9s\n",
      "[CV] C=0.1, gamma=0.1, kernel=rbf ....................................\n",
      "[CV] ........... C=0.1, gamma=0.1, kernel=rbf, score=0.888383 - 3.5min\n",
      "[CV] C=0.1, gamma=0.1, kernel=rbf ....................................\n",
      "[CV] ........... C=0.1, gamma=0.1, kernel=rbf, score=0.888373 - 3.1min\n",
      "[CV] C=0.1, gamma=0.1, kernel=rbf ....................................\n",
      "[CV] ........... C=0.1, gamma=0.1, kernel=rbf, score=0.888373 - 3.2min\n",
      "[CV] C=0.1, gamma=0.1, kernel=sigmoid ................................\n",
      "[CV] ....... C=0.1, gamma=0.1, kernel=sigmoid, score=0.851147 -  53.2s\n",
      "[CV] C=0.1, gamma=0.1, kernel=sigmoid ................................\n",
      "[CV] ....... C=0.1, gamma=0.1, kernel=sigmoid, score=0.870436 -  28.8s\n",
      "[CV] C=0.1, gamma=0.1, kernel=sigmoid ................................\n",
      "[CV] ....... C=0.1, gamma=0.1, kernel=sigmoid, score=0.845762 -  36.6s\n",
      "[CV] C=0.1, gamma=0.001, kernel=rbf ..................................\n",
      "[CV] ......... C=0.1, gamma=0.001, kernel=rbf, score=0.901038 -  35.0s\n",
      "[CV] C=0.1, gamma=0.001, kernel=rbf ..................................\n",
      "[CV] ......... C=0.1, gamma=0.001, kernel=rbf, score=0.900209 -  36.1s\n",
      "[CV] C=0.1, gamma=0.001, kernel=rbf ..................................\n",
      "[CV] ......... C=0.1, gamma=0.001, kernel=rbf, score=0.894929 -  34.9s\n",
      "[CV] C=0.1, gamma=0.001, kernel=sigmoid ..............................\n",
      "[CV] ..... C=0.1, gamma=0.001, kernel=sigmoid, score=0.900674 -  36.6s\n",
      "[CV] C=0.1, gamma=0.001, kernel=sigmoid ..............................\n",
      "[CV] ..... C=0.1, gamma=0.001, kernel=sigmoid, score=0.900300 -  35.7s\n",
      "[CV] C=0.1, gamma=0.001, kernel=sigmoid ..............................\n",
      "[CV] ..... C=0.1, gamma=0.001, kernel=sigmoid, score=0.894655 -  35.0s\n",
      "[CV] C=0.1, gamma=0.005, kernel=rbf ..................................\n",
      "[CV] ......... C=0.1, gamma=0.005, kernel=rbf, score=0.900856 -  35.1s\n",
      "[CV] C=0.1, gamma=0.005, kernel=rbf ..................................\n",
      "[CV] ......... C=0.1, gamma=0.005, kernel=rbf, score=0.900574 -  35.6s\n",
      "[CV] C=0.1, gamma=0.005, kernel=rbf ..................................\n",
      "[CV] ......... C=0.1, gamma=0.005, kernel=rbf, score=0.895293 -  36.2s\n",
      "[CV] C=0.1, gamma=0.005, kernel=sigmoid ..............................\n",
      "[CV] ..... C=0.1, gamma=0.005, kernel=sigmoid, score=0.901493 -  34.6s\n",
      "[CV] C=0.1, gamma=0.005, kernel=sigmoid ..............................\n",
      "[CV] ..... C=0.1, gamma=0.005, kernel=sigmoid, score=0.901029 -  35.0s\n",
      "[CV] C=0.1, gamma=0.005, kernel=sigmoid ..............................\n",
      "[CV] ..... C=0.1, gamma=0.005, kernel=sigmoid, score=0.895020 -  33.5s\n",
      "[CV] C=1, gamma=1, kernel=rbf ........................................\n",
      "[CV] ............... C=1, gamma=1, kernel=rbf, score=0.888110 - 6.3min\n",
      "[CV] C=1, gamma=1, kernel=rbf ........................................\n",
      "[CV] ............... C=1, gamma=1, kernel=rbf, score=0.888282 - 6.6min\n",
      "[CV] C=1, gamma=1, kernel=rbf ........................................\n",
      "[CV] ............... C=1, gamma=1, kernel=rbf, score=0.888373 - 6.3min\n",
      "[CV] C=1, gamma=1, kernel=sigmoid ....................................\n",
      "[CV] ........... C=1, gamma=1, kernel=sigmoid, score=0.845412 -  30.3s\n",
      "[CV] C=1, gamma=1, kernel=sigmoid ....................................\n",
      "[CV] ........... C=1, gamma=1, kernel=sigmoid, score=0.837476 -  35.1s\n",
      "[CV] C=1, gamma=1, kernel=sigmoid ....................................\n",
      "[CV] ........... C=1, gamma=1, kernel=sigmoid, score=0.835837 - 1.1min\n",
      "[CV] C=1, gamma=0.1, kernel=rbf ......................................\n",
      "[CV] ............. C=1, gamma=0.1, kernel=rbf, score=0.888656 - 4.4min\n",
      "[CV] C=1, gamma=0.1, kernel=rbf ......................................\n",
      "[CV] ............. C=1, gamma=0.1, kernel=rbf, score=0.888828 - 4.0min\n",
      "[CV] C=1, gamma=0.1, kernel=rbf ......................................\n",
      "[CV] ............. C=1, gamma=0.1, kernel=rbf, score=0.889466 - 4.1min\n",
      "[CV] C=1, gamma=0.1, kernel=sigmoid ..................................\n",
      "[CV] ......... C=1, gamma=0.1, kernel=sigmoid, score=0.855153 -  37.9s\n",
      "[CV] C=1, gamma=0.1, kernel=sigmoid ..................................\n",
      "[CV] ......... C=1, gamma=0.1, kernel=sigmoid, score=0.867978 -  26.3s\n",
      "[CV] C=1, gamma=0.1, kernel=sigmoid ..................................\n",
      "[CV] ......... C=1, gamma=0.1, kernel=sigmoid, score=0.844578 -  35.0s\n",
      "[CV] C=1, gamma=0.001, kernel=rbf ....................................\n",
      "[CV] ........... C=1, gamma=0.001, kernel=rbf, score=0.905499 -  33.7s\n",
      "[CV] C=1, gamma=0.001, kernel=rbf ....................................\n",
      "[CV] ........... C=1, gamma=0.001, kernel=rbf, score=0.903669 -  33.6s\n",
      "[CV] C=1, gamma=0.001, kernel=rbf ....................................\n",
      "[CV] ........... C=1, gamma=0.001, kernel=rbf, score=0.896476 -  32.6s\n",
      "[CV] C=1, gamma=0.001, kernel=sigmoid ................................\n",
      "[CV] ....... C=1, gamma=0.001, kernel=sigmoid, score=0.902950 -  33.4s\n",
      "[CV] C=1, gamma=0.001, kernel=sigmoid ................................\n",
      "[CV] ....... C=1, gamma=0.001, kernel=sigmoid, score=0.902304 -  34.6s\n",
      "[CV] C=1, gamma=0.001, kernel=sigmoid ................................\n",
      "[CV] ....... C=1, gamma=0.001, kernel=sigmoid, score=0.895748 -  33.5s\n",
      "[CV] C=1, gamma=0.005, kernel=rbf ....................................\n",
      "[CV] ........... C=1, gamma=0.005, kernel=rbf, score=0.910870 -  34.6s\n",
      "[CV] C=1, gamma=0.005, kernel=rbf ....................................\n",
      "[CV] ........... C=1, gamma=0.005, kernel=rbf, score=0.908222 -  35.8s\n",
      "[CV] C=1, gamma=0.005, kernel=rbf ....................................\n",
      "[CV] ........... C=1, gamma=0.005, kernel=rbf, score=0.905581 -  35.0s\n",
      "[CV] C=1, gamma=0.005, kernel=sigmoid ................................\n",
      "[CV] ....... C=1, gamma=0.005, kernel=sigmoid, score=0.901584 -  34.4s\n",
      "[CV] C=1, gamma=0.005, kernel=sigmoid ................................\n",
      "[CV] ....... C=1, gamma=0.005, kernel=sigmoid, score=0.903123 -  35.2s\n",
      "[CV] C=1, gamma=0.005, kernel=sigmoid ................................\n",
      "[CV] ....... C=1, gamma=0.005, kernel=sigmoid, score=0.897205 -  33.0s\n",
      "[CV] C=10, gamma=1, kernel=rbf .......................................\n",
      "[CV] .............. C=10, gamma=1, kernel=rbf, score=0.885379 - 7.3min\n",
      "[CV] C=10, gamma=1, kernel=rbf .......................................\n",
      "[CV] .............. C=10, gamma=1, kernel=rbf, score=0.886279 - 7.0min\n",
      "[CV] C=10, gamma=1, kernel=rbf .......................................\n",
      "[CV] .............. C=10, gamma=1, kernel=rbf, score=0.886279 - 7.1min\n",
      "[CV] C=10, gamma=1, kernel=sigmoid ...................................\n",
      "[CV] .......... C=10, gamma=1, kernel=sigmoid, score=0.844956 -  30.0s\n",
      "[CV] C=10, gamma=1, kernel=sigmoid ...................................\n",
      "[CV] .......... C=10, gamma=1, kernel=sigmoid, score=0.838204 -  34.0s\n",
      "[CV] C=10, gamma=1, kernel=sigmoid ...................................\n",
      "[CV] .......... C=10, gamma=1, kernel=sigmoid, score=0.836110 -  42.5s\n",
      "[CV] C=10, gamma=0.1, kernel=rbf .....................................\n",
      "[CV] ............ C=10, gamma=0.1, kernel=rbf, score=0.884377 - 5.0min\n",
      "[CV] C=10, gamma=0.1, kernel=rbf .....................................\n",
      "[CV] ............ C=10, gamma=0.1, kernel=rbf, score=0.885641 - 5.2min\n",
      "[CV] C=10, gamma=0.1, kernel=rbf .....................................\n",
      "[CV] ............ C=10, gamma=0.1, kernel=rbf, score=0.886916 - 5.0min\n",
      "[CV] C=10, gamma=0.1, kernel=sigmoid .................................\n",
      "[CV] ........ C=10, gamma=0.1, kernel=sigmoid, score=0.858704 -  26.9s\n",
      "[CV] C=10, gamma=0.1, kernel=sigmoid .................................\n",
      "[CV] ........ C=10, gamma=0.1, kernel=sigmoid, score=0.867614 -  26.1s\n",
      "[CV] C=10, gamma=0.1, kernel=sigmoid .................................\n",
      "[CV] ........ C=10, gamma=0.1, kernel=sigmoid, score=0.845306 -  34.7s\n",
      "[CV] C=10, gamma=0.001, kernel=rbf ...................................\n"
     ]
    },
    {
     "name": "stdout",
     "output_type": "stream",
     "text": [
      "[CV] .......... C=10, gamma=0.001, kernel=rbf, score=0.913055 -  33.9s\n",
      "[CV] C=10, gamma=0.001, kernel=rbf ...................................\n",
      "[CV] .......... C=10, gamma=0.001, kernel=rbf, score=0.909405 -  35.5s\n",
      "[CV] C=10, gamma=0.001, kernel=rbf ...................................\n",
      "[CV] .......... C=10, gamma=0.001, kernel=rbf, score=0.904307 -  32.9s\n",
      "[CV] C=10, gamma=0.001, kernel=sigmoid ...............................\n",
      "[CV] ...... C=10, gamma=0.001, kernel=sigmoid, score=0.908776 -  35.5s\n",
      "[CV] C=10, gamma=0.001, kernel=sigmoid ...............................\n",
      "[CV] ...... C=10, gamma=0.001, kernel=sigmoid, score=0.906583 -  36.2s\n",
      "[CV] C=10, gamma=0.001, kernel=sigmoid ...............................\n",
      "[CV] ...... C=10, gamma=0.001, kernel=sigmoid, score=0.900300 -  35.3s\n",
      "[CV] C=10, gamma=0.005, kernel=rbf ...................................\n",
      "[CV] .......... C=10, gamma=0.005, kernel=rbf, score=0.907957 -  42.0s\n",
      "[CV] C=10, gamma=0.005, kernel=rbf ...................................\n",
      "[CV] .......... C=10, gamma=0.005, kernel=rbf, score=0.909952 -  41.5s\n",
      "[CV] C=10, gamma=0.005, kernel=rbf ...................................\n",
      "[CV] .......... C=10, gamma=0.005, kernel=rbf, score=0.907493 -  43.4s\n",
      "[CV] C=10, gamma=0.005, kernel=sigmoid ...............................\n",
      "[CV] ...... C=10, gamma=0.005, kernel=sigmoid, score=0.890113 -  33.3s\n",
      "[CV] C=10, gamma=0.005, kernel=sigmoid ...............................\n",
      "[CV] ...... C=10, gamma=0.005, kernel=sigmoid, score=0.885915 -  27.7s\n",
      "[CV] C=10, gamma=0.005, kernel=sigmoid ...............................\n",
      "[CV] ...... C=10, gamma=0.005, kernel=sigmoid, score=0.885095 -  31.9s\n",
      "[CV] C=100, gamma=1, kernel=rbf ......................................\n",
      "[CV] ............. C=100, gamma=1, kernel=rbf, score=0.885197 - 7.0min\n",
      "[CV] C=100, gamma=1, kernel=rbf ......................................\n",
      "[CV] ............. C=100, gamma=1, kernel=rbf, score=0.885915 - 7.0min\n",
      "[CV] C=100, gamma=1, kernel=rbf ......................................\n",
      "[CV] ............. C=100, gamma=1, kernel=rbf, score=0.886097 - 7.1min\n",
      "[CV] C=100, gamma=1, kernel=sigmoid ..................................\n",
      "[CV] ......... C=100, gamma=1, kernel=sigmoid, score=0.844865 -  30.1s\n",
      "[CV] C=100, gamma=1, kernel=sigmoid ..................................\n",
      "[CV] ......... C=100, gamma=1, kernel=sigmoid, score=0.838204 -  33.8s\n",
      "[CV] C=100, gamma=1, kernel=sigmoid ..................................\n",
      "[CV] ......... C=100, gamma=1, kernel=sigmoid, score=0.835382 -  42.7s\n",
      "[CV] C=100, gamma=0.1, kernel=rbf ....................................\n",
      "[CV] ........... C=100, gamma=0.1, kernel=rbf, score=0.883740 - 4.9min\n",
      "[CV] C=100, gamma=0.1, kernel=rbf ....................................\n",
      "[CV] ........... C=100, gamma=0.1, kernel=rbf, score=0.885277 - 5.0min\n",
      "[CV] C=100, gamma=0.1, kernel=rbf ....................................\n",
      "[CV] ........... C=100, gamma=0.1, kernel=rbf, score=0.888282 - 4.7min\n",
      "[CV] C=100, gamma=0.1, kernel=sigmoid ................................\n",
      "[CV] ....... C=100, gamma=0.1, kernel=sigmoid, score=0.858066 -  26.5s\n",
      "[CV] C=100, gamma=0.1, kernel=sigmoid ................................\n",
      "[CV] ....... C=100, gamma=0.1, kernel=sigmoid, score=0.867158 -  26.4s\n",
      "[CV] C=100, gamma=0.1, kernel=sigmoid ................................\n",
      "[CV] ....... C=100, gamma=0.1, kernel=sigmoid, score=0.845215 -  29.8s\n",
      "[CV] C=100, gamma=0.001, kernel=rbf ..................................\n",
      "[CV] ......... C=100, gamma=0.001, kernel=rbf, score=0.909232 -  42.9s\n",
      "[CV] C=100, gamma=0.001, kernel=rbf ..................................\n",
      "[CV] ......... C=100, gamma=0.001, kernel=rbf, score=0.912683 -  45.0s\n",
      "[CV] C=100, gamma=0.001, kernel=rbf ..................................\n",
      "[CV] ......... C=100, gamma=0.001, kernel=rbf, score=0.909405 -  44.2s\n",
      "[CV] C=100, gamma=0.001, kernel=sigmoid ..............................\n",
      "[CV] ..... C=100, gamma=0.001, kernel=sigmoid, score=0.905499 -  41.6s\n",
      "[CV] C=100, gamma=0.001, kernel=sigmoid ..............................\n",
      "[CV] ..... C=100, gamma=0.001, kernel=sigmoid, score=0.904853 -  42.5s\n",
      "[CV] C=100, gamma=0.001, kernel=sigmoid ..............................\n",
      "[CV] ..... C=100, gamma=0.001, kernel=sigmoid, score=0.898844 -  43.4s\n",
      "[CV] C=100, gamma=0.005, kernel=rbf ..................................\n",
      "[CV] ......... C=100, gamma=0.005, kernel=rbf, score=0.897305 - 1.5min\n",
      "[CV] C=100, gamma=0.005, kernel=rbf ..................................\n",
      "[CV] ......... C=100, gamma=0.005, kernel=rbf, score=0.900118 - 1.6min\n",
      "[CV] C=100, gamma=0.005, kernel=rbf ..................................\n",
      "[CV] ......... C=100, gamma=0.005, kernel=rbf, score=0.898206 - 1.5min\n",
      "[CV] C=100, gamma=0.005, kernel=sigmoid ..............................\n",
      "[CV] ..... C=100, gamma=0.005, kernel=sigmoid, score=0.883012 -  22.4s\n",
      "[CV] C=100, gamma=0.005, kernel=sigmoid ..............................\n",
      "[CV] ..... C=100, gamma=0.005, kernel=sigmoid, score=0.883456 -  27.8s\n",
      "[CV] C=100, gamma=0.005, kernel=sigmoid ..............................\n",
      "[CV] ..... C=100, gamma=0.005, kernel=sigmoid, score=0.880361 -  26.2s\n"
     ]
    },
    {
     "name": "stderr",
     "output_type": "stream",
     "text": [
      "[Parallel(n_jobs=1)]: Done  96 out of  96 | elapsed: 172.9min finished\n"
     ]
    },
    {
     "name": "stdout",
     "output_type": "stream",
     "text": [
      "Wall time: 2h 54min 34s\n"
     ]
    },
    {
     "data": {
      "text/plain": [
       "GridSearchCV(cv=None, error_score='raise',\n",
       "       estimator=SVC(C=1.0, cache_size=200, class_weight=None, coef0=0.0,\n",
       "  decision_function_shape='ovr', degree=3, gamma='auto', kernel='rbf',\n",
       "  max_iter=-1, probability=False, random_state=None, shrinking=True,\n",
       "  tol=0.001, verbose=False),\n",
       "       fit_params={}, iid=True, n_jobs=1,\n",
       "       param_grid={'C': [0.1, 1, 10, 100], 'gamma': [1, 0.1, 0.001, 0.005], 'kernel': ['rbf', 'sigmoid']},\n",
       "       pre_dispatch='2*n_jobs', refit=True, scoring=None, verbose=3)"
      ]
     },
     "execution_count": 29,
     "metadata": {},
     "output_type": "execute_result"
    }
   ],
   "source": [
    "%%time\n",
    "grid.fit(X_train, y_train.ravel())"
   ]
  },
  {
   "cell_type": "code",
   "execution_count": 30,
   "metadata": {},
   "outputs": [
    {
     "data": {
      "text/plain": [
       "{'C': 100, 'gamma': 0.001, 'kernel': 'rbf'}"
      ]
     },
     "execution_count": 30,
     "metadata": {},
     "output_type": "execute_result"
    }
   ],
   "source": [
    "#inspect the best params\n",
    "grid.best_params_"
   ]
  },
  {
   "cell_type": "code",
   "execution_count": 31,
   "metadata": {},
   "outputs": [
    {
     "data": {
      "text/plain": [
       "SVC(C=100, cache_size=200, class_weight=None, coef0=0.0,\n",
       "  decision_function_shape='ovr', degree=3, gamma=0.001, kernel='rbf',\n",
       "  max_iter=-1, probability=False, random_state=None, shrinking=True,\n",
       "  tol=0.001, verbose=False)"
      ]
     },
     "execution_count": 31,
     "metadata": {},
     "output_type": "execute_result"
    }
   ],
   "source": [
    "grid.best_estimator_"
   ]
  },
  {
   "cell_type": "markdown",
   "metadata": {},
   "source": [
    "Let's take a look at the gridsearch results. \n",
    "\n",
    "Our grid.best_params_ shows that:\n",
    "\n",
    "* The 'rbf' kernel performs better than the 'sigmoid' kernal. This calls for further investigation. Since we only checked for two kernels, the chances of finding the \"best\" kernel was 0.5! Looking at the dataset, we should analyse the model further with the 'poly' kernel.  \n",
    "\n",
    "* The C parameter that performed best was found to be 100. Given that it is the extreme value we set on the right may indicate the need for additional investigation. This is because if the C value was somewhere inbetween 0.1 and 100, there would've been a higher chance of finding the optimal C value. In this case, the optimal C value may lie beyond 100, but we did not check for it. Perhaps a run grid search again with new hyperparameters. \n",
    "\n",
    "Once the results are investigated and a model is set, we should satisfy ourselves that the model is performing adequately with respect to the acceptance parameters. If not, other models need to be considered."
   ]
  },
  {
   "cell_type": "code",
   "execution_count": 32,
   "metadata": {
    "collapsed": true
   },
   "outputs": [],
   "source": [
    "grid_predictions = grid.predict(X_test)"
   ]
  },
  {
   "cell_type": "code",
   "execution_count": 33,
   "metadata": {},
   "outputs": [
    {
     "name": "stdout",
     "output_type": "stream",
     "text": [
      "[[7059  217]\n",
      " [ 543  419]]\n"
     ]
    }
   ],
   "source": [
    "print(confusion_matrix(y_test,grid_predictions))"
   ]
  },
  {
   "cell_type": "code",
   "execution_count": 34,
   "metadata": {},
   "outputs": [
    {
     "name": "stdout",
     "output_type": "stream",
     "text": [
      "             precision    recall  f1-score   support\n",
      "\n",
      "          0       0.93      0.97      0.95      7276\n",
      "          1       0.66      0.44      0.52       962\n",
      "\n",
      "avg / total       0.90      0.91      0.90      8238\n",
      "\n"
     ]
    }
   ],
   "source": [
    "print(classification_report(y_test,grid_predictions))"
   ]
  },
  {
   "cell_type": "code",
   "execution_count": 35,
   "metadata": {
    "collapsed": true
   },
   "outputs": [],
   "source": [
    "grid_cm = confusion_matrix(grid_predictions, y_test, [1,0])"
   ]
  },
  {
   "cell_type": "code",
   "execution_count": 36,
   "metadata": {},
   "outputs": [
    {
     "data": {
      "text/plain": [
       "Text(0.5,1,'Grid-tuned SVC')"
      ]
     },
     "execution_count": 36,
     "metadata": {},
     "output_type": "execute_result"
    },
    {
     "data": {
      "image/png": "[encoded data removed]",
      "text/plain": [
       "<matplotlib.figure.Figure at 0x18841f335c0>"
      ]
     },
     "metadata": {},
     "output_type": "display_data"
    }
   ],
   "source": [
    "plt.figure(figsize=(7,7))\n",
    "sns.heatmap(grid_cm, annot=True, fmt='.2f',xticklabels = [\"Client_Accepted\", \"Offer_Rejected\"] , yticklabels = [\"Client_Accepted\", \"Offer_Rejected\"] )\n",
    "plt.ylabel('Predicted class')\n",
    "plt.xlabel('True Class')\n",
    "plt.title('Grid-tuned SVC')"
   ]
  },
  {
   "cell_type": "code",
   "execution_count": 49,
   "metadata": {
    "collapsed": true
   },
   "outputs": [],
   "source": [
    "svc_model_best = SVC(C=100, cache_size=200, class_weight=None, coef0=0.0, decision_function_shape='ovr', \n",
    "                     degree=3, gamma=0.001, kernel='rbf', max_iter=-1, probability=False, random_state=52, \n",
    "                     shrinking=True, tol=0.001, verbose=False)"
   ]
  },
  {
   "cell_type": "code",
   "execution_count": 50,
   "metadata": {},
   "outputs": [
    {
     "name": "stderr",
     "output_type": "stream",
     "text": [
      "D:\\Anaconda3\\lib\\site-packages\\sklearn\\utils\\validation.py:578: DataConversionWarning: A column-vector y was passed when a 1d array was expected. Please change the shape of y to (n_samples, ), for example using ravel().\n",
      "  y = column_or_1d(y, warn=True)\n"
     ]
    },
    {
     "data": {
      "text/plain": [
       "SVC(C=100, cache_size=200, class_weight='balanced', coef0=0.0,\n",
       "  decision_function_shape='ovr', degree=3, gamma=0.001, kernel='rbf',\n",
       "  max_iter=-1, probability=True, random_state=52, shrinking=True,\n",
       "  tol=0.001, verbose=False)"
      ]
     },
     "execution_count": 50,
     "metadata": {},
     "output_type": "execute_result"
    }
   ],
   "source": [
    "svc_model_best.fit(X_train, y_train)"
   ]
  },
  {
   "cell_type": "code",
   "execution_count": 51,
   "metadata": {
    "collapsed": true
   },
   "outputs": [],
   "source": [
    "y_preds_best = svc_model.predict(X_test)"
   ]
  },
  {
   "cell_type": "code",
   "execution_count": 52,
   "metadata": {},
   "outputs": [
    {
     "name": "stdout",
     "output_type": "stream",
     "text": [
      "             precision    recall  f1-score   support\n",
      "\n",
      "          0       0.92      0.95      0.94      7276\n",
      "          1       0.51      0.37      0.43       962\n",
      "\n",
      "avg / total       0.87      0.89      0.88      8238\n",
      "\n",
      "[[6931  345]\n",
      " [ 602  360]]\n"
     ]
    }
   ],
   "source": [
    "print(classification_report(y_test, y_preds_best))\n",
    "print(confusion_matrix(y_test, y_preds_best))"
   ]
  },
  {
   "cell_type": "code",
   "execution_count": 53,
   "metadata": {
    "collapsed": true
   },
   "outputs": [],
   "source": [
    "svc_cm_best = confusion_matrix(y_preds_best, y_test, [1,0])"
   ]
  },
  {
   "cell_type": "code",
   "execution_count": 54,
   "metadata": {},
   "outputs": [
    {
     "data": {
      "text/plain": [
       "Text(0.5,1,'Support Vector Classifier')"
      ]
     },
     "execution_count": 54,
     "metadata": {},
     "output_type": "execute_result"
    },
    {
     "data": {
      "image/png": "[encoded data removed]",
      "text/plain": [
       "<matplotlib.figure.Figure at 0x18843eea7f0>"
      ]
     },
     "metadata": {},
     "output_type": "display_data"
    }
   ],
   "source": [
    "plt.figure(figsize=(7,7))\n",
    "sns.heatmap(svc_cm_best, annot=True, fmt='.2f',xticklabels = [\"Client_Accepted\", \"Offer_Rejected\"] , yticklabels = [\"Client_Accepted\", \"Offer_Rejected\"] )\n",
    "plt.ylabel('Predicted class')\n",
    "plt.xlabel('True Class')\n",
    "plt.title('Support Vector Classifier')"
   ]
  }
 ],
 "metadata": {
  "kernelspec": {
   "display_name": "Python 3",
   "language": "python",
   "name": "python3"
  },
  "language_info": {
   "codemirror_mode": {
    "name": "ipython",
    "version": 3
   },
   "file_extension": ".py",
   "mimetype": "text/x-python",
   "name": "python",
   "nbconvert_exporter": "python",
   "pygments_lexer": "ipython3",
   "version": "3.5.5"
  }
 },
 "nbformat": 4,
 "nbformat_minor": 2
}
