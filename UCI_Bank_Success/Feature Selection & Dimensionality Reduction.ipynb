{
 "cells": [
  {
   "cell_type": "markdown",
   "metadata": {},
   "source": [
    "## Feature Selection and Dimensionality Reduction: On Santander  and a UCI Datasets"
   ]
  },
  {
   "cell_type": "markdown",
   "metadata": {},
   "source": [
    "It is fairly common knowledge in the data-science circle that much of the time and effort for a given project goes into data munging and wrangling. This includes the steps to sufficiency-evaluation, cleaning, transforming and \"data-typesetting\" for it to work as in input to machine learning models. This can be often critically important for problems that use with Deep Learning models (in many cases even for complex SVM models). A lot of effort is spent on algorithms that transform the data into an input-able form for multi-layered neural network. Identifying and debugging nodes in a multilayered network can be a ardously complicated task since, just a few layers in, input data is transformed and redistributed at a binary level beyond human abstractions. I will cover this topic on neural network in a separate post. \n",
    "\n",
    "This post is about the importance of feature selection in more commonly used machine learning models. It deals with pruning features which do not determine the dependent variable in a significant way. \n",
    "\n",
    "Feature selection is important for the following key reasons:\n",
    "\n",
    "1 > Computational Intensity: While the increase in the number of features can contribute to a general improvement in the trainability of the model to learn the rules among the variables, if the variables grow to a high number, say in excess of 100, even a simple regression model can demand a lot of computational resources. This is a key consideration while performing real-time analytics. \n",
    "\n",
    "2 > Interpretability: having too many features will not help make sense of what is going on. By deploying distributed computing platforms we can build sophisticated models on a dataset with excessive number of features, but even if the model meets our performance metrics, it does not mean we can intuitively interpret what is going on. It is important uncover the mechanisms leading to our predictions for a data scientist to develop domain expertise over time, especially so when working for a particular industry. Presence of too many features will hinder model interpretability. \n",
    "\n",
    "3 > Communication: closely linked to interpretability is the element of communication. Models which are hard to interpret are hard to communicate. Outcomes of analysis will invariably need to be communicated to non-technical professionals who expect to gain an intuitive understanding of a technical subject matter, and models which are too complex are usually not convincing.\n",
    "\n",
    "4 > Ensemble entanglement: this is a relatively infrequent problem to address, but it exists nonetheless. There are cases where traditional ML models do not meet performance metrics for acceptance. In such cases, the data scientist explores ensemble models for improving performance. Presence of high number of features can complicate an ensemble model beyond comprehension and can create massive performance distortion on the test-set vs. the training set. Such situations should be avoided.\n",
    "\n",
    "5 > Business actionability: perhaps the most valuable outcome of undertaking a scientific analysis of data is the insights we can derive from it. It helps us better understand our customers, our processes, our employees, and competitors, among others. Data analysis can help us identify shortcomings and gaps in performance and highlight the areas of process improvement. Having a manageable number of features is key to distilling actionable business intelligence from data analyses projects. As we will see from the Santander Bank's dataset illustration, having a high number of features precludes us from drawing actionable intelligence from analyses.  "
   ]
  },
  {
   "cell_type": "markdown",
   "metadata": {},
   "source": [
    "#### Dealing with the problem"
   ]
  },
  {
   "cell_type": "markdown",
   "metadata": {},
   "source": [
    "There are a number of options to deal with excessive number of features in the data preparation phase. This process is known as feature selection. It is important to note that the selection of method depends on the problem at hand.\n",
    "\n",
    "Feature selection is NOT to be confused with dimensionality reduction. \n",
    "\n",
    "Some common approaches include:\n",
    "\n",
    "1> Domain knowledge: one of the most effective ways to prune excessive number of features. Having an deep understanding of the company's business model, customer profile and the operating environment can help weed out unnecessary variables from the dataset. A word of caution is warranted here: using this process analyst's bias can creep-in to reduce dataset features to fit a preconceived model, and this should be avoided.   \n",
    "\n",
    "2> Shuffling methods: in this approach all the variables are included in the training model and the system creates a baseline fit score. As the modeling activity progresses, a group variables is randomized and added and the variations in the reference scores are compared. If a specific feature is dropped and the reference score (error rate) goes down (increases) then probably the feature dropped was important. If the reference error does not change upon dropping a feature, then the feature is probably not important. \n",
    "\n",
    "3> Backward Elimination & Forward Selection: a more traditional approach to feature selection is using the backward elimination and forward selection. In foward selection the outcome is modelled one (or few) feature at a time and the impact is examined. Significant features are retained in the model and others are excluded. A good starting point for this is by examining the correlation matrix. In backward elimination, the outcome is modeled on all the available features and significance of each feature is evaluated and earmarked. A significance level is set (e.g. p = 0.05) and features not satisfying this p value are eliminated. While both these approaches can be very time consuming, the process of carrying it out can trigger novel ideas to modeling with new feature engineering and help lay down a foundation for better interpretation.\n",
    "\n",
    "4> Using built-in functions: A more practical approach to feature selection is by using built-in functions. \n",
    "\n",
    "For the purpose of illustration we will use the following libraries:\n",
    "\n",
    "Scikit-learn's - RFE, 'percentile selection' and 'principal component analysis' for dimensionality reduction\n",
    "\n",
    "R's            - 'fsCaret' package"
   ]
  },
  {
   "cell_type": "markdown",
   "metadata": {},
   "source": [
    "#### About the dataset and the illustration"
   ]
  },
  {
   "cell_type": "markdown",
   "metadata": {},
   "source": [
    "Specifics of the model and data used here:\n",
    "\n",
    "Dataset 1 link: \t\t\thttps://tinyurl.com/n69koxd from UCI ML Repository\n",
    "\n",
    "Dataset 2 link:             https://tinyurl.com/ybq8qy2d from Kaggle library\n",
    "\n",
    "Modeling language: \t\tPython 3 and R\n",
    "Modeling environment: \tJupyter Notebooks, Spyder, and RStudio\n",
    "Primary libraries used: matplotlib, pandas, seaborn, scikit-learn, numpy, dplyr, rpart, caret, fsCaret \n",
    "\n",
    "Brief overview of the Dataset 1:\n",
    "\n",
    "The data pertains to the success of telemarketing campaign carried out by a Portuguese banking institution. The dataset \n",
    "provides us with a binary classification problem. The success of the campaign is measured by how many clients subscribe \n",
    "to the term-deposit offer made by the institution. The “success” is the classification variable of interest represented by “1” (the other outcome is “failure” / “0”). Together with 9 numeric variables, and 11 categorical variables, the data contains a set of 20 features, not including the classification variable.\n",
    "\n",
    "Brief overview of the Dataset 2:\n",
    "\n",
    "The data pertains to customer satisfaction of Santander bank's customers. The dataset provides us with a binary classification problem. The performance of model is measured by how accurately it can classify a satisfied and dissatisfied customers. The “success” is the classification variable of interest represented by “1” for a dissatisfied customer (the other outcome is “failure” / “0”). The dataset contains an extraordinary number of features at a total of 370, not including the dependent variable. "
   ]
  },
  {
   "cell_type": "code",
   "execution_count": 1,
   "metadata": {
    "collapsed": true
   },
   "outputs": [],
   "source": [
    "#Import the most commonly used libraries\n",
    "\n",
    "import numpy as np\n",
    "import pandas as pd\n",
    "import matplotlib.pyplot as plt\n",
    "import seaborn as sns\n",
    "%matplotlib inline"
   ]
  },
  {
   "cell_type": "code",
   "execution_count": 2,
   "metadata": {},
   "outputs": [
    {
     "data": {
      "text/html": [
       "<div>\n",
       "<style>\n",
       "    .dataframe thead tr:only-child th {\n",
       "        text-align: right;\n",
       "    }\n",
       "\n",
       "    .dataframe thead th {\n",
       "        text-align: left;\n",
       "    }\n",
       "\n",
       "    .dataframe tbody tr th {\n",
       "        vertical-align: top;\n",
       "    }\n",
       "</style>\n",
       "<table border=\"1\" class=\"dataframe\">\n",
       "  <thead>\n",
       "    <tr style=\"text-align: right;\">\n",
       "      <th></th>\n",
       "      <th>age</th>\n",
       "      <th>duration</th>\n",
       "      <th>p_days</th>\n",
       "      <th>Previous</th>\n",
       "      <th>emp_var_rate</th>\n",
       "      <th>cpi</th>\n",
       "      <th>cci</th>\n",
       "      <th>euribor3m</th>\n",
       "      <th>no_emp</th>\n",
       "      <th>divorced</th>\n",
       "      <th>...</th>\n",
       "      <th>37</th>\n",
       "      <th>39</th>\n",
       "      <th>40</th>\n",
       "      <th>41</th>\n",
       "      <th>42</th>\n",
       "      <th>43</th>\n",
       "      <th>56</th>\n",
       "      <th>failure</th>\n",
       "      <th>nonexistent</th>\n",
       "      <th>success</th>\n",
       "    </tr>\n",
       "  </thead>\n",
       "  <tbody>\n",
       "    <tr>\n",
       "      <th>0</th>\n",
       "      <td>56</td>\n",
       "      <td>261</td>\n",
       "      <td>999</td>\n",
       "      <td>0</td>\n",
       "      <td>1.1</td>\n",
       "      <td>93.994</td>\n",
       "      <td>-36.4</td>\n",
       "      <td>4.857</td>\n",
       "      <td>5191.0</td>\n",
       "      <td>0.0</td>\n",
       "      <td>...</td>\n",
       "      <td>0.0</td>\n",
       "      <td>0.0</td>\n",
       "      <td>0.0</td>\n",
       "      <td>0.0</td>\n",
       "      <td>0.0</td>\n",
       "      <td>0.0</td>\n",
       "      <td>0.0</td>\n",
       "      <td>0.0</td>\n",
       "      <td>1.0</td>\n",
       "      <td>0.0</td>\n",
       "    </tr>\n",
       "    <tr>\n",
       "      <th>1</th>\n",
       "      <td>57</td>\n",
       "      <td>149</td>\n",
       "      <td>999</td>\n",
       "      <td>0</td>\n",
       "      <td>1.1</td>\n",
       "      <td>93.994</td>\n",
       "      <td>-36.4</td>\n",
       "      <td>4.857</td>\n",
       "      <td>5191.0</td>\n",
       "      <td>0.0</td>\n",
       "      <td>...</td>\n",
       "      <td>0.0</td>\n",
       "      <td>0.0</td>\n",
       "      <td>0.0</td>\n",
       "      <td>0.0</td>\n",
       "      <td>0.0</td>\n",
       "      <td>0.0</td>\n",
       "      <td>0.0</td>\n",
       "      <td>0.0</td>\n",
       "      <td>1.0</td>\n",
       "      <td>0.0</td>\n",
       "    </tr>\n",
       "    <tr>\n",
       "      <th>2</th>\n",
       "      <td>37</td>\n",
       "      <td>226</td>\n",
       "      <td>999</td>\n",
       "      <td>0</td>\n",
       "      <td>1.1</td>\n",
       "      <td>93.994</td>\n",
       "      <td>-36.4</td>\n",
       "      <td>4.857</td>\n",
       "      <td>5191.0</td>\n",
       "      <td>0.0</td>\n",
       "      <td>...</td>\n",
       "      <td>0.0</td>\n",
       "      <td>0.0</td>\n",
       "      <td>0.0</td>\n",
       "      <td>0.0</td>\n",
       "      <td>0.0</td>\n",
       "      <td>0.0</td>\n",
       "      <td>0.0</td>\n",
       "      <td>0.0</td>\n",
       "      <td>1.0</td>\n",
       "      <td>0.0</td>\n",
       "    </tr>\n",
       "    <tr>\n",
       "      <th>3</th>\n",
       "      <td>40</td>\n",
       "      <td>151</td>\n",
       "      <td>999</td>\n",
       "      <td>0</td>\n",
       "      <td>1.1</td>\n",
       "      <td>93.994</td>\n",
       "      <td>-36.4</td>\n",
       "      <td>4.857</td>\n",
       "      <td>5191.0</td>\n",
       "      <td>0.0</td>\n",
       "      <td>...</td>\n",
       "      <td>0.0</td>\n",
       "      <td>0.0</td>\n",
       "      <td>0.0</td>\n",
       "      <td>0.0</td>\n",
       "      <td>0.0</td>\n",
       "      <td>0.0</td>\n",
       "      <td>0.0</td>\n",
       "      <td>0.0</td>\n",
       "      <td>1.0</td>\n",
       "      <td>0.0</td>\n",
       "    </tr>\n",
       "    <tr>\n",
       "      <th>4</th>\n",
       "      <td>56</td>\n",
       "      <td>307</td>\n",
       "      <td>999</td>\n",
       "      <td>0</td>\n",
       "      <td>1.1</td>\n",
       "      <td>93.994</td>\n",
       "      <td>-36.4</td>\n",
       "      <td>4.857</td>\n",
       "      <td>5191.0</td>\n",
       "      <td>0.0</td>\n",
       "      <td>...</td>\n",
       "      <td>0.0</td>\n",
       "      <td>0.0</td>\n",
       "      <td>0.0</td>\n",
       "      <td>0.0</td>\n",
       "      <td>0.0</td>\n",
       "      <td>0.0</td>\n",
       "      <td>0.0</td>\n",
       "      <td>0.0</td>\n",
       "      <td>1.0</td>\n",
       "      <td>0.0</td>\n",
       "    </tr>\n",
       "  </tbody>\n",
       "</table>\n",
       "<p>5 rows × 104 columns</p>\n",
       "</div>"
      ],
      "text/plain": [
       "   age  duration  p_days  Previous  emp_var_rate     cpi   cci  euribor3m  \\\n",
       "0   56       261     999         0           1.1  93.994 -36.4      4.857   \n",
       "1   57       149     999         0           1.1  93.994 -36.4      4.857   \n",
       "2   37       226     999         0           1.1  93.994 -36.4      4.857   \n",
       "3   40       151     999         0           1.1  93.994 -36.4      4.857   \n",
       "4   56       307     999         0           1.1  93.994 -36.4      4.857   \n",
       "\n",
       "   no_emp  divorced   ...      37   39   40   41   42   43   56  failure  \\\n",
       "0  5191.0       0.0   ...     0.0  0.0  0.0  0.0  0.0  0.0  0.0      0.0   \n",
       "1  5191.0       0.0   ...     0.0  0.0  0.0  0.0  0.0  0.0  0.0      0.0   \n",
       "2  5191.0       0.0   ...     0.0  0.0  0.0  0.0  0.0  0.0  0.0      0.0   \n",
       "3  5191.0       0.0   ...     0.0  0.0  0.0  0.0  0.0  0.0  0.0      0.0   \n",
       "4  5191.0       0.0   ...     0.0  0.0  0.0  0.0  0.0  0.0  0.0      0.0   \n",
       "\n",
       "   nonexistent  success  \n",
       "0          1.0      0.0  \n",
       "1          1.0      0.0  \n",
       "2          1.0      0.0  \n",
       "3          1.0      0.0  \n",
       "4          1.0      0.0  \n",
       "\n",
       "[5 rows x 104 columns]"
      ]
     },
     "execution_count": 2,
     "metadata": {},
     "output_type": "execute_result"
    }
   ],
   "source": [
    "#Since we used this dataset in an earlier post (\"01 Classifier_Models...\"). \n",
    "#In the interest of efficiency, let us skip the preprocessing steps and use the preprocessed dataset we created earlier.\n",
    "#The dateset imported here is already labeled, encoded and scaled.\n",
    "\n",
    "df = pd.read_csv('X_process_data.csv')\n",
    "df.drop(labels=\"Unnamed: 0\", axis=1, inplace=True)\n",
    "df.head()"
   ]
  },
  {
   "cell_type": "code",
   "execution_count": 3,
   "metadata": {},
   "outputs": [
    {
     "data": {
      "text/plain": [
       "Index(['age', 'duration', 'p_days', 'Previous', 'emp_var_rate', 'cpi', 'cci',\n",
       "       'euribor3m', 'no_emp', 'divorced',\n",
       "       ...\n",
       "       '37', '39', '40', '41', '42', '43', '56', 'failure', 'nonexistent',\n",
       "       'success'],\n",
       "      dtype='object', length=104)"
      ]
     },
     "execution_count": 3,
     "metadata": {},
     "output_type": "execute_result"
    }
   ],
   "source": [
    "df.columns"
   ]
  },
  {
   "cell_type": "code",
   "execution_count": 4,
   "metadata": {
    "collapsed": true
   },
   "outputs": [],
   "source": [
    "#Separating the dependent and independent variables \n",
    "\n",
    "X = df.iloc[:, :-1]\n",
    "y = df.iloc[:, -1:]"
   ]
  },
  {
   "cell_type": "code",
   "execution_count": 5,
   "metadata": {
    "collapsed": true
   },
   "outputs": [],
   "source": [
    "#split the dataset for training and test subsets\n",
    "from sklearn.model_selection import train_test_split\n",
    "X_train, X_test, y_train, y_test = train_test_split(X, y, test_size = 0.2)"
   ]
  },
  {
   "cell_type": "code",
   "execution_count": 6,
   "metadata": {
    "collapsed": true
   },
   "outputs": [],
   "source": [
    "#Scale the features for more accurate models and to conserve computational resources \n",
    "\n",
    "from sklearn.preprocessing import StandardScaler\n",
    "sc = StandardScaler()\n",
    "X_train = sc.fit_transform(X_train)\n",
    "X_test = sc.transform(X_test)"
   ]
  },
  {
   "cell_type": "code",
   "execution_count": 7,
   "metadata": {
    "collapsed": true
   },
   "outputs": [],
   "source": [
    "#Let's use the SciKit's LogisticRegressor\n",
    "from sklearn.linear_model import LogisticRegression\n",
    "logit_model = LogisticRegression(max_iter=200, C=0.5)"
   ]
  },
  {
   "cell_type": "markdown",
   "metadata": {},
   "source": [
    "### 1. Feature Selection using RFE Method"
   ]
  },
  {
   "cell_type": "code",
   "execution_count": null,
   "metadata": {
    "collapsed": true
   },
   "outputs": [],
   "source": [
    "# Examining feature selection by using scikit's RFE for this model\n",
    "from sklearn.feature_selection import RFE"
   ]
  },
  {
   "cell_type": "code",
   "execution_count": null,
   "metadata": {
    "collapsed": true
   },
   "outputs": [],
   "source": [
    "#RFE for Logistic regression model, let's select the top 7 variables\n",
    "\n",
    "rfe_logit = RFE(logit_model, 7) \n",
    "rfe_logit = rfe_logit.fit(X_train, y_train)\n",
    "print(rfe_logit.support_)\n",
    "print(rfe_logit.ranking_)"
   ]
  },
  {
   "cell_type": "code",
   "execution_count": null,
   "metadata": {
    "collapsed": true
   },
   "outputs": [],
   "source": []
  },
  {
   "cell_type": "code",
   "execution_count": null,
   "metadata": {
    "collapsed": true
   },
   "outputs": [],
   "source": [
    "feat_list_logit = []\n",
    "\n",
    "for i in range(0, 103):\n",
    "    if rfe_logit.support_[i]==True:\n",
    "        feat_list_logit.append(i)"
   ]
  },
  {
   "cell_type": "code",
   "execution_count": null,
   "metadata": {
    "collapsed": true
   },
   "outputs": [],
   "source": [
    "feat_list_logit"
   ]
  },
  {
   "cell_type": "markdown",
   "metadata": {},
   "source": [
    "This shortlist of features which impacts the outcome makes sense intutively. \n",
    "This refers to the following features:\n",
    "\n",
    "2 - 'duration'\n",
    "\n",
    "3 - 'p_days'\n",
    "\n",
    "7 - 'cci'\n",
    "\n",
    "8 - 'euribor3m'\n",
    "\n",
    "21 - 'job'\n",
    "\n",
    "101 - 'campaign'\n",
    "\n",
    "102 - 'poutcome'"
   ]
  },
  {
   "cell_type": "markdown",
   "metadata": {
    "collapsed": true
   },
   "source": [
    "### 2. Model based Feature Selection"
   ]
  },
  {
   "cell_type": "code",
   "execution_count": 8,
   "metadata": {
    "collapsed": true
   },
   "outputs": [],
   "source": [
    "#This approach for feature selection is adapted from \n",
    "#\"Hands-On Machine Learning with Scikit-Learn & TensorFlow\" by A. Geron (O'Reilly Publishing)\n",
    "\n",
    "from sklearn.feature_selection import SelectFromModel\n",
    "from sklearn.linear_model import LogisticRegression\n",
    "\n",
    "select = SelectFromModel(LogisticRegression(), threshold='mean')"
   ]
  },
  {
   "cell_type": "code",
   "execution_count": 9,
   "metadata": {},
   "outputs": [
    {
     "name": "stderr",
     "output_type": "stream",
     "text": [
      "D:\\Anaconda3\\lib\\site-packages\\sklearn\\utils\\validation.py:578: DataConversionWarning: A column-vector y was passed when a 1d array was expected. Please change the shape of y to (n_samples, ), for example using ravel().\n",
      "  y = column_or_1d(y, warn=True)\n"
     ]
    }
   ],
   "source": [
    "select.fit(X_train, y_train)\n",
    "X_train_s = select.transform(X_train)"
   ]
  },
  {
   "cell_type": "code",
   "execution_count": 10,
   "metadata": {},
   "outputs": [
    {
     "name": "stdout",
     "output_type": "stream",
     "text": [
      "The shape of X_train is:  (32950, 103)\n",
      "The shape of X_train_s is  (32950, 4)\n"
     ]
    }
   ],
   "source": [
    "print('The shape of X_train is: ', X_train.shape)\n",
    "print('The shape of X_train_s is ', X_train_s.shape)"
   ]
  },
  {
   "cell_type": "code",
   "execution_count": 11,
   "metadata": {},
   "outputs": [
    {
     "data": {
      "text/plain": [
       "Text(0.5,0,'Index of Features')"
      ]
     },
     "execution_count": 11,
     "metadata": {},
     "output_type": "execute_result"
    },
    {
     "data": {
      "image/png": "[encoded data removed]",
      "text/plain": [
       "<matplotlib.figure.Figure at 0x2cc26e98e10>"
      ]
     },
     "metadata": {},
     "output_type": "display_data"
    }
   ],
   "source": [
    "mask = select.get_support()\n",
    "plt.matshow(mask.reshape(1,-1), cmap='gray_r')\n",
    "plt.xlabel('Index of Features')"
   ]
  },
  {
   "cell_type": "code",
   "execution_count": 12,
   "metadata": {},
   "outputs": [
    {
     "data": {
      "text/plain": [
       "array([[ 0.193482  , -0.34988944, -0.34109189,  0.39827152],\n",
       "       [ 0.193482  , -0.34988944, -0.34109189,  0.39827152],\n",
       "       [ 0.193482  , -0.34988944, -0.34109189,  0.39827152],\n",
       "       ..., \n",
       "       [ 0.193482  , -0.34988944, -0.34109189,  0.39827152],\n",
       "       [ 0.193482  , -0.34988944, -0.34109189,  0.39827152],\n",
       "       [ 0.193482  , -0.34988944, -0.34109189,  0.39827152]])"
      ]
     },
     "execution_count": 12,
     "metadata": {},
     "output_type": "execute_result"
    }
   ],
   "source": [
    "X_train_s"
   ]
  },
  {
   "cell_type": "code",
   "execution_count": null,
   "metadata": {
    "collapsed": true
   },
   "outputs": [],
   "source": []
  },
  {
   "cell_type": "markdown",
   "metadata": {},
   "source": [
    "### 3 Feature Selection using 'fsCaret' in R"
   ]
  },
  {
   "cell_type": "markdown",
   "metadata": {},
   "source": [
    "For illustrating feature selection using the fscaret package, let's make use of Dataset 2. This dataset pertains to Santander Bank's customer satisfaction. The dataset contains large number of features, a total of 371 and a total of 76020 observations (a total of over 28 million data points). Conjecturing about the environment in which this data might have been generated, this is a very large dataset. There's a good possibility that the data would contain a lot of noise given the sheer number of variables. It's important to note that we do not have background information on how the data was generated, and we can only proceed with what we have on hand.\n",
    "\n",
    "The target variable denotes a \"satisfied\" (0) or \"dissatisfied\" (1) customer of the bank. "
   ]
  },
  {
   "cell_type": "markdown",
   "metadata": {},
   "source": [
    "R's 'fscaret' ranks the importance of different features for a given set of machine learning models built within the fscaret package. The package has over a hundered models and, from what I saw, almost all the mainstream models are built-in. So if we're looking to implement a RandomForest classifier for this model and if we want to select the top 20 features from the dataset, this package is of great help. It is very good for feature selctions to fit ensemble models, but more on that some other time. \n",
    "\n",
    "For this example, I ran feature selections for three models namely: lasso regression, logistic regression and decision trees.  I picked the models mainly for computational efficiency since feature selection would take hours. \n"
   ]
  },
  {
   "cell_type": "markdown",
   "metadata": {},
   "source": [
    "(PS: I haven't had the chance to get myself going on RMarkdown, else I would not have to post my R codes here on Jupyter Notebook. I apologize for that.)"
   ]
  },
  {
   "cell_type": "code",
   "execution_count": null,
   "metadata": {
    "collapsed": true
   },
   "outputs": [],
   "source": [
    "san_df = pd.read_csv('data2.csv')\n",
    "san_df.head()"
   ]
  },
  {
   "cell_type": "markdown",
   "metadata": {},
   "source": [
    "#### R Code:\n",
    "\n"
   ]
  },
  {
   "cell_type": "markdown",
   "metadata": {},
   "source": [
    "library(dplyr)\n",
    "\n",
    "library(caret)\n",
    "\n",
    "library(fscaret)\n",
    "\n",
    "datasource: https://www.kaggle.com/c/santander-customer-satisfaction/data\n",
    "\n",
    "df <- as.tbl(read.csv('santander_train.csv')) #use dplyr format for better data manipulation and transparent virtualization\n",
    "\n",
    "library(caTools)\n",
    "split = sample.split(df$TARGET, SplitRatio = 0.8)\n",
    "\n",
    "training_set = subset(df, split == TRUE)\n",
    "test_set = subset(df, split == FALSE)\n",
    "\n",
    "before running fscaret, check out the available fit models using \n",
    "> data(funcRegPred)\n",
    "> print(funcRegPred)\n",
    "\n",
    "sel_mods <- c(\"glm\", \"treebag\", \"lasso\") \n",
    "\n",
    "selected_fs <-fscaret(training_set, test_set, myTimeLimit = 120, preprocessData=TRUE,\n",
    "              Used.funcRegPred = sel_mods, with.labels=TRUE,\n",
    "              supress.output=FALSE)\n",
    "\n",
    "Clear up the results for better understanding\n",
    "\n",
    "fs_summary <- selected_fs$VarImp$matrixVarImp.MSE    #store the important results in a file\n"
   ]
  },
  {
   "cell_type": "markdown",
   "metadata": {},
   "source": [
    "#### Results / Output\n",
    "\n",
    "The fscaret package provides us with the following outputs (copy-pasted to display on this jp notebook). These features capture the bulk of the variance for the preselected models above. \n",
    "\n",
    "I am restricting the features to top 15 in the interest of efficiency. \n",
    "\n",
    "Features selected:\n",
    "(col.no.)                  (name)   (importance score)\n",
    "                            \n",
    "2                  var15    60.82829769\n",
    "\n",
    "9                 ind_var30 35.78935725\n",
    "\n",
    "15                num_var30 26.39398794\n",
    "\n",
    "12                 num_var4 18.60050715\n",
    "\n",
    "17                num_var42 16.00699118\n",
    "\n",
    "19              saldo_var30 15.89513211\n",
    "\n",
    "6                  ind_var5 15.05416953\n",
    "\n",
    "38                    var38 12.91028473\n",
    "\n",
    "21                    var36 12.03272957\n",
    "\n",
    "20              saldo_var42  7.97810301\n",
    "\n",
    "34   saldo_medio_var5_hace2  7.19221225\n",
    "\n",
    "8               ind_var13_0  6.96532066\n",
    "\n",
    "5         imp_op_var39_ult1  6.42681533\n",
    "\n",
    "36    saldo_medio_var5_ult1  5.85161521\n",
    "\n",
    "14              num_var30_0  5.30059362\n",
    "\n",
    "7               ind_var12_0  5.22580340\n",
    "\n",
    "\n",
    "\n"
   ]
  },
  {
   "cell_type": "markdown",
   "metadata": {},
   "source": [
    "#### Key takeway from Feature Selection\n",
    "\n",
    "Perhaps the most important takeway from the feature selection exercise in case of Santander bank dataset is that by shortlisting the features which impact customer satisfaction the most, we have starting point for improving customer experience. By marking a baseline, say today's performance metrics across the various customer service parameters, the company can target an improvement score and measure the outcome as indicated by fewer dissatisfied customers."
   ]
  },
  {
   "cell_type": "markdown",
   "metadata": {
    "collapsed": true
   },
   "source": [
    "### 4 Dimensionality (\"Curse\") Reduction w/ Principal Components Analysis"
   ]
  },
  {
   "cell_type": "markdown",
   "metadata": {},
   "source": [
    "#### Using dimensionality reduction\n",
    "\n",
    "Dimensionality reduction is not the same as feature selection. In a feature selection approach, we selectively shortlist features which together capturem most of the variance in the outcome variable, for a given modeling task. E.g. in the Santander dataset, just 21 (out of 370) features captured nearly ninety percent of the outcome variance for logistic regression model. Using feature selection can, and does, lead to loss of some information but the gains in implementing and, more importantly scaling, a practical model can offset that loss. However, in dimensionality reduction techniques, the object is to preserve as much variance as possible by projecting dimensional variances on to the nearest hyperplanes, and recapturing it on to a predetermined \"n\" number of components. Usually n is set at 2 or 3 for ease of visualization. \n",
    "\n",
    "A dataset having too many features, sometimes several thousands for a single observation, is said to have \"too much\" information, giving rise to the 'curse of dimensionality'. Sometimes is not possible to wrap your mind around all those features in the raw data, let alone get a good understanding of post-model outputs! Fortunately solutions in the form of algorithms exist. One such algorithm is the Principal Components Analysis (PCA). The PCA is a very popular method which uses certain kernal tricks to estimate hyperplanes and achieve dimension reductions for a given dataset. On the upside PCA can capture and preserve variances in data while reducing dimensions and making computations easier. However, the output of a PCA analysis is often difficult to interpret and understand intuitively. This makes communicating the methods of our analysis very difficult. \n"
   ]
  },
  {
   "cell_type": "code",
   "execution_count": 1,
   "metadata": {
    "collapsed": true
   },
   "outputs": [],
   "source": [
    "#Let's carry out PCA analysis\n",
    "\n",
    "import numpy as np\n",
    "import pandas as pd\n",
    "import matplotlib.pyplot as plt\n",
    "import seaborn as sns\n",
    "%matplotlib inline"
   ]
  },
  {
   "cell_type": "code",
   "execution_count": 2,
   "metadata": {
    "collapsed": true
   },
   "outputs": [],
   "source": [
    "df2 = pd.read_csv('raw_df1.csv')"
   ]
  },
  {
   "cell_type": "code",
   "execution_count": 3,
   "metadata": {},
   "outputs": [
    {
     "data": {
      "text/plain": [
       "Index(['age', 'p_days', 'Previous', 'emp_var_rate', 'cpi', 'cci', 'euribor3m',\n",
       "       'no_emp', 'duration', 'job', 'marital', 'education', 'default',\n",
       "       'housing', 'loan', 'contact', 'month', 'weekday', 'campaign',\n",
       "       'poutcome', 'yes_no'],\n",
       "      dtype='object')"
      ]
     },
     "execution_count": 3,
     "metadata": {},
     "output_type": "execute_result"
    }
   ],
   "source": [
    "df2.columns"
   ]
  },
  {
   "cell_type": "code",
   "execution_count": 7,
   "metadata": {
    "collapsed": true
   },
   "outputs": [],
   "source": [
    "from sklearn.preprocessing import StandardScaler, LabelEncoder\n",
    "labelencoder_X = LabelEncoder()\n",
    "sc = StandardScaler()"
   ]
  },
  {
   "cell_type": "code",
   "execution_count": 5,
   "metadata": {},
   "outputs": [
    {
     "name": "stdout",
     "output_type": "stream",
     "text": [
      "<class 'pandas.core.frame.DataFrame'>\n",
      "RangeIndex: 41188 entries, 0 to 41187\n",
      "Data columns (total 21 columns):\n",
      "age             41188 non-null int64\n",
      "p_days          41188 non-null int64\n",
      "Previous        41188 non-null int64\n",
      "emp_var_rate    41188 non-null float64\n",
      "cpi             41188 non-null float64\n",
      "cci             41188 non-null float64\n",
      "euribor3m       41188 non-null float64\n",
      "no_emp          41188 non-null float64\n",
      "duration        41188 non-null int64\n",
      "job             41188 non-null object\n",
      "marital         41188 non-null object\n",
      "education       41188 non-null object\n",
      "default         41188 non-null object\n",
      "housing         41188 non-null object\n",
      "loan            41188 non-null object\n",
      "contact         41188 non-null object\n",
      "month           41188 non-null object\n",
      "weekday         41188 non-null object\n",
      "campaign        41188 non-null int64\n",
      "poutcome        41188 non-null object\n",
      "yes_no          41188 non-null int64\n",
      "dtypes: float64(5), int64(6), object(10)\n",
      "memory usage: 6.6+ MB\n"
     ]
    }
   ],
   "source": [
    "df2.info()"
   ]
  },
  {
   "cell_type": "code",
   "execution_count": 8,
   "metadata": {
    "collapsed": true
   },
   "outputs": [],
   "source": [
    "df2['job'] = labelencoder_X.fit_transform(df2['job'])\n",
    "df2['marital'] = labelencoder_X.fit_transform(df2['marital'])\n",
    "df2['education'] = labelencoder_X.fit_transform(df2['education'])\n",
    "df2['default'] = labelencoder_X.fit_transform(df2['default'])\n",
    "df2['housing'] = labelencoder_X.fit_transform(df2['housing'])\n",
    "df2['loan'] = labelencoder_X.fit_transform(df2['loan'])\n",
    "df2['contact'] = labelencoder_X.fit_transform(df2['contact'])\n",
    "df2['month'] = labelencoder_X.fit_transform(df2['month'])\n",
    "df2['weekday'] = labelencoder_X.fit_transform(df2['weekday'])\n",
    "df2['poutcome'] = labelencoder_X.fit_transform(df2['poutcome'])"
   ]
  },
  {
   "cell_type": "code",
   "execution_count": 10,
   "metadata": {},
   "outputs": [
    {
     "name": "stdout",
     "output_type": "stream",
     "text": [
      "<class 'pandas.core.frame.DataFrame'>\n",
      "RangeIndex: 41188 entries, 0 to 41187\n",
      "Data columns (total 21 columns):\n",
      "age             41188 non-null int64\n",
      "p_days          41188 non-null int64\n",
      "Previous        41188 non-null int64\n",
      "emp_var_rate    41188 non-null float64\n",
      "cpi             41188 non-null float64\n",
      "cci             41188 non-null float64\n",
      "euribor3m       41188 non-null float64\n",
      "no_emp          41188 non-null float64\n",
      "duration        41188 non-null int64\n",
      "job             41188 non-null int64\n",
      "marital         41188 non-null int64\n",
      "education       41188 non-null int64\n",
      "default         41188 non-null int64\n",
      "housing         41188 non-null int64\n",
      "loan            41188 non-null int64\n",
      "contact         41188 non-null int64\n",
      "month           41188 non-null int64\n",
      "weekday         41188 non-null int64\n",
      "campaign        41188 non-null int64\n",
      "poutcome        41188 non-null int64\n",
      "yes_no          41188 non-null int64\n",
      "dtypes: float64(5), int64(16)\n",
      "memory usage: 6.6 MB\n"
     ]
    }
   ],
   "source": [
    "df2.info()"
   ]
  },
  {
   "cell_type": "code",
   "execution_count": 11,
   "metadata": {
    "collapsed": true
   },
   "outputs": [],
   "source": [
    "df2 = sc.fit_transform(df2)"
   ]
  },
  {
   "cell_type": "code",
   "execution_count": 14,
   "metadata": {},
   "outputs": [
    {
     "data": {
      "text/plain": [
       "(41188, 21)"
      ]
     },
     "execution_count": 14,
     "metadata": {},
     "output_type": "execute_result"
    }
   ],
   "source": [
    "df2.shape"
   ]
  },
  {
   "cell_type": "code",
   "execution_count": 15,
   "metadata": {
    "collapsed": true
   },
   "outputs": [],
   "source": [
    "from sklearn.decomposition import PCA"
   ]
  },
  {
   "cell_type": "code",
   "execution_count": 16,
   "metadata": {
    "collapsed": true
   },
   "outputs": [],
   "source": [
    "pca = PCA(n_components=2)"
   ]
  },
  {
   "cell_type": "code",
   "execution_count": 17,
   "metadata": {},
   "outputs": [
    {
     "data": {
      "text/plain": [
       "PCA(copy=True, iterated_power='auto', n_components=2, random_state=None,\n",
       "  svd_solver='auto', tol=0.0, whiten=False)"
      ]
     },
     "execution_count": 17,
     "metadata": {},
     "output_type": "execute_result"
    }
   ],
   "source": [
    "pca.fit(df2)"
   ]
  },
  {
   "cell_type": "code",
   "execution_count": 18,
   "metadata": {
    "collapsed": true
   },
   "outputs": [],
   "source": [
    "x_pca = pca.transform(df2)"
   ]
  },
  {
   "cell_type": "code",
   "execution_count": 20,
   "metadata": {},
   "outputs": [
    {
     "data": {
      "text/plain": [
       "array([-0.35630932, -0.35630932, -0.35630932, ..., -0.35630932,\n",
       "        2.80655022, -0.35630932])"
      ]
     },
     "execution_count": 20,
     "metadata": {},
     "output_type": "execute_result"
    }
   ],
   "source": [
    "df2[:, 20]"
   ]
  },
  {
   "cell_type": "code",
   "execution_count": 21,
   "metadata": {},
   "outputs": [
    {
     "data": {
      "text/plain": [
       "<matplotlib.collections.PathCollection at 0x2222a7a6dd8>"
      ]
     },
     "execution_count": 21,
     "metadata": {},
     "output_type": "execute_result"
    },
    {
     "data": {
      "image/png": "[encoded data removed]",
      "text/plain": [
       "<Figure size 576x432 with 1 Axes>"
      ]
     },
     "metadata": {},
     "output_type": "display_data"
    }
   ],
   "source": [
    "plt.figure(figsize=(8,6))\n",
    "plt.xlabel('First principal component')\n",
    "plt.ylabel('Second Principal Component')\n",
    "plt.scatter(x_pca[:,0],x_pca[:,1],c=(df2[:, 20]), cmap='plasma')"
   ]
  },
  {
   "cell_type": "code",
   "execution_count": 22,
   "metadata": {},
   "outputs": [
    {
     "data": {
      "text/plain": [
       "array([[-0.01381146, -0.19866901,  0.28407555, -0.45172273, -0.3544881 ,\n",
       "        -0.10211417, -0.45298601, -0.42952984,  0.04454807,  0.0141455 ,\n",
       "         0.05999533,  0.04741998, -0.13116678,  0.04148469,  0.00075956,\n",
       "        -0.25127275,  0.06062397, -0.0116588 , -0.09272483, -0.09479271,\n",
       "         0.19574078],\n",
       "       [ 0.12690216, -0.54172601,  0.16718706,  0.07355918,  0.2198413 ,\n",
       "         0.31654296,  0.06429815, -0.06999497,  0.23506283,  0.04932636,\n",
       "        -0.04862103,  0.02000061,  0.0179572 , -0.05307687, -0.0206505 ,\n",
       "         0.20098234,  0.07242157,  0.04676502, -0.02827926,  0.48986452,\n",
       "         0.38326582]])"
      ]
     },
     "execution_count": 22,
     "metadata": {},
     "output_type": "execute_result"
    }
   ],
   "source": [
    "pca.components_"
   ]
  },
  {
   "cell_type": "code",
   "execution_count": 23,
   "metadata": {
    "collapsed": true
   },
   "outputs": [],
   "source": [
    "df2_pcomp = pd.DataFrame(pca.components_, columns=[['age', 'p_days', 'Previous', 'emp_var_rate', 'cpi', 'cci', 'euribor', 'no_emp', 'duration', 'job', 'marital', 'education', 'default', 'housing', 'loan', 'contact', 'month', 'weekday', 'campaign', 'poutcome', 'yes_no']])"
   ]
  },
  {
   "cell_type": "code",
   "execution_count": 24,
   "metadata": {},
   "outputs": [
    {
     "data": {
      "image/png": "[encoded data removed]",
      "text/plain": [
       "<Figure size 1152x432 with 2 Axes>"
      ]
     },
     "metadata": {},
     "output_type": "display_data"
    }
   ],
   "source": [
    "#we can use seaborn's heatmap plot which can help us make sense of PCA transformation.\n",
    "#we see that the factors that influence the successful outcome the most are 'poutcome', 'cci', and 'duration'.\n",
    "\n",
    "plt.figure(figsize=(16,6))\n",
    "fig_pca2 = sns.heatmap(df2_pcomp,cmap='plasma',)"
   ]
  },
  {
   "cell_type": "markdown",
   "metadata": {
    "collapsed": true
   },
   "source": []
  }
 ],
 "metadata": {
  "kernelspec": {
   "display_name": "Python 3",
   "language": "python",
   "name": "python3"
  },
  "language_info": {
   "codemirror_mode": {
    "name": "ipython",
    "version": 3
   },
   "file_extension": ".py",
   "mimetype": "text/x-python",
   "name": "python",
   "nbconvert_exporter": "python",
   "pygments_lexer": "ipython3",
   "version": "3.5.5"
  },
  "varInspector": {
   "cols": {
    "lenName": 16,
    "lenType": 16,
    "lenVar": "60"
   },
   "kernels_config": {
    "python": {
     "delete_cmd_postfix": "",
     "delete_cmd_prefix": "del ",
     "library": "var_list.py",
     "varRefreshCmd": "print(var_dic_list())"
    },
    "r": {
     "delete_cmd_postfix": ") ",
     "delete_cmd_prefix": "rm(",
     "library": "var_list.r",
     "varRefreshCmd": "cat(var_dic_list()) "
    }
   },
   "types_to_exclude": [
    "module",
    "function",
    "builtin_function_or_method",
    "instance",
    "_Feature"
   ],
   "window_display": false
  }
 },
 "nbformat": 4,
 "nbformat_minor": 2
}
